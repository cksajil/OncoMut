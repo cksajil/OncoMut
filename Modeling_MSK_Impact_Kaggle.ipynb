{
 "cells": [
  {
   "cell_type": "markdown",
   "id": "a4d33e43",
   "metadata": {
    "papermill": {
     "duration": 0.017326,
     "end_time": "2022-10-30T16:20:38.711875",
     "exception": false,
     "start_time": "2022-10-30T16:20:38.694549",
     "status": "completed"
    },
    "tags": []
   },
   "source": [
    "### Import Libraries"
   ]
  },
  {
   "cell_type": "code",
   "execution_count": 1,
   "id": "a94351a8",
   "metadata": {
    "execution": {
     "iopub.execute_input": "2022-10-30T16:20:38.748659Z",
     "iopub.status.busy": "2022-10-30T16:20:38.748203Z",
     "iopub.status.idle": "2022-10-30T16:20:45.592910Z",
     "shell.execute_reply": "2022-10-30T16:20:45.591669Z"
    },
    "papermill": {
     "duration": 6.866178,
     "end_time": "2022-10-30T16:20:45.596087",
     "exception": false,
     "start_time": "2022-10-30T16:20:38.729909",
     "status": "completed"
    },
    "tags": []
   },
   "outputs": [],
   "source": [
    "import os \n",
    "import numpy as np\n",
    "import pandas as pd\n",
    "from tqdm import tqdm\n",
    "import tensorflow as tf\n",
    "import matplotlib.pyplot as plt\n",
    "from sklearn.metrics import f1_score\n",
    "from tensorflow.keras import Sequential\n",
    "from tensorflow.keras.models import Model\n",
    "from tensorflow.keras.utils import plot_model\n",
    "from sklearn.preprocessing import StandardScaler\n",
    "from sklearn.model_selection import train_test_split\n",
    "from tensorflow.keras.initializers import RandomUniform\n",
    "from tensorflow.keras.callbacks import ModelCheckpoint\n",
    "from tensorflow.keras.preprocessing.text import Tokenizer\n",
    "from tensorflow.keras.layers import Input,Dense, Embedding\n",
    "from tensorflow.keras.callbacks import Callback, TensorBoard\n",
    "from tensorflow.keras.layers import Flatten,Concatenate,Dropout\n",
    "from tensorflow.keras.preprocessing.sequence import pad_sequences"
   ]
  },
  {
   "cell_type": "markdown",
   "id": "163111a6",
   "metadata": {
    "papermill": {
     "duration": 0.01565,
     "end_time": "2022-10-30T16:20:45.627823",
     "exception": false,
     "start_time": "2022-10-30T16:20:45.612173",
     "status": "completed"
    },
    "tags": []
   },
   "source": [
    "### Make Directory Structure"
   ]
  },
  {
   "cell_type": "code",
   "execution_count": 2,
   "id": "563d71e3",
   "metadata": {
    "execution": {
     "iopub.execute_input": "2022-10-30T16:20:45.662105Z",
     "iopub.status.busy": "2022-10-30T16:20:45.661072Z",
     "iopub.status.idle": "2022-10-30T16:20:46.751180Z",
     "shell.execute_reply": "2022-10-30T16:20:46.749518Z"
    },
    "papermill": {
     "duration": 1.110156,
     "end_time": "2022-10-30T16:20:46.753970",
     "exception": false,
     "start_time": "2022-10-30T16:20:45.643814",
     "status": "completed"
    },
    "tags": []
   },
   "outputs": [],
   "source": [
    "!mkdir Saved_Models"
   ]
  },
  {
   "cell_type": "markdown",
   "id": "38f4a222",
   "metadata": {
    "papermill": {
     "duration": 0.015358,
     "end_time": "2022-10-30T16:20:46.785152",
     "exception": false,
     "start_time": "2022-10-30T16:20:46.769794",
     "status": "completed"
    },
    "tags": []
   },
   "source": [
    "### Load dataset"
   ]
  },
  {
   "cell_type": "code",
   "execution_count": 3,
   "id": "c18d2a9d",
   "metadata": {
    "execution": {
     "iopub.execute_input": "2022-10-30T16:20:46.818792Z",
     "iopub.status.busy": "2022-10-30T16:20:46.818326Z",
     "iopub.status.idle": "2022-10-30T16:20:46.925100Z",
     "shell.execute_reply": "2022-10-30T16:20:46.924066Z"
    },
    "papermill": {
     "duration": 0.127092,
     "end_time": "2022-10-30T16:20:46.927700",
     "exception": false,
     "start_time": "2022-10-30T16:20:46.800608",
     "status": "completed"
    },
    "tags": []
   },
   "outputs": [],
   "source": [
    "data = pd.read_csv('../input/msk-impact-basic/processed_data.csv')"
   ]
  },
  {
   "cell_type": "markdown",
   "id": "a56cdf2c",
   "metadata": {
    "papermill": {
     "duration": 0.015372,
     "end_time": "2022-10-30T16:20:46.959388",
     "exception": false,
     "start_time": "2022-10-30T16:20:46.944016",
     "status": "completed"
    },
    "tags": []
   },
   "source": [
    "### Drop Unnecessary Columns"
   ]
  },
  {
   "cell_type": "code",
   "execution_count": 4,
   "id": "9fce69e6",
   "metadata": {
    "execution": {
     "iopub.execute_input": "2022-10-30T16:20:46.992447Z",
     "iopub.status.busy": "2022-10-30T16:20:46.992022Z",
     "iopub.status.idle": "2022-10-30T16:20:47.009185Z",
     "shell.execute_reply": "2022-10-30T16:20:47.007979Z"
    },
    "papermill": {
     "duration": 0.036742,
     "end_time": "2022-10-30T16:20:47.011677",
     "exception": false,
     "start_time": "2022-10-30T16:20:46.974935",
     "status": "completed"
    },
    "tags": []
   },
   "outputs": [],
   "source": [
    "data = data.drop(['TissueAge_yrs',\\\n",
    "                  'AssayPerformance',\\\n",
    "                  'SpecimenType'],axis=1)"
   ]
  },
  {
   "cell_type": "code",
   "execution_count": 5,
   "id": "90d04799",
   "metadata": {
    "execution": {
     "iopub.execute_input": "2022-10-30T16:20:47.045702Z",
     "iopub.status.busy": "2022-10-30T16:20:47.044574Z",
     "iopub.status.idle": "2022-10-30T16:20:47.054895Z",
     "shell.execute_reply": "2022-10-30T16:20:47.053702Z"
    },
    "papermill": {
     "duration": 0.029954,
     "end_time": "2022-10-30T16:20:47.057395",
     "exception": false,
     "start_time": "2022-10-30T16:20:47.027441",
     "status": "completed"
    },
    "tags": []
   },
   "outputs": [
    {
     "data": {
      "text/plain": [
       "(8121, 34)"
      ]
     },
     "execution_count": 5,
     "metadata": {},
     "output_type": "execute_result"
    }
   ],
   "source": [
    "data.shape"
   ]
  },
  {
   "cell_type": "code",
   "execution_count": 6,
   "id": "cf125afc",
   "metadata": {
    "execution": {
     "iopub.execute_input": "2022-10-30T16:20:47.091054Z",
     "iopub.status.busy": "2022-10-30T16:20:47.090323Z",
     "iopub.status.idle": "2022-10-30T16:20:47.116651Z",
     "shell.execute_reply": "2022-10-30T16:20:47.115800Z"
    },
    "papermill": {
     "duration": 0.045517,
     "end_time": "2022-10-30T16:20:47.118998",
     "exception": false,
     "start_time": "2022-10-30T16:20:47.073481",
     "status": "completed"
    },
    "tags": []
   },
   "outputs": [
    {
     "data": {
      "text/html": [
       "<div>\n",
       "<style scoped>\n",
       "    .dataframe tbody tr th:only-of-type {\n",
       "        vertical-align: middle;\n",
       "    }\n",
       "\n",
       "    .dataframe tbody tr th {\n",
       "        vertical-align: top;\n",
       "    }\n",
       "\n",
       "    .dataframe thead th {\n",
       "        text-align: right;\n",
       "    }\n",
       "</style>\n",
       "<table border=\"1\" class=\"dataframe\">\n",
       "  <thead>\n",
       "    <tr style=\"text-align: right;\">\n",
       "      <th></th>\n",
       "      <th>SAMPLE_ID</th>\n",
       "      <th>SAMPLE_COLLECTION_SOURCE</th>\n",
       "      <th>SPECIMEN_TYPE</th>\n",
       "      <th>SAMPLE_COVERAGE</th>\n",
       "      <th>TUMOR_PURITY</th>\n",
       "      <th>SAMPLE_TYPE</th>\n",
       "      <th>SAMPLE_CLASS</th>\n",
       "      <th>ONCOTREE_CODE</th>\n",
       "      <th>CANCER_TYPE_DETAILED</th>\n",
       "      <th>SOMATIC_STATUS</th>\n",
       "      <th>...</th>\n",
       "      <th>MetastasisSite</th>\n",
       "      <th>TumorTypeCode</th>\n",
       "      <th>ExonicMutationCount</th>\n",
       "      <th>SNVCount</th>\n",
       "      <th>INDELCount</th>\n",
       "      <th>SCNACount</th>\n",
       "      <th>SVCount</th>\n",
       "      <th>SilentMutationCount</th>\n",
       "      <th>N</th>\n",
       "      <th>Cancer_Type</th>\n",
       "    </tr>\n",
       "  </thead>\n",
       "  <tbody>\n",
       "    <tr>\n",
       "      <th>0</th>\n",
       "      <td>P-0000023-T01-IM3</td>\n",
       "      <td>In-House</td>\n",
       "      <td>Biopsy</td>\n",
       "      <td>454</td>\n",
       "      <td>30.0</td>\n",
       "      <td>Primary</td>\n",
       "      <td>Tumor</td>\n",
       "      <td>PEMESO</td>\n",
       "      <td>Peritoneal Mesothelioma</td>\n",
       "      <td>Matched</td>\n",
       "      <td>...</td>\n",
       "      <td>Not Applicable</td>\n",
       "      <td>PEMESO</td>\n",
       "      <td>5</td>\n",
       "      <td>3</td>\n",
       "      <td>2</td>\n",
       "      <td>1</td>\n",
       "      <td>0</td>\n",
       "      <td>0</td>\n",
       "      <td>18</td>\n",
       "      <td>Mesothelioma</td>\n",
       "    </tr>\n",
       "    <tr>\n",
       "      <th>1</th>\n",
       "      <td>P-0001126-T01-IM3</td>\n",
       "      <td>In-House</td>\n",
       "      <td>Resection</td>\n",
       "      <td>574</td>\n",
       "      <td>30.0</td>\n",
       "      <td>Metastasis</td>\n",
       "      <td>Tumor</td>\n",
       "      <td>PEMESO</td>\n",
       "      <td>Peritoneal Mesothelioma</td>\n",
       "      <td>Matched</td>\n",
       "      <td>...</td>\n",
       "      <td>Bowel</td>\n",
       "      <td>PEMESO</td>\n",
       "      <td>2</td>\n",
       "      <td>1</td>\n",
       "      <td>1</td>\n",
       "      <td>1</td>\n",
       "      <td>0</td>\n",
       "      <td>1</td>\n",
       "      <td>18</td>\n",
       "      <td>Mesothelioma</td>\n",
       "    </tr>\n",
       "  </tbody>\n",
       "</table>\n",
       "<p>2 rows × 34 columns</p>\n",
       "</div>"
      ],
      "text/plain": [
       "           SAMPLE_ID SAMPLE_COLLECTION_SOURCE SPECIMEN_TYPE  SAMPLE_COVERAGE  \\\n",
       "0  P-0000023-T01-IM3                 In-House        Biopsy              454   \n",
       "1  P-0001126-T01-IM3                 In-House     Resection              574   \n",
       "\n",
       "   TUMOR_PURITY SAMPLE_TYPE SAMPLE_CLASS ONCOTREE_CODE  \\\n",
       "0          30.0     Primary        Tumor        PEMESO   \n",
       "1          30.0  Metastasis        Tumor        PEMESO   \n",
       "\n",
       "      CANCER_TYPE_DETAILED SOMATIC_STATUS  ...  MetastasisSite TumorTypeCode  \\\n",
       "0  Peritoneal Mesothelioma        Matched  ...  Not Applicable        PEMESO   \n",
       "1  Peritoneal Mesothelioma        Matched  ...           Bowel        PEMESO   \n",
       "\n",
       "  ExonicMutationCount SNVCount  INDELCount SCNACount SVCount  \\\n",
       "0                   5        3           2         1       0   \n",
       "1                   2        1           1         1       0   \n",
       "\n",
       "  SilentMutationCount   N   Cancer_Type  \n",
       "0                   0  18  Mesothelioma  \n",
       "1                   1  18  Mesothelioma  \n",
       "\n",
       "[2 rows x 34 columns]"
      ]
     },
     "execution_count": 6,
     "metadata": {},
     "output_type": "execute_result"
    }
   ],
   "source": [
    "data.head(2)"
   ]
  },
  {
   "cell_type": "markdown",
   "id": "ed25bd2b",
   "metadata": {
    "papermill": {
     "duration": 0.016199,
     "end_time": "2022-10-30T16:20:47.151699",
     "exception": false,
     "start_time": "2022-10-30T16:20:47.135500",
     "status": "completed"
    },
    "tags": []
   },
   "source": [
    "#### Convert Binary Target Variable to Numeric"
   ]
  },
  {
   "cell_type": "code",
   "execution_count": 7,
   "id": "2a346c00",
   "metadata": {
    "execution": {
     "iopub.execute_input": "2022-10-30T16:20:47.186385Z",
     "iopub.status.busy": "2022-10-30T16:20:47.185301Z",
     "iopub.status.idle": "2022-10-30T16:20:47.198914Z",
     "shell.execute_reply": "2022-10-30T16:20:47.197585Z"
    },
    "papermill": {
     "duration": 0.033787,
     "end_time": "2022-10-30T16:20:47.201576",
     "exception": false,
     "start_time": "2022-10-30T16:20:47.167789",
     "status": "completed"
    },
    "tags": []
   },
   "outputs": [],
   "source": [
    "data['SAMPLE_TYPE'].replace(['Primary', 'Metastasis'],[0, 1], inplace=True)"
   ]
  },
  {
   "cell_type": "code",
   "execution_count": 8,
   "id": "c8655fb1",
   "metadata": {
    "execution": {
     "iopub.execute_input": "2022-10-30T16:20:47.236243Z",
     "iopub.status.busy": "2022-10-30T16:20:47.235659Z",
     "iopub.status.idle": "2022-10-30T16:20:47.257348Z",
     "shell.execute_reply": "2022-10-30T16:20:47.256218Z"
    },
    "papermill": {
     "duration": 0.041617,
     "end_time": "2022-10-30T16:20:47.259477",
     "exception": false,
     "start_time": "2022-10-30T16:20:47.217860",
     "status": "completed"
    },
    "tags": []
   },
   "outputs": [
    {
     "data": {
      "text/html": [
       "<div>\n",
       "<style scoped>\n",
       "    .dataframe tbody tr th:only-of-type {\n",
       "        vertical-align: middle;\n",
       "    }\n",
       "\n",
       "    .dataframe tbody tr th {\n",
       "        vertical-align: top;\n",
       "    }\n",
       "\n",
       "    .dataframe thead th {\n",
       "        text-align: right;\n",
       "    }\n",
       "</style>\n",
       "<table border=\"1\" class=\"dataframe\">\n",
       "  <thead>\n",
       "    <tr style=\"text-align: right;\">\n",
       "      <th></th>\n",
       "      <th>SAMPLE_ID</th>\n",
       "      <th>SAMPLE_COLLECTION_SOURCE</th>\n",
       "      <th>SPECIMEN_TYPE</th>\n",
       "      <th>SAMPLE_COVERAGE</th>\n",
       "      <th>TUMOR_PURITY</th>\n",
       "      <th>SAMPLE_TYPE</th>\n",
       "      <th>SAMPLE_CLASS</th>\n",
       "      <th>ONCOTREE_CODE</th>\n",
       "      <th>CANCER_TYPE_DETAILED</th>\n",
       "      <th>SOMATIC_STATUS</th>\n",
       "      <th>...</th>\n",
       "      <th>MetastasisSite</th>\n",
       "      <th>TumorTypeCode</th>\n",
       "      <th>ExonicMutationCount</th>\n",
       "      <th>SNVCount</th>\n",
       "      <th>INDELCount</th>\n",
       "      <th>SCNACount</th>\n",
       "      <th>SVCount</th>\n",
       "      <th>SilentMutationCount</th>\n",
       "      <th>N</th>\n",
       "      <th>Cancer_Type</th>\n",
       "    </tr>\n",
       "  </thead>\n",
       "  <tbody>\n",
       "    <tr>\n",
       "      <th>0</th>\n",
       "      <td>P-0000023-T01-IM3</td>\n",
       "      <td>In-House</td>\n",
       "      <td>Biopsy</td>\n",
       "      <td>454</td>\n",
       "      <td>30.0</td>\n",
       "      <td>0</td>\n",
       "      <td>Tumor</td>\n",
       "      <td>PEMESO</td>\n",
       "      <td>Peritoneal Mesothelioma</td>\n",
       "      <td>Matched</td>\n",
       "      <td>...</td>\n",
       "      <td>Not Applicable</td>\n",
       "      <td>PEMESO</td>\n",
       "      <td>5</td>\n",
       "      <td>3</td>\n",
       "      <td>2</td>\n",
       "      <td>1</td>\n",
       "      <td>0</td>\n",
       "      <td>0</td>\n",
       "      <td>18</td>\n",
       "      <td>Mesothelioma</td>\n",
       "    </tr>\n",
       "    <tr>\n",
       "      <th>1</th>\n",
       "      <td>P-0001126-T01-IM3</td>\n",
       "      <td>In-House</td>\n",
       "      <td>Resection</td>\n",
       "      <td>574</td>\n",
       "      <td>30.0</td>\n",
       "      <td>1</td>\n",
       "      <td>Tumor</td>\n",
       "      <td>PEMESO</td>\n",
       "      <td>Peritoneal Mesothelioma</td>\n",
       "      <td>Matched</td>\n",
       "      <td>...</td>\n",
       "      <td>Bowel</td>\n",
       "      <td>PEMESO</td>\n",
       "      <td>2</td>\n",
       "      <td>1</td>\n",
       "      <td>1</td>\n",
       "      <td>1</td>\n",
       "      <td>0</td>\n",
       "      <td>1</td>\n",
       "      <td>18</td>\n",
       "      <td>Mesothelioma</td>\n",
       "    </tr>\n",
       "  </tbody>\n",
       "</table>\n",
       "<p>2 rows × 34 columns</p>\n",
       "</div>"
      ],
      "text/plain": [
       "           SAMPLE_ID SAMPLE_COLLECTION_SOURCE SPECIMEN_TYPE  SAMPLE_COVERAGE  \\\n",
       "0  P-0000023-T01-IM3                 In-House        Biopsy              454   \n",
       "1  P-0001126-T01-IM3                 In-House     Resection              574   \n",
       "\n",
       "   TUMOR_PURITY  SAMPLE_TYPE SAMPLE_CLASS ONCOTREE_CODE  \\\n",
       "0          30.0            0        Tumor        PEMESO   \n",
       "1          30.0            1        Tumor        PEMESO   \n",
       "\n",
       "      CANCER_TYPE_DETAILED SOMATIC_STATUS  ...  MetastasisSite TumorTypeCode  \\\n",
       "0  Peritoneal Mesothelioma        Matched  ...  Not Applicable        PEMESO   \n",
       "1  Peritoneal Mesothelioma        Matched  ...           Bowel        PEMESO   \n",
       "\n",
       "  ExonicMutationCount SNVCount  INDELCount SCNACount SVCount  \\\n",
       "0                   5        3           2         1       0   \n",
       "1                   2        1           1         1       0   \n",
       "\n",
       "  SilentMutationCount   N   Cancer_Type  \n",
       "0                   0  18  Mesothelioma  \n",
       "1                   1  18  Mesothelioma  \n",
       "\n",
       "[2 rows x 34 columns]"
      ]
     },
     "execution_count": 8,
     "metadata": {},
     "output_type": "execute_result"
    }
   ],
   "source": [
    "data.head(2)"
   ]
  },
  {
   "cell_type": "markdown",
   "id": "2913a22b",
   "metadata": {
    "papermill": {
     "duration": 0.016057,
     "end_time": "2022-10-30T16:20:47.292011",
     "exception": false,
     "start_time": "2022-10-30T16:20:47.275954",
     "status": "completed"
    },
    "tags": []
   },
   "source": [
    "### Convert Categorical Data Columns to Numerical"
   ]
  },
  {
   "cell_type": "code",
   "execution_count": 9,
   "id": "66465fcd",
   "metadata": {
    "execution": {
     "iopub.execute_input": "2022-10-30T16:20:47.327133Z",
     "iopub.status.busy": "2022-10-30T16:20:47.326515Z",
     "iopub.status.idle": "2022-10-30T16:20:47.371353Z",
     "shell.execute_reply": "2022-10-30T16:20:47.370134Z"
    },
    "papermill": {
     "duration": 0.065459,
     "end_time": "2022-10-30T16:20:47.373979",
     "exception": false,
     "start_time": "2022-10-30T16:20:47.308520",
     "status": "completed"
    },
    "tags": []
   },
   "outputs": [],
   "source": [
    "data['SPECIMEN_TYPE'].replace(['Resection', 'Biopsy','Cytology','CUSA'],[0, 1, 2, 3], inplace=True)\n",
    "data['SOMATIC_STATUS'].replace(['Matched', 'Unmatched'],[0, 1], inplace=True)\n",
    "data['SEX'].replace(['Male', 'Female'],[0, 1], inplace=True)\n",
    "data['SMOKING_HISTORY'].replace(['Prev/Curr Smoker', 'Never','Unknown'],[0, 1, 2], inplace=True)\n",
    "data['SampleType'].replace(['FFPE', 'DNA', 'Cell Pellet','FNA', 'Other'],[0, 1, 2, 3, 4], inplace=True)\n",
    "data['SAMPLE_COLLECTION_SOURCE'].replace(['In-House','Outside'],[0, 1], inplace=True)\n",
    "data['VITAL_STATUS'].replace(['ALIVE','DECEASED'],[0, 1], inplace=True)"
   ]
  },
  {
   "cell_type": "markdown",
   "id": "73126344",
   "metadata": {
    "papermill": {
     "duration": 0.015885,
     "end_time": "2022-10-30T16:20:47.406282",
     "exception": false,
     "start_time": "2022-10-30T16:20:47.390397",
     "status": "completed"
    },
    "tags": []
   },
   "source": [
    "### Try Feature Engineering"
   ]
  },
  {
   "cell_type": "code",
   "execution_count": 10,
   "id": "2658d0b0",
   "metadata": {
    "execution": {
     "iopub.execute_input": "2022-10-30T16:20:47.440454Z",
     "iopub.status.busy": "2022-10-30T16:20:47.440046Z",
     "iopub.status.idle": "2022-10-30T16:20:47.445153Z",
     "shell.execute_reply": "2022-10-30T16:20:47.444115Z"
    },
    "papermill": {
     "duration": 0.025029,
     "end_time": "2022-10-30T16:20:47.447435",
     "exception": false,
     "start_time": "2022-10-30T16:20:47.422406",
     "status": "completed"
    },
    "tags": []
   },
   "outputs": [],
   "source": [
    "sample_ids = data['SAMPLE_ID'].tolist()"
   ]
  },
  {
   "cell_type": "code",
   "execution_count": 11,
   "id": "468db1fd",
   "metadata": {
    "execution": {
     "iopub.execute_input": "2022-10-30T16:20:47.482180Z",
     "iopub.status.busy": "2022-10-30T16:20:47.481499Z",
     "iopub.status.idle": "2022-10-30T16:20:48.360253Z",
     "shell.execute_reply": "2022-10-30T16:20:48.359238Z"
    },
    "papermill": {
     "duration": 0.899344,
     "end_time": "2022-10-30T16:20:48.362999",
     "exception": false,
     "start_time": "2022-10-30T16:20:47.463655",
     "status": "completed"
    },
    "tags": []
   },
   "outputs": [],
   "source": [
    "data_mutations = pd.read_csv('../input/msk-impact-basic/data_mutations.txt',\\\n",
    "                             sep='\\t',\\\n",
    "                             skiprows=1,\\\n",
    "                             low_memory=False)"
   ]
  },
  {
   "cell_type": "code",
   "execution_count": 12,
   "id": "e4e0c5cc",
   "metadata": {
    "execution": {
     "iopub.execute_input": "2022-10-30T16:20:48.397672Z",
     "iopub.status.busy": "2022-10-30T16:20:48.397214Z",
     "iopub.status.idle": "2022-10-30T16:21:42.444103Z",
     "shell.execute_reply": "2022-10-30T16:21:42.442780Z"
    },
    "papermill": {
     "duration": 54.066941,
     "end_time": "2022-10-30T16:21:42.446351",
     "exception": false,
     "start_time": "2022-10-30T16:20:48.379410",
     "status": "completed"
    },
    "tags": []
   },
   "outputs": [
    {
     "name": "stderr",
     "output_type": "stream",
     "text": [
      "100%|██████████| 8121/8121 [00:54<00:00, 150.30it/s]\n"
     ]
    }
   ],
   "source": [
    "t_ref_counts = []\n",
    "t_alt_counts = []\n",
    "protein_poss = []\n",
    "codon_counts = []\n",
    "pos_diffs = []\n",
    "for sample_id in tqdm(sample_ids):\n",
    "    segment = data_mutations[data_mutations['Tumor_Sample_Barcode']==sample_id]\n",
    "    pos_diff = segment['End_Position']- segment['Start_Position']\n",
    "    pos_diff = np.sum(pos_diff)\n",
    "    codons  = segment['Codons'].values\n",
    "    codons = [x for x in codons if str(x) != 'nan']\n",
    "    t_ref = np.mean(segment['t_ref_count'])\n",
    "    t_alt = np.mean(segment['t_alt_count'])\n",
    "    protein_pos = np.mean(segment['Protein_position'])\n",
    "    t_ref_counts.append(t_ref) \n",
    "    t_alt_counts.append(t_alt) \n",
    "    protein_poss.append(protein_pos)\n",
    "    codon_counts.append(len(codons))\n",
    "    pos_diffs.append(pos_diff)"
   ]
  },
  {
   "cell_type": "markdown",
   "id": "ae025f32",
   "metadata": {
    "papermill": {
     "duration": 0.045924,
     "end_time": "2022-10-30T16:21:42.540176",
     "exception": false,
     "start_time": "2022-10-30T16:21:42.494252",
     "status": "completed"
    },
    "tags": []
   },
   "source": [
    "### Add New Features to Dataset"
   ]
  },
  {
   "cell_type": "code",
   "execution_count": 13,
   "id": "0fab8aa0",
   "metadata": {
    "execution": {
     "iopub.execute_input": "2022-10-30T16:21:42.636601Z",
     "iopub.status.busy": "2022-10-30T16:21:42.635524Z",
     "iopub.status.idle": "2022-10-30T16:21:42.653444Z",
     "shell.execute_reply": "2022-10-30T16:21:42.652237Z"
    },
    "papermill": {
     "duration": 0.068761,
     "end_time": "2022-10-30T16:21:42.655703",
     "exception": false,
     "start_time": "2022-10-30T16:21:42.586942",
     "status": "completed"
    },
    "tags": []
   },
   "outputs": [],
   "source": [
    "data['t_ref_counts'] = t_ref_counts\n",
    "data['t_alt_counts'] = t_alt_counts\n",
    "data['protein_pos'] = protein_poss\n",
    "data['codon_counts'] = codon_counts\n",
    "data['pos_diffs'] = pos_diffs"
   ]
  },
  {
   "cell_type": "markdown",
   "id": "2b4053f8",
   "metadata": {
    "papermill": {
     "duration": 0.045878,
     "end_time": "2022-10-30T16:21:42.748387",
     "exception": false,
     "start_time": "2022-10-30T16:21:42.702509",
     "status": "completed"
    },
    "tags": []
   },
   "source": [
    "### Separate Features and Labels"
   ]
  },
  {
   "cell_type": "code",
   "execution_count": 14,
   "id": "c8d08a75",
   "metadata": {
    "execution": {
     "iopub.execute_input": "2022-10-30T16:21:42.843179Z",
     "iopub.status.busy": "2022-10-30T16:21:42.842788Z",
     "iopub.status.idle": "2022-10-30T16:21:42.851398Z",
     "shell.execute_reply": "2022-10-30T16:21:42.850609Z"
    },
    "papermill": {
     "duration": 0.05898,
     "end_time": "2022-10-30T16:21:42.853474",
     "exception": false,
     "start_time": "2022-10-30T16:21:42.794494",
     "status": "completed"
    },
    "tags": []
   },
   "outputs": [],
   "source": [
    "X = data.drop(['SAMPLE_TYPE'], axis=1)\n",
    "y = data['SAMPLE_TYPE']"
   ]
  },
  {
   "cell_type": "markdown",
   "id": "dc3aa474",
   "metadata": {
    "papermill": {
     "duration": 0.045856,
     "end_time": "2022-10-30T16:21:42.945705",
     "exception": false,
     "start_time": "2022-10-30T16:21:42.899849",
     "status": "completed"
    },
    "tags": []
   },
   "source": [
    "### Train and Validation Split"
   ]
  },
  {
   "cell_type": "code",
   "execution_count": 15,
   "id": "5c2ebbd6",
   "metadata": {
    "execution": {
     "iopub.execute_input": "2022-10-30T16:21:43.039562Z",
     "iopub.status.busy": "2022-10-30T16:21:43.039127Z",
     "iopub.status.idle": "2022-10-30T16:21:43.055897Z",
     "shell.execute_reply": "2022-10-30T16:21:43.054773Z"
    },
    "papermill": {
     "duration": 0.067194,
     "end_time": "2022-10-30T16:21:43.058549",
     "exception": false,
     "start_time": "2022-10-30T16:21:42.991355",
     "status": "completed"
    },
    "tags": []
   },
   "outputs": [],
   "source": [
    "X_train, X_test, y_train, y_test = train_test_split(X, y, test_size=0.30, random_state=45, stratify=y)"
   ]
  },
  {
   "cell_type": "markdown",
   "id": "0f22873b",
   "metadata": {
    "papermill": {
     "duration": 0.046105,
     "end_time": "2022-10-30T16:21:43.150863",
     "exception": false,
     "start_time": "2022-10-30T16:21:43.104758",
     "status": "completed"
    },
    "tags": []
   },
   "source": [
    "### Create A Dataframe with only Numerical Features"
   ]
  },
  {
   "cell_type": "code",
   "execution_count": 16,
   "id": "017f29f9",
   "metadata": {
    "execution": {
     "iopub.execute_input": "2022-10-30T16:21:43.244773Z",
     "iopub.status.busy": "2022-10-30T16:21:43.244358Z",
     "iopub.status.idle": "2022-10-30T16:21:43.278978Z",
     "shell.execute_reply": "2022-10-30T16:21:43.277950Z"
    },
    "papermill": {
     "duration": 0.084881,
     "end_time": "2022-10-30T16:21:43.281805",
     "exception": false,
     "start_time": "2022-10-30T16:21:43.196924",
     "status": "completed"
    },
    "tags": []
   },
   "outputs": [],
   "source": [
    "numericalFeats = X.select_dtypes(include=[np.number]).columns\n",
    "\n",
    "X_train_num = X_train[numericalFeats]\n",
    "X_train_num = X_train_num.fillna(X_train_num.mean())\n",
    "standard_scaler = StandardScaler()\n",
    "X_train_num = standard_scaler.fit_transform(X_train_num)\n",
    "\n",
    "X_test_num = X_test[numericalFeats]\n",
    "X_test_num = X_test_num.fillna(X_test_num.mean())\n",
    "standard_scaler = StandardScaler()\n",
    "X_test_num = standard_scaler.fit_transform(X_test_num)"
   ]
  },
  {
   "cell_type": "markdown",
   "id": "225b13ac",
   "metadata": {
    "papermill": {
     "duration": 0.045626,
     "end_time": "2022-10-30T16:21:43.374541",
     "exception": false,
     "start_time": "2022-10-30T16:21:43.328915",
     "status": "completed"
    },
    "tags": []
   },
   "source": [
    "### Set Training Parameter Settings"
   ]
  },
  {
   "cell_type": "code",
   "execution_count": 17,
   "id": "38aed8ab",
   "metadata": {
    "execution": {
     "iopub.execute_input": "2022-10-30T16:21:43.468343Z",
     "iopub.status.busy": "2022-10-30T16:21:43.467964Z",
     "iopub.status.idle": "2022-10-30T16:21:43.472954Z",
     "shell.execute_reply": "2022-10-30T16:21:43.471995Z"
    },
    "papermill": {
     "duration": 0.054439,
     "end_time": "2022-10-30T16:21:43.474883",
     "exception": false,
     "start_time": "2022-10-30T16:21:43.420444",
     "status": "completed"
    },
    "tags": []
   },
   "outputs": [],
   "source": [
    "epochs = 30\n",
    "batch_size = 64\n",
    "learning_rate = 0.01\n",
    "num_classes = 2"
   ]
  },
  {
   "cell_type": "markdown",
   "id": "06bf885b",
   "metadata": {
    "papermill": {
     "duration": 0.046766,
     "end_time": "2022-10-30T16:21:43.567681",
     "exception": false,
     "start_time": "2022-10-30T16:21:43.520915",
     "status": "completed"
    },
    "tags": []
   },
   "source": [
    "### Define Custom Callbacks"
   ]
  },
  {
   "cell_type": "code",
   "execution_count": 18,
   "id": "51285027",
   "metadata": {
    "execution": {
     "iopub.execute_input": "2022-10-30T16:21:43.663507Z",
     "iopub.status.busy": "2022-10-30T16:21:43.663137Z",
     "iopub.status.idle": "2022-10-30T16:21:43.668711Z",
     "shell.execute_reply": "2022-10-30T16:21:43.667901Z"
    },
    "papermill": {
     "duration": 0.055896,
     "end_time": "2022-10-30T16:21:43.670945",
     "exception": false,
     "start_time": "2022-10-30T16:21:43.615049",
     "status": "completed"
    },
    "tags": []
   },
   "outputs": [],
   "source": [
    "# Callback code for Early stopping\n",
    "class EarlyStopper(Callback):\n",
    "    def __init__(self, target):\n",
    "        super(EarlyStopper, self).__init__()\n",
    "        self.target = target\n",
    "    def on_epoch_end(self, epoch, logs={}):\n",
    "        acc = logs['val_accuracy']\n",
    "        if acc >= self.target:\n",
    "            self.model.stop_training = True"
   ]
  },
  {
   "cell_type": "code",
   "execution_count": 19,
   "id": "f38795b3",
   "metadata": {
    "execution": {
     "iopub.execute_input": "2022-10-30T16:21:43.765582Z",
     "iopub.status.busy": "2022-10-30T16:21:43.765138Z",
     "iopub.status.idle": "2022-10-30T16:21:43.776707Z",
     "shell.execute_reply": "2022-10-30T16:21:43.775551Z"
    },
    "papermill": {
     "duration": 0.061433,
     "end_time": "2022-10-30T16:21:43.778969",
     "exception": false,
     "start_time": "2022-10-30T16:21:43.717536",
     "status": "completed"
    },
    "tags": []
   },
   "outputs": [],
   "source": [
    "# Callback for micro-f1 score\n",
    "class LossHistory(tf.keras.callbacks.Callback):\n",
    "    \n",
    "    def __init__(self,validation_data):\n",
    "        self.x_test = validation_data[0]\n",
    "        self.y_test= validation_data[1]\n",
    "        \n",
    "    def on_train_begin(self, logs={}):\n",
    "        ## on begin of training, we are creating a instance varible called history\n",
    "        ## it is a dict with keys [loss, acc, val_loss, val_acc]\n",
    "        self.history={'loss': [],'accuracy': [],'val_loss': [],'val_accuracy': [],'val_f1': []}\n",
    "        \n",
    "    def on_epoch_end(self, epoch, logs={}):\n",
    "        ## on end of each epoch, we will get logs and update the self.history dict\n",
    "        self.history['loss'].append(logs.get('loss'))\n",
    "        self.history['accuracy'].append(logs.get('accuracy'))\n",
    "      \n",
    "        if logs.get('val_loss', -1) != -1:\n",
    "            self.history['val_loss'].append(logs.get('val_loss'))\n",
    "        if logs.get('val_accuracy', -1) != -1:\n",
    "            self.history['val_accuracy'].append(logs.get('val_accuracy'))\n",
    "       \n",
    "        y_pred= self.model.predict(self.x_test)\n",
    "        y_label_pred=np.argmax(y_pred,axis=1)\n",
    "        y_test_arg = self.y_test\n",
    "        \n",
    "        F1 = f1_score(y_test_arg, y_label_pred, average='micro')\n",
    "        self.history['val_f1'].append(F1)\n",
    "        print(' Val F1 Score : ', np.round(F1,4))"
   ]
  },
  {
   "cell_type": "markdown",
   "id": "658a811d",
   "metadata": {
    "papermill": {
     "duration": 0.046298,
     "end_time": "2022-10-30T16:21:43.871809",
     "exception": false,
     "start_time": "2022-10-30T16:21:43.825511",
     "status": "completed"
    },
    "tags": []
   },
   "source": [
    "### Initialize Optimizers"
   ]
  },
  {
   "cell_type": "code",
   "execution_count": 20,
   "id": "0617954a",
   "metadata": {
    "execution": {
     "iopub.execute_input": "2022-10-30T16:21:43.966000Z",
     "iopub.status.busy": "2022-10-30T16:21:43.965584Z",
     "iopub.status.idle": "2022-10-30T16:21:43.978968Z",
     "shell.execute_reply": "2022-10-30T16:21:43.978109Z"
    },
    "papermill": {
     "duration": 0.063167,
     "end_time": "2022-10-30T16:21:43.981175",
     "exception": false,
     "start_time": "2022-10-30T16:21:43.918008",
     "status": "completed"
    },
    "tags": []
   },
   "outputs": [],
   "source": [
    "adamopt = tf.keras.optimizers.Adam(learning_rate=learning_rate, beta_1=0.9, beta_2=0.999, epsilon=1e-8)"
   ]
  },
  {
   "cell_type": "markdown",
   "id": "4ddb3dcc",
   "metadata": {
    "papermill": {
     "duration": 0.047005,
     "end_time": "2022-10-30T16:21:44.075593",
     "exception": false,
     "start_time": "2022-10-30T16:21:44.028588",
     "status": "completed"
    },
    "tags": []
   },
   "source": [
    "### Define Model 1 Architecture"
   ]
  },
  {
   "cell_type": "code",
   "execution_count": 21,
   "id": "e21563fb",
   "metadata": {
    "execution": {
     "iopub.execute_input": "2022-10-30T16:21:44.171430Z",
     "iopub.status.busy": "2022-10-30T16:21:44.171055Z",
     "iopub.status.idle": "2022-10-30T16:21:44.311662Z",
     "shell.execute_reply": "2022-10-30T16:21:44.310510Z"
    },
    "papermill": {
     "duration": 0.191625,
     "end_time": "2022-10-30T16:21:44.314269",
     "exception": false,
     "start_time": "2022-10-30T16:21:44.122644",
     "status": "completed"
    },
    "tags": []
   },
   "outputs": [
    {
     "name": "stderr",
     "output_type": "stream",
     "text": [
      "2022-10-30 16:21:44.205675: I tensorflow/core/common_runtime/process_util.cc:146] Creating new thread pool with default inter op setting: 2. Tune using inter_op_parallelism_threads for best performance.\n"
     ]
    }
   ],
   "source": [
    "model_1 = Sequential()\n",
    "\n",
    "model_1.add(Dense(64,\\\n",
    "                input_shape=(X_train_num.shape[1],), \\\n",
    "                activation='relu'))\n",
    "\n",
    "model_1.add(Dense(128,\\\n",
    "                kernel_initializer=RandomUniform(minval=-0.05, maxval=0.05),\\\n",
    "                activation=tf.nn.relu))\n",
    "\n",
    "model_1.add(Dense (128,\\\n",
    "                 activation = 'relu'))\n",
    "\n",
    "model_1.add(Dense (64,\\\n",
    "                 activation = 'relu'))\n",
    "\n",
    "model_1.add(Dense(32,\\\n",
    "                activation='relu'))\n",
    "\n",
    "model_1.add(Dense(2,\\\n",
    "                activation='softmax'))"
   ]
  },
  {
   "cell_type": "markdown",
   "id": "7b8edf6b",
   "metadata": {
    "papermill": {
     "duration": 0.044952,
     "end_time": "2022-10-30T16:21:44.405416",
     "exception": false,
     "start_time": "2022-10-30T16:21:44.360464",
     "status": "completed"
    },
    "tags": []
   },
   "source": [
    "### Initialize History Callback"
   ]
  },
  {
   "cell_type": "code",
   "execution_count": 22,
   "id": "a2305ba6",
   "metadata": {
    "execution": {
     "iopub.execute_input": "2022-10-30T16:21:44.501060Z",
     "iopub.status.busy": "2022-10-30T16:21:44.499886Z",
     "iopub.status.idle": "2022-10-30T16:21:44.504824Z",
     "shell.execute_reply": "2022-10-30T16:21:44.504026Z"
    },
    "papermill": {
     "duration": 0.05515,
     "end_time": "2022-10-30T16:21:44.507324",
     "exception": false,
     "start_time": "2022-10-30T16:21:44.452174",
     "status": "completed"
    },
    "tags": []
   },
   "outputs": [],
   "source": [
    "history_callback_1 = LossHistory(validation_data=([X_test_num, y_test]))  "
   ]
  },
  {
   "cell_type": "markdown",
   "id": "9de344bd",
   "metadata": {
    "papermill": {
     "duration": 0.046261,
     "end_time": "2022-10-30T16:21:44.600330",
     "exception": false,
     "start_time": "2022-10-30T16:21:44.554069",
     "status": "completed"
    },
    "tags": []
   },
   "source": [
    "### Model Persistence"
   ]
  },
  {
   "cell_type": "code",
   "execution_count": 23,
   "id": "74e40b0d",
   "metadata": {
    "execution": {
     "iopub.execute_input": "2022-10-30T16:21:44.696497Z",
     "iopub.status.busy": "2022-10-30T16:21:44.695801Z",
     "iopub.status.idle": "2022-10-30T16:21:44.701036Z",
     "shell.execute_reply": "2022-10-30T16:21:44.699999Z"
    },
    "papermill": {
     "duration": 0.054744,
     "end_time": "2022-10-30T16:21:44.703134",
     "exception": false,
     "start_time": "2022-10-30T16:21:44.648390",
     "status": "completed"
    },
    "tags": []
   },
   "outputs": [],
   "source": [
    "filepath_1= \"./Saved_Models/best_model_1.hdf5\"\n",
    "checkpoint_1 = ModelCheckpoint(filepath=filepath_1, monitor='val_accuracy',verbose=1, save_best_only=True, mode='auto')"
   ]
  },
  {
   "cell_type": "markdown",
   "id": "e295446e",
   "metadata": {
    "papermill": {
     "duration": 0.0459,
     "end_time": "2022-10-30T16:21:44.795142",
     "exception": false,
     "start_time": "2022-10-30T16:21:44.749242",
     "status": "completed"
    },
    "tags": []
   },
   "source": [
    "### TensorBoard Setup"
   ]
  },
  {
   "cell_type": "code",
   "execution_count": 24,
   "id": "c4724a20",
   "metadata": {
    "execution": {
     "iopub.execute_input": "2022-10-30T16:21:44.888069Z",
     "iopub.status.busy": "2022-10-30T16:21:44.887680Z",
     "iopub.status.idle": "2022-10-30T16:21:44.897574Z",
     "shell.execute_reply": "2022-10-30T16:21:44.896116Z"
    },
    "papermill": {
     "duration": 0.059129,
     "end_time": "2022-10-30T16:21:44.900100",
     "exception": false,
     "start_time": "2022-10-30T16:21:44.840971",
     "status": "completed"
    },
    "tags": []
   },
   "outputs": [
    {
     "name": "stderr",
     "output_type": "stream",
     "text": [
      "2022-10-30 16:21:44.892255: I tensorflow/core/profiler/lib/profiler_session.cc:131] Profiler session initializing.\n",
      "2022-10-30 16:21:44.892582: I tensorflow/core/profiler/lib/profiler_session.cc:146] Profiler session started.\n",
      "2022-10-30 16:21:44.893675: I tensorflow/core/profiler/lib/profiler_session.cc:164] Profiler session tear down.\n"
     ]
    }
   ],
   "source": [
    "log_dir_1 = os.path.join(\"logs\",'fits','Model_1')\n",
    "tfcb_1 = TensorBoard(log_dir=log_dir_1,histogram_freq=1,write_graph=True)"
   ]
  },
  {
   "cell_type": "markdown",
   "id": "da24c4da",
   "metadata": {
    "papermill": {
     "duration": 0.045566,
     "end_time": "2022-10-30T16:21:44.991962",
     "exception": false,
     "start_time": "2022-10-30T16:21:44.946396",
     "status": "completed"
    },
    "tags": []
   },
   "source": [
    "### Model 1 Compilation"
   ]
  },
  {
   "cell_type": "code",
   "execution_count": 25,
   "id": "17309031",
   "metadata": {
    "execution": {
     "iopub.execute_input": "2022-10-30T16:21:45.086291Z",
     "iopub.status.busy": "2022-10-30T16:21:45.085915Z",
     "iopub.status.idle": "2022-10-30T16:21:45.101764Z",
     "shell.execute_reply": "2022-10-30T16:21:45.100221Z"
    },
    "papermill": {
     "duration": 0.065825,
     "end_time": "2022-10-30T16:21:45.104240",
     "exception": false,
     "start_time": "2022-10-30T16:21:45.038415",
     "status": "completed"
    },
    "tags": []
   },
   "outputs": [
    {
     "name": "stdout",
     "output_type": "stream",
     "text": [
      "Model: \"sequential\"\n",
      "_________________________________________________________________\n",
      "Layer (type)                 Output Shape              Param #   \n",
      "=================================================================\n",
      "dense (Dense)                (None, 64)                1600      \n",
      "_________________________________________________________________\n",
      "dense_1 (Dense)              (None, 128)               8320      \n",
      "_________________________________________________________________\n",
      "dense_2 (Dense)              (None, 128)               16512     \n",
      "_________________________________________________________________\n",
      "dense_3 (Dense)              (None, 64)                8256      \n",
      "_________________________________________________________________\n",
      "dense_4 (Dense)              (None, 32)                2080      \n",
      "_________________________________________________________________\n",
      "dense_5 (Dense)              (None, 2)                 66        \n",
      "=================================================================\n",
      "Total params: 36,834\n",
      "Trainable params: 36,834\n",
      "Non-trainable params: 0\n",
      "_________________________________________________________________\n"
     ]
    }
   ],
   "source": [
    "model_1.compile(optimizer=adamopt,\\\n",
    "              loss = tf.keras.losses.sparse_categorical_crossentropy,\\\n",
    "              metrics=['accuracy'])\n",
    "\n",
    "model_1.summary()"
   ]
  },
  {
   "cell_type": "markdown",
   "id": "6ec74da9",
   "metadata": {
    "papermill": {
     "duration": 0.045961,
     "end_time": "2022-10-30T16:21:45.196515",
     "exception": false,
     "start_time": "2022-10-30T16:21:45.150554",
     "status": "completed"
    },
    "tags": []
   },
   "source": [
    "### Visualize Model 1 Architecture"
   ]
  },
  {
   "cell_type": "code",
   "execution_count": 26,
   "id": "a7426cfa",
   "metadata": {
    "execution": {
     "iopub.execute_input": "2022-10-30T16:21:45.290845Z",
     "iopub.status.busy": "2022-10-30T16:21:45.290441Z",
     "iopub.status.idle": "2022-10-30T16:21:46.420374Z",
     "shell.execute_reply": "2022-10-30T16:21:46.418812Z"
    },
    "papermill": {
     "duration": 1.180147,
     "end_time": "2022-10-30T16:21:46.423161",
     "exception": false,
     "start_time": "2022-10-30T16:21:45.243014",
     "status": "completed"
    },
    "tags": []
   },
   "outputs": [
    {
     "data": {
      "image/png": "[encoded data removed]",
      "text/plain": [
       "<IPython.core.display.Image object>"
      ]
     },
     "execution_count": 26,
     "metadata": {},
     "output_type": "execute_result"
    }
   ],
   "source": [
    "plot_model(model_1)"
   ]
  },
  {
   "cell_type": "code",
   "execution_count": 27,
   "id": "7c0dcacc",
   "metadata": {
    "execution": {
     "iopub.execute_input": "2022-10-30T16:21:46.521061Z",
     "iopub.status.busy": "2022-10-30T16:21:46.520379Z",
     "iopub.status.idle": "2022-10-30T16:21:46.525291Z",
     "shell.execute_reply": "2022-10-30T16:21:46.524261Z"
    },
    "papermill": {
     "duration": 0.057035,
     "end_time": "2022-10-30T16:21:46.527729",
     "exception": false,
     "start_time": "2022-10-30T16:21:46.470694",
     "status": "completed"
    },
    "tags": []
   },
   "outputs": [],
   "source": [
    "mycallbacks_1 = [history_callback_1,\\\n",
    "                 checkpoint_1,\\\n",
    "                 tfcb_1]"
   ]
  },
  {
   "cell_type": "markdown",
   "id": "98bfa6e4",
   "metadata": {
    "papermill": {
     "duration": 0.047144,
     "end_time": "2022-10-30T16:21:46.622634",
     "exception": false,
     "start_time": "2022-10-30T16:21:46.575490",
     "status": "completed"
    },
    "tags": []
   },
   "source": [
    "### Model 1 Training"
   ]
  },
  {
   "cell_type": "code",
   "execution_count": 28,
   "id": "85eda4ea",
   "metadata": {
    "execution": {
     "iopub.execute_input": "2022-10-30T16:21:46.718671Z",
     "iopub.status.busy": "2022-10-30T16:21:46.717888Z",
     "iopub.status.idle": "2022-10-30T16:22:05.591626Z",
     "shell.execute_reply": "2022-10-30T16:22:05.590300Z"
    },
    "papermill": {
     "duration": 18.924662,
     "end_time": "2022-10-30T16:22:05.594116",
     "exception": false,
     "start_time": "2022-10-30T16:21:46.669454",
     "status": "completed"
    },
    "tags": []
   },
   "outputs": [
    {
     "name": "stderr",
     "output_type": "stream",
     "text": [
      "2022-10-30 16:21:46.831819: I tensorflow/compiler/mlir/mlir_graph_optimization_pass.cc:185] None of the MLIR Optimization Passes are enabled (registered 2)\n"
     ]
    },
    {
     "name": "stdout",
     "output_type": "stream",
     "text": [
      "Epoch 1/30\n",
      "36/89 [===========>..................] - ETA: 0s - loss: 0.6751 - accuracy: 0.5864"
     ]
    },
    {
     "name": "stderr",
     "output_type": "stream",
     "text": [
      "2022-10-30 16:21:47.646487: I tensorflow/core/profiler/lib/profiler_session.cc:131] Profiler session initializing.\n",
      "2022-10-30 16:21:47.646683: I tensorflow/core/profiler/lib/profiler_session.cc:146] Profiler session started.\n",
      "2022-10-30 16:21:47.655078: I tensorflow/core/profiler/lib/profiler_session.cc:66] Profiler session collecting data.\n",
      "2022-10-30 16:21:47.661564: I tensorflow/core/profiler/lib/profiler_session.cc:164] Profiler session tear down.\n",
      "2022-10-30 16:21:47.673043: I tensorflow/core/profiler/rpc/client/save_profile.cc:136] Creating directory: logs/fits/Model_1/train/plugins/profile/2022_10_30_16_21_47\n",
      "\n",
      "2022-10-30 16:21:47.674327: I tensorflow/core/profiler/rpc/client/save_profile.cc:142] Dumped gzipped tool data for trace.json.gz to logs/fits/Model_1/train/plugins/profile/2022_10_30_16_21_47/1be5dcaa276b.trace.json.gz\n",
      "2022-10-30 16:21:47.688087: I tensorflow/core/profiler/rpc/client/save_profile.cc:136] Creating directory: logs/fits/Model_1/train/plugins/profile/2022_10_30_16_21_47\n",
      "\n",
      "2022-10-30 16:21:47.688946: I tensorflow/core/profiler/rpc/client/save_profile.cc:142] Dumped gzipped tool data for memory_profile.json.gz to logs/fits/Model_1/train/plugins/profile/2022_10_30_16_21_47/1be5dcaa276b.memory_profile.json.gz\n",
      "2022-10-30 16:21:47.689274: I tensorflow/core/profiler/rpc/client/capture_profile.cc:251] Creating directory: logs/fits/Model_1/train/plugins/profile/2022_10_30_16_21_47\n",
      "Dumped tool data for xplane.pb to logs/fits/Model_1/train/plugins/profile/2022_10_30_16_21_47/1be5dcaa276b.xplane.pb\n",
      "Dumped tool data for overview_page.pb to logs/fits/Model_1/train/plugins/profile/2022_10_30_16_21_47/1be5dcaa276b.overview_page.pb\n",
      "Dumped tool data for input_pipeline.pb to logs/fits/Model_1/train/plugins/profile/2022_10_30_16_21_47/1be5dcaa276b.input_pipeline.pb\n",
      "Dumped tool data for tensorflow_stats.pb to logs/fits/Model_1/train/plugins/profile/2022_10_30_16_21_47/1be5dcaa276b.tensorflow_stats.pb\n",
      "Dumped tool data for kernel_stats.pb to logs/fits/Model_1/train/plugins/profile/2022_10_30_16_21_47/1be5dcaa276b.kernel_stats.pb\n",
      "\n"
     ]
    },
    {
     "name": "stdout",
     "output_type": "stream",
     "text": [
      "89/89 [==============================] - 1s 7ms/step - loss: 0.6471 - accuracy: 0.6272 - val_loss: 0.6586 - val_accuracy: 0.6332\n",
      " Val F1 Score :  0.6332\n",
      "\n",
      "Epoch 00001: val_accuracy improved from -inf to 0.63316, saving model to ./Saved_Models/best_model_1.hdf5\n",
      "Epoch 2/30\n",
      "89/89 [==============================] - 0s 5ms/step - loss: 0.6223 - accuracy: 0.6571 - val_loss: 0.6239 - val_accuracy: 0.6627\n",
      " Val F1 Score :  0.6627\n",
      "\n",
      "Epoch 00002: val_accuracy improved from 0.63316 to 0.66270, saving model to ./Saved_Models/best_model_1.hdf5\n",
      "Epoch 3/30\n",
      "89/89 [==============================] - 0s 4ms/step - loss: 0.6164 - accuracy: 0.6638 - val_loss: 0.6272 - val_accuracy: 0.6524\n",
      " Val F1 Score :  0.6524\n",
      "\n",
      "Epoch 00003: val_accuracy did not improve from 0.66270\n",
      "Epoch 4/30\n",
      "89/89 [==============================] - 0s 4ms/step - loss: 0.6025 - accuracy: 0.6738 - val_loss: 0.6215 - val_accuracy: 0.6529\n",
      " Val F1 Score :  0.6529\n",
      "\n",
      "Epoch 00004: val_accuracy did not improve from 0.66270\n",
      "Epoch 5/30\n",
      "89/89 [==============================] - 0s 4ms/step - loss: 0.5990 - accuracy: 0.6726 - val_loss: 0.6306 - val_accuracy: 0.6557\n",
      " Val F1 Score :  0.6557\n",
      "\n",
      "Epoch 00005: val_accuracy did not improve from 0.66270\n",
      "Epoch 6/30\n",
      "89/89 [==============================] - 0s 4ms/step - loss: 0.5952 - accuracy: 0.6802 - val_loss: 0.6311 - val_accuracy: 0.6348\n",
      " Val F1 Score :  0.6348\n",
      "\n",
      "Epoch 00006: val_accuracy did not improve from 0.66270\n",
      "Epoch 7/30\n",
      "89/89 [==============================] - 1s 7ms/step - loss: 0.5905 - accuracy: 0.6868 - val_loss: 0.6175 - val_accuracy: 0.6623\n",
      " Val F1 Score :  0.6623\n",
      "\n",
      "Epoch 00007: val_accuracy did not improve from 0.66270\n",
      "Epoch 8/30\n",
      "89/89 [==============================] - 0s 4ms/step - loss: 0.5889 - accuracy: 0.6860 - val_loss: 0.6287 - val_accuracy: 0.6615\n",
      " Val F1 Score :  0.6615\n",
      "\n",
      "Epoch 00008: val_accuracy did not improve from 0.66270\n",
      "Epoch 9/30\n",
      "89/89 [==============================] - 0s 4ms/step - loss: 0.5813 - accuracy: 0.6932 - val_loss: 0.6331 - val_accuracy: 0.6504\n",
      " Val F1 Score :  0.6504\n",
      "\n",
      "Epoch 00009: val_accuracy did not improve from 0.66270\n",
      "Epoch 10/30\n",
      "89/89 [==============================] - 0s 4ms/step - loss: 0.5734 - accuracy: 0.6937 - val_loss: 0.6453 - val_accuracy: 0.6508\n",
      " Val F1 Score :  0.6508\n",
      "\n",
      "Epoch 00010: val_accuracy did not improve from 0.66270\n",
      "Epoch 11/30\n",
      "89/89 [==============================] - 0s 4ms/step - loss: 0.5746 - accuracy: 0.6974 - val_loss: 0.6389 - val_accuracy: 0.6451\n",
      " Val F1 Score :  0.6451\n",
      "\n",
      "Epoch 00011: val_accuracy did not improve from 0.66270\n",
      "Epoch 12/30\n",
      "89/89 [==============================] - 0s 4ms/step - loss: 0.5594 - accuracy: 0.7002 - val_loss: 0.6786 - val_accuracy: 0.6574\n",
      " Val F1 Score :  0.6574\n",
      "\n",
      "Epoch 00012: val_accuracy did not improve from 0.66270\n",
      "Epoch 13/30\n",
      "89/89 [==============================] - 0s 4ms/step - loss: 0.5627 - accuracy: 0.6974 - val_loss: 0.6340 - val_accuracy: 0.6545\n",
      " Val F1 Score :  0.6545\n",
      "\n",
      "Epoch 00013: val_accuracy did not improve from 0.66270\n",
      "Epoch 14/30\n",
      "89/89 [==============================] - 0s 4ms/step - loss: 0.5495 - accuracy: 0.7087 - val_loss: 0.6633 - val_accuracy: 0.6520\n",
      " Val F1 Score :  0.652\n",
      "\n",
      "Epoch 00014: val_accuracy did not improve from 0.66270\n",
      "Epoch 15/30\n",
      "89/89 [==============================] - 0s 4ms/step - loss: 0.5393 - accuracy: 0.7136 - val_loss: 0.6963 - val_accuracy: 0.6483\n",
      " Val F1 Score :  0.6483\n",
      "\n",
      "Epoch 00015: val_accuracy did not improve from 0.66270\n",
      "Epoch 16/30\n",
      "89/89 [==============================] - 0s 4ms/step - loss: 0.5410 - accuracy: 0.7153 - val_loss: 0.6890 - val_accuracy: 0.6578\n",
      " Val F1 Score :  0.6578\n",
      "\n",
      "Epoch 00016: val_accuracy did not improve from 0.66270\n",
      "Epoch 17/30\n",
      "89/89 [==============================] - 0s 4ms/step - loss: 0.5215 - accuracy: 0.7224 - val_loss: 0.6708 - val_accuracy: 0.6516\n",
      " Val F1 Score :  0.6516\n",
      "\n",
      "Epoch 00017: val_accuracy did not improve from 0.66270\n",
      "Epoch 18/30\n",
      "89/89 [==============================] - 0s 4ms/step - loss: 0.5220 - accuracy: 0.7271 - val_loss: 0.6713 - val_accuracy: 0.6446\n",
      " Val F1 Score :  0.6446\n",
      "\n",
      "Epoch 00018: val_accuracy did not improve from 0.66270\n",
      "Epoch 19/30\n",
      "89/89 [==============================] - 0s 4ms/step - loss: 0.5172 - accuracy: 0.7291 - val_loss: 0.7144 - val_accuracy: 0.6430\n",
      " Val F1 Score :  0.643\n",
      "\n",
      "Epoch 00019: val_accuracy did not improve from 0.66270\n",
      "Epoch 20/30\n",
      "89/89 [==============================] - 0s 4ms/step - loss: 0.5080 - accuracy: 0.7370 - val_loss: 0.7600 - val_accuracy: 0.6545\n",
      " Val F1 Score :  0.6545\n",
      "\n",
      "Epoch 00020: val_accuracy did not improve from 0.66270\n",
      "Epoch 21/30\n",
      "89/89 [==============================] - 0s 5ms/step - loss: 0.4997 - accuracy: 0.7386 - val_loss: 0.6787 - val_accuracy: 0.6323\n",
      " Val F1 Score :  0.6323\n",
      "\n",
      "Epoch 00021: val_accuracy did not improve from 0.66270\n",
      "Epoch 22/30\n",
      "89/89 [==============================] - 0s 4ms/step - loss: 0.5053 - accuracy: 0.7359 - val_loss: 0.8136 - val_accuracy: 0.6475\n",
      " Val F1 Score :  0.6475\n",
      "\n",
      "Epoch 00022: val_accuracy did not improve from 0.66270\n",
      "Epoch 23/30\n",
      "89/89 [==============================] - 0s 4ms/step - loss: 0.4977 - accuracy: 0.7398 - val_loss: 0.7912 - val_accuracy: 0.6315\n",
      " Val F1 Score :  0.6315\n",
      "\n",
      "Epoch 00023: val_accuracy did not improve from 0.66270\n",
      "Epoch 24/30\n",
      "89/89 [==============================] - 0s 4ms/step - loss: 0.4834 - accuracy: 0.7498 - val_loss: 0.8225 - val_accuracy: 0.6393\n",
      " Val F1 Score :  0.6393\n",
      "\n",
      "Epoch 00024: val_accuracy did not improve from 0.66270\n",
      "Epoch 25/30\n",
      "89/89 [==============================] - 0s 4ms/step - loss: 0.4823 - accuracy: 0.7532 - val_loss: 0.7219 - val_accuracy: 0.6533\n",
      " Val F1 Score :  0.6533\n",
      "\n",
      "Epoch 00025: val_accuracy did not improve from 0.66270\n",
      "Epoch 26/30\n",
      "89/89 [==============================] - 0s 4ms/step - loss: 0.4753 - accuracy: 0.7611 - val_loss: 0.8514 - val_accuracy: 0.6381\n",
      " Val F1 Score :  0.6381\n",
      "\n",
      "Epoch 00026: val_accuracy did not improve from 0.66270\n",
      "Epoch 27/30\n",
      "89/89 [==============================] - 0s 4ms/step - loss: 0.4633 - accuracy: 0.7613 - val_loss: 0.9550 - val_accuracy: 0.6487\n",
      " Val F1 Score :  0.6487\n",
      "\n",
      "Epoch 00027: val_accuracy did not improve from 0.66270\n",
      "Epoch 28/30\n",
      "89/89 [==============================] - 0s 4ms/step - loss: 0.4600 - accuracy: 0.7655 - val_loss: 0.7736 - val_accuracy: 0.6319\n",
      " Val F1 Score :  0.6319\n",
      "\n",
      "Epoch 00028: val_accuracy did not improve from 0.66270\n",
      "Epoch 29/30\n",
      "89/89 [==============================] - 0s 4ms/step - loss: 0.4525 - accuracy: 0.7690 - val_loss: 0.8149 - val_accuracy: 0.6270\n",
      " Val F1 Score :  0.627\n",
      "\n",
      "Epoch 00029: val_accuracy did not improve from 0.66270\n",
      "Epoch 30/30\n",
      "89/89 [==============================] - 0s 4ms/step - loss: 0.4434 - accuracy: 0.7748 - val_loss: 0.9395 - val_accuracy: 0.6229\n",
      " Val F1 Score :  0.6229\n",
      "\n",
      "Epoch 00030: val_accuracy did not improve from 0.66270\n"
     ]
    }
   ],
   "source": [
    "history_1 = model_1.fit(x=X_train_num,\\\n",
    "                        y=y_train,\\\n",
    "                        batch_size=batch_size,\\\n",
    "                        epochs=epochs,\\\n",
    "                        steps_per_epoch = int(np.ceil(X_train_num.shape[0] / batch_size) ),\\\n",
    "                        validation_data=(X_test_num, y_test),\\\n",
    "                        callbacks=mycallbacks_1)"
   ]
  },
  {
   "cell_type": "markdown",
   "id": "f296021b",
   "metadata": {
    "papermill": {
     "duration": 0.060665,
     "end_time": "2022-10-30T16:22:05.714815",
     "exception": false,
     "start_time": "2022-10-30T16:22:05.654150",
     "status": "completed"
    },
    "tags": []
   },
   "source": [
    "### Define Model 2 Architecture"
   ]
  },
  {
   "cell_type": "code",
   "execution_count": 29,
   "id": "ca0104bd",
   "metadata": {
    "execution": {
     "iopub.execute_input": "2022-10-30T16:22:05.838493Z",
     "iopub.status.busy": "2022-10-30T16:22:05.838089Z",
     "iopub.status.idle": "2022-10-30T16:22:05.910738Z",
     "shell.execute_reply": "2022-10-30T16:22:05.909597Z"
    },
    "papermill": {
     "duration": 0.137859,
     "end_time": "2022-10-30T16:22:05.913337",
     "exception": false,
     "start_time": "2022-10-30T16:22:05.775478",
     "status": "completed"
    },
    "tags": []
   },
   "outputs": [],
   "source": [
    "model_2 = Sequential()\n",
    "\n",
    "model_2.add(Dense(32,\\\n",
    "                  kernel_initializer=RandomUniform(minval=-0.05, maxval=0.05),\\\n",
    "                  input_shape=(X_train_num.shape[1],),\\\n",
    "                  activation='relu'))\n",
    "\n",
    "model_2.add(Dense(64,\\\n",
    "                  kernel_initializer=RandomUniform(minval=-0.05, maxval=0.05),\\\n",
    "                  activation=tf.nn.relu))\n",
    "\n",
    "model_2.add(Dense (128,\\\n",
    "                   kernel_initializer=RandomUniform(minval=-0.05, maxval=0.05),\\\n",
    "                   activation = 'relu'))\n",
    "\n",
    "model_2.add(Dense (256,\\\n",
    "                   kernel_initializer=RandomUniform(minval=-0.05, maxval=0.05),\\\n",
    "                   activation = 'relu'))\n",
    "\n",
    "model_2.add(Dense (512,\\\n",
    "                   kernel_initializer=RandomUniform(minval=-0.05, maxval=0.05),\\\n",
    "                   activation = 'relu'))\n",
    "\n",
    "model_2.add(Dense(128,\\\n",
    "                  kernel_initializer=RandomUniform(minval=-0.05, maxval=0.05),\\\n",
    "                  activation='relu'))\n",
    "\n",
    "model_2.add(Dense(64,\\\n",
    "                  kernel_initializer=RandomUniform(minval=-0.05, maxval=0.05),\\\n",
    "                  activation='relu'))\n",
    "\n",
    "model_2.add(Dense(2,\\\n",
    "                activation='softmax'))"
   ]
  },
  {
   "cell_type": "markdown",
   "id": "c05db7c8",
   "metadata": {
    "papermill": {
     "duration": 0.061788,
     "end_time": "2022-10-30T16:22:06.035745",
     "exception": false,
     "start_time": "2022-10-30T16:22:05.973957",
     "status": "completed"
    },
    "tags": []
   },
   "source": [
    "### Model 2 Persistence"
   ]
  },
  {
   "cell_type": "code",
   "execution_count": 30,
   "id": "8e036619",
   "metadata": {
    "execution": {
     "iopub.execute_input": "2022-10-30T16:22:06.158673Z",
     "iopub.status.busy": "2022-10-30T16:22:06.157541Z",
     "iopub.status.idle": "2022-10-30T16:22:06.163078Z",
     "shell.execute_reply": "2022-10-30T16:22:06.162192Z"
    },
    "papermill": {
     "duration": 0.068798,
     "end_time": "2022-10-30T16:22:06.165192",
     "exception": false,
     "start_time": "2022-10-30T16:22:06.096394",
     "status": "completed"
    },
    "tags": []
   },
   "outputs": [],
   "source": [
    "filepath_2= \"./Saved_Models/best_model_2.hdf5\"\n",
    "checkpoint_2 = ModelCheckpoint(filepath=filepath_2, monitor='val_accuracy',verbose=1, save_best_only=True, mode='auto')"
   ]
  },
  {
   "cell_type": "markdown",
   "id": "e0adebda",
   "metadata": {
    "papermill": {
     "duration": 0.059225,
     "end_time": "2022-10-30T16:22:06.283803",
     "exception": false,
     "start_time": "2022-10-30T16:22:06.224578",
     "status": "completed"
    },
    "tags": []
   },
   "source": [
    "### Tensorboard Setup"
   ]
  },
  {
   "cell_type": "code",
   "execution_count": 31,
   "id": "57c8c62a",
   "metadata": {
    "execution": {
     "iopub.execute_input": "2022-10-30T16:22:06.405683Z",
     "iopub.status.busy": "2022-10-30T16:22:06.405243Z",
     "iopub.status.idle": "2022-10-30T16:22:06.412343Z",
     "shell.execute_reply": "2022-10-30T16:22:06.411011Z"
    },
    "papermill": {
     "duration": 0.071338,
     "end_time": "2022-10-30T16:22:06.414714",
     "exception": false,
     "start_time": "2022-10-30T16:22:06.343376",
     "status": "completed"
    },
    "tags": []
   },
   "outputs": [
    {
     "name": "stderr",
     "output_type": "stream",
     "text": [
      "2022-10-30 16:22:06.407472: I tensorflow/core/profiler/lib/profiler_session.cc:131] Profiler session initializing.\n",
      "2022-10-30 16:22:06.407528: I tensorflow/core/profiler/lib/profiler_session.cc:146] Profiler session started.\n",
      "2022-10-30 16:22:06.408125: I tensorflow/core/profiler/lib/profiler_session.cc:164] Profiler session tear down.\n"
     ]
    }
   ],
   "source": [
    "log_dir_2 = os.path.join(\"logs\",'fits','Model_2')\n",
    "tfcb_2 = TensorBoard(log_dir=log_dir_2,histogram_freq=1,write_graph=True)"
   ]
  },
  {
   "cell_type": "markdown",
   "id": "76deb581",
   "metadata": {
    "papermill": {
     "duration": 0.059755,
     "end_time": "2022-10-30T16:22:06.534546",
     "exception": false,
     "start_time": "2022-10-30T16:22:06.474791",
     "status": "completed"
    },
    "tags": []
   },
   "source": [
    "### Model 2 Compilation"
   ]
  },
  {
   "cell_type": "code",
   "execution_count": 32,
   "id": "1932ba58",
   "metadata": {
    "execution": {
     "iopub.execute_input": "2022-10-30T16:22:06.659110Z",
     "iopub.status.busy": "2022-10-30T16:22:06.658004Z",
     "iopub.status.idle": "2022-10-30T16:22:06.670404Z",
     "shell.execute_reply": "2022-10-30T16:22:06.669226Z"
    },
    "papermill": {
     "duration": 0.077753,
     "end_time": "2022-10-30T16:22:06.672732",
     "exception": false,
     "start_time": "2022-10-30T16:22:06.594979",
     "status": "completed"
    },
    "tags": []
   },
   "outputs": [
    {
     "name": "stdout",
     "output_type": "stream",
     "text": [
      "Model: \"sequential_1\"\n",
      "_________________________________________________________________\n",
      "Layer (type)                 Output Shape              Param #   \n",
      "=================================================================\n",
      "dense_6 (Dense)              (None, 32)                800       \n",
      "_________________________________________________________________\n",
      "dense_7 (Dense)              (None, 64)                2112      \n",
      "_________________________________________________________________\n",
      "dense_8 (Dense)              (None, 128)               8320      \n",
      "_________________________________________________________________\n",
      "dense_9 (Dense)              (None, 256)               33024     \n",
      "_________________________________________________________________\n",
      "dense_10 (Dense)             (None, 512)               131584    \n",
      "_________________________________________________________________\n",
      "dense_11 (Dense)             (None, 128)               65664     \n",
      "_________________________________________________________________\n",
      "dense_12 (Dense)             (None, 64)                8256      \n",
      "_________________________________________________________________\n",
      "dense_13 (Dense)             (None, 2)                 130       \n",
      "=================================================================\n",
      "Total params: 249,890\n",
      "Trainable params: 249,890\n",
      "Non-trainable params: 0\n",
      "_________________________________________________________________\n"
     ]
    }
   ],
   "source": [
    "model_2.compile(optimizer=adamopt,\\\n",
    "              loss = tf.keras.losses.sparse_categorical_crossentropy,\\\n",
    "              metrics=['accuracy'])\n",
    "model_2.summary()"
   ]
  },
  {
   "cell_type": "markdown",
   "id": "f640603f",
   "metadata": {
    "papermill": {
     "duration": 0.059875,
     "end_time": "2022-10-30T16:22:06.859230",
     "exception": false,
     "start_time": "2022-10-30T16:22:06.799355",
     "status": "completed"
    },
    "tags": []
   },
   "source": [
    "### Visualize Model 2 Architecture"
   ]
  },
  {
   "cell_type": "code",
   "execution_count": 33,
   "id": "7a7e7fb2",
   "metadata": {
    "execution": {
     "iopub.execute_input": "2022-10-30T16:22:06.981031Z",
     "iopub.status.busy": "2022-10-30T16:22:06.980531Z",
     "iopub.status.idle": "2022-10-30T16:22:07.084503Z",
     "shell.execute_reply": "2022-10-30T16:22:07.083048Z"
    },
    "papermill": {
     "duration": 0.16765,
     "end_time": "2022-10-30T16:22:07.086809",
     "exception": false,
     "start_time": "2022-10-30T16:22:06.919159",
     "status": "completed"
    },
    "tags": []
   },
   "outputs": [
    {
     "data": {
      "image/png": "[encoded data removed]",
      "text/plain": [
       "<IPython.core.display.Image object>"
      ]
     },
     "execution_count": 33,
     "metadata": {},
     "output_type": "execute_result"
    }
   ],
   "source": [
    "plot_model(model_2)"
   ]
  },
  {
   "cell_type": "markdown",
   "id": "99b3b0dd",
   "metadata": {
    "papermill": {
     "duration": 0.060443,
     "end_time": "2022-10-30T16:22:07.209023",
     "exception": false,
     "start_time": "2022-10-30T16:22:07.148580",
     "status": "completed"
    },
    "tags": []
   },
   "source": [
    "### Join Model 2 Callbacks"
   ]
  },
  {
   "cell_type": "code",
   "execution_count": 34,
   "id": "cb38da76",
   "metadata": {
    "execution": {
     "iopub.execute_input": "2022-10-30T16:22:07.334144Z",
     "iopub.status.busy": "2022-10-30T16:22:07.333754Z",
     "iopub.status.idle": "2022-10-30T16:22:07.338601Z",
     "shell.execute_reply": "2022-10-30T16:22:07.337559Z"
    },
    "papermill": {
     "duration": 0.070126,
     "end_time": "2022-10-30T16:22:07.340706",
     "exception": false,
     "start_time": "2022-10-30T16:22:07.270580",
     "status": "completed"
    },
    "tags": []
   },
   "outputs": [],
   "source": [
    "mycallbacks_2 = [history_callback_1,\\\n",
    "                 checkpoint_2,\\\n",
    "                 tfcb_2]"
   ]
  },
  {
   "cell_type": "markdown",
   "id": "6f5db718",
   "metadata": {
    "papermill": {
     "duration": 0.06105,
     "end_time": "2022-10-30T16:22:07.463227",
     "exception": false,
     "start_time": "2022-10-30T16:22:07.402177",
     "status": "completed"
    },
    "tags": []
   },
   "source": [
    "### Model 2 Training"
   ]
  },
  {
   "cell_type": "code",
   "execution_count": 35,
   "id": "03e510b3",
   "metadata": {
    "execution": {
     "iopub.execute_input": "2022-10-30T16:22:07.587480Z",
     "iopub.status.busy": "2022-10-30T16:22:07.586719Z",
     "iopub.status.idle": "2022-10-30T16:22:33.739718Z",
     "shell.execute_reply": "2022-10-30T16:22:33.738666Z"
    },
    "papermill": {
     "duration": 26.218832,
     "end_time": "2022-10-30T16:22:33.742360",
     "exception": false,
     "start_time": "2022-10-30T16:22:07.523528",
     "status": "completed"
    },
    "tags": []
   },
   "outputs": [
    {
     "name": "stdout",
     "output_type": "stream",
     "text": [
      "Epoch 1/30\n",
      "24/89 [=======>......................] - ETA: 0s - loss: 0.6960 - accuracy: 0.5638"
     ]
    },
    {
     "name": "stderr",
     "output_type": "stream",
     "text": [
      "2022-10-30 16:22:08.292265: I tensorflow/core/profiler/lib/profiler_session.cc:131] Profiler session initializing.\n",
      "2022-10-30 16:22:08.292673: I tensorflow/core/profiler/lib/profiler_session.cc:146] Profiler session started.\n",
      "2022-10-30 16:22:08.344377: I tensorflow/core/profiler/lib/profiler_session.cc:66] Profiler session collecting data.\n",
      "2022-10-30 16:22:08.345934: I tensorflow/core/profiler/lib/profiler_session.cc:164] Profiler session tear down.\n",
      "2022-10-30 16:22:08.347975: I tensorflow/core/profiler/rpc/client/save_profile.cc:136] Creating directory: logs/fits/Model_2/train/plugins/profile/2022_10_30_16_22_08\n",
      "\n",
      "2022-10-30 16:22:08.349261: I tensorflow/core/profiler/rpc/client/save_profile.cc:142] Dumped gzipped tool data for trace.json.gz to logs/fits/Model_2/train/plugins/profile/2022_10_30_16_22_08/1be5dcaa276b.trace.json.gz\n",
      "2022-10-30 16:22:08.352960: I tensorflow/core/profiler/rpc/client/save_profile.cc:136] Creating directory: logs/fits/Model_2/train/plugins/profile/2022_10_30_16_22_08\n",
      "\n",
      "2022-10-30 16:22:08.353790: I tensorflow/core/profiler/rpc/client/save_profile.cc:142] Dumped gzipped tool data for memory_profile.json.gz to logs/fits/Model_2/train/plugins/profile/2022_10_30_16_22_08/1be5dcaa276b.memory_profile.json.gz\n",
      "2022-10-30 16:22:08.354307: I tensorflow/core/profiler/rpc/client/capture_profile.cc:251] Creating directory: logs/fits/Model_2/train/plugins/profile/2022_10_30_16_22_08\n",
      "Dumped tool data for xplane.pb to logs/fits/Model_2/train/plugins/profile/2022_10_30_16_22_08/1be5dcaa276b.xplane.pb\n",
      "Dumped tool data for overview_page.pb to logs/fits/Model_2/train/plugins/profile/2022_10_30_16_22_08/1be5dcaa276b.overview_page.pb\n",
      "Dumped tool data for input_pipeline.pb to logs/fits/Model_2/train/plugins/profile/2022_10_30_16_22_08/1be5dcaa276b.input_pipeline.pb\n",
      "Dumped tool data for tensorflow_stats.pb to logs/fits/Model_2/train/plugins/profile/2022_10_30_16_22_08/1be5dcaa276b.tensorflow_stats.pb\n",
      "Dumped tool data for kernel_stats.pb to logs/fits/Model_2/train/plugins/profile/2022_10_30_16_22_08/1be5dcaa276b.kernel_stats.pb\n",
      "\n"
     ]
    },
    {
     "name": "stdout",
     "output_type": "stream",
     "text": [
      "89/89 [==============================] - 1s 9ms/step - loss: 0.6896 - accuracy: 0.5753 - val_loss: 0.6805 - val_accuracy: 0.5794\n",
      " Val F1 Score :  0.5794\n",
      "\n",
      "Epoch 00001: val_accuracy improved from -inf to 0.57940, saving model to ./Saved_Models/best_model_2.hdf5\n",
      "Epoch 2/30\n",
      "89/89 [==============================] - 1s 6ms/step - loss: 0.6811 - accuracy: 0.5795 - val_loss: 0.6810 - val_accuracy: 0.5794\n",
      " Val F1 Score :  0.5794\n",
      "\n",
      "Epoch 00002: val_accuracy did not improve from 0.57940\n",
      "Epoch 3/30\n",
      "89/89 [==============================] - 1s 6ms/step - loss: 0.6809 - accuracy: 0.5795 - val_loss: 0.6807 - val_accuracy: 0.5794\n",
      " Val F1 Score :  0.5794\n",
      "\n",
      "Epoch 00003: val_accuracy did not improve from 0.57940\n",
      "Epoch 4/30\n",
      "89/89 [==============================] - 1s 6ms/step - loss: 0.6804 - accuracy: 0.5795 - val_loss: 0.6819 - val_accuracy: 0.5794\n",
      " Val F1 Score :  0.5794\n",
      "\n",
      "Epoch 00004: val_accuracy did not improve from 0.57940\n",
      "Epoch 5/30\n",
      "89/89 [==============================] - 1s 6ms/step - loss: 0.6814 - accuracy: 0.5795 - val_loss: 0.6805 - val_accuracy: 0.5794\n",
      " Val F1 Score :  0.5794\n",
      "\n",
      "Epoch 00005: val_accuracy did not improve from 0.57940\n",
      "Epoch 6/30\n",
      "89/89 [==============================] - 1s 6ms/step - loss: 0.6807 - accuracy: 0.5795 - val_loss: 0.6816 - val_accuracy: 0.5794\n",
      " Val F1 Score :  0.5794\n",
      "\n",
      "Epoch 00006: val_accuracy did not improve from 0.57940\n",
      "Epoch 7/30\n",
      "89/89 [==============================] - 1s 6ms/step - loss: 0.6811 - accuracy: 0.5795 - val_loss: 0.6807 - val_accuracy: 0.5794\n",
      " Val F1 Score :  0.5794\n",
      "\n",
      "Epoch 00007: val_accuracy did not improve from 0.57940\n",
      "Epoch 8/30\n",
      "89/89 [==============================] - 1s 6ms/step - loss: 0.6810 - accuracy: 0.5795 - val_loss: 0.6809 - val_accuracy: 0.5794\n",
      " Val F1 Score :  0.5794\n",
      "\n",
      "Epoch 00008: val_accuracy did not improve from 0.57940\n",
      "Epoch 9/30\n",
      "89/89 [==============================] - 1s 6ms/step - loss: 0.6809 - accuracy: 0.5795 - val_loss: 0.6805 - val_accuracy: 0.5794\n",
      " Val F1 Score :  0.5794\n",
      "\n",
      "Epoch 00009: val_accuracy did not improve from 0.57940\n",
      "Epoch 10/30\n",
      "89/89 [==============================] - 1s 6ms/step - loss: 0.6805 - accuracy: 0.5795 - val_loss: 0.6806 - val_accuracy: 0.5794\n",
      " Val F1 Score :  0.5794\n",
      "\n",
      "Epoch 00010: val_accuracy did not improve from 0.57940\n",
      "Epoch 11/30\n",
      "89/89 [==============================] - 1s 6ms/step - loss: 0.6807 - accuracy: 0.5795 - val_loss: 0.6808 - val_accuracy: 0.5794\n",
      " Val F1 Score :  0.5794\n",
      "\n",
      "Epoch 00011: val_accuracy did not improve from 0.57940\n",
      "Epoch 12/30\n",
      "89/89 [==============================] - 1s 6ms/step - loss: 0.6810 - accuracy: 0.5795 - val_loss: 0.6807 - val_accuracy: 0.5794\n",
      " Val F1 Score :  0.5794\n",
      "\n",
      "Epoch 00012: val_accuracy did not improve from 0.57940\n",
      "Epoch 13/30\n",
      "89/89 [==============================] - 1s 6ms/step - loss: 0.6811 - accuracy: 0.5795 - val_loss: 0.6805 - val_accuracy: 0.5794\n",
      " Val F1 Score :  0.5794\n",
      "\n",
      "Epoch 00013: val_accuracy did not improve from 0.57940\n",
      "Epoch 14/30\n",
      "89/89 [==============================] - 1s 6ms/step - loss: 0.6808 - accuracy: 0.5795 - val_loss: 0.6805 - val_accuracy: 0.5794\n",
      " Val F1 Score :  0.5794\n",
      "\n",
      "Epoch 00014: val_accuracy did not improve from 0.57940\n",
      "Epoch 15/30\n",
      "89/89 [==============================] - 1s 6ms/step - loss: 0.6809 - accuracy: 0.5795 - val_loss: 0.6807 - val_accuracy: 0.5794\n",
      " Val F1 Score :  0.5794\n",
      "\n",
      "Epoch 00015: val_accuracy did not improve from 0.57940\n",
      "Epoch 16/30\n",
      "89/89 [==============================] - 1s 6ms/step - loss: 0.6810 - accuracy: 0.5795 - val_loss: 0.6806 - val_accuracy: 0.5794\n",
      " Val F1 Score :  0.5794\n",
      "\n",
      "Epoch 00016: val_accuracy did not improve from 0.57940\n",
      "Epoch 17/30\n",
      "89/89 [==============================] - 1s 7ms/step - loss: 0.6807 - accuracy: 0.5795 - val_loss: 0.6806 - val_accuracy: 0.5794\n",
      " Val F1 Score :  0.5794\n",
      "\n",
      "Epoch 00017: val_accuracy did not improve from 0.57940\n",
      "Epoch 18/30\n",
      "89/89 [==============================] - 1s 10ms/step - loss: 0.6811 - accuracy: 0.5795 - val_loss: 0.6806 - val_accuracy: 0.5794\n",
      " Val F1 Score :  0.5794\n",
      "\n",
      "Epoch 00018: val_accuracy did not improve from 0.57940\n",
      "Epoch 19/30\n",
      "89/89 [==============================] - 1s 6ms/step - loss: 0.6808 - accuracy: 0.5795 - val_loss: 0.6805 - val_accuracy: 0.5794\n",
      " Val F1 Score :  0.5794\n",
      "\n",
      "Epoch 00019: val_accuracy did not improve from 0.57940\n",
      "Epoch 20/30\n",
      "89/89 [==============================] - 1s 6ms/step - loss: 0.6808 - accuracy: 0.5795 - val_loss: 0.6807 - val_accuracy: 0.5794\n",
      " Val F1 Score :  0.5794\n",
      "\n",
      "Epoch 00020: val_accuracy did not improve from 0.57940\n",
      "Epoch 21/30\n",
      "89/89 [==============================] - 1s 6ms/step - loss: 0.6811 - accuracy: 0.5795 - val_loss: 0.6805 - val_accuracy: 0.5794\n",
      " Val F1 Score :  0.5794\n",
      "\n",
      "Epoch 00021: val_accuracy did not improve from 0.57940\n",
      "Epoch 22/30\n",
      "89/89 [==============================] - 1s 6ms/step - loss: 0.6806 - accuracy: 0.5795 - val_loss: 0.6805 - val_accuracy: 0.5794\n",
      " Val F1 Score :  0.5794\n",
      "\n",
      "Epoch 00022: val_accuracy did not improve from 0.57940\n",
      "Epoch 23/30\n",
      "89/89 [==============================] - 1s 6ms/step - loss: 0.6810 - accuracy: 0.5795 - val_loss: 0.6805 - val_accuracy: 0.5794\n",
      " Val F1 Score :  0.5794\n",
      "\n",
      "Epoch 00023: val_accuracy did not improve from 0.57940\n",
      "Epoch 24/30\n",
      "89/89 [==============================] - 1s 6ms/step - loss: 0.6812 - accuracy: 0.5795 - val_loss: 0.6805 - val_accuracy: 0.5794\n",
      " Val F1 Score :  0.5794\n",
      "\n",
      "Epoch 00024: val_accuracy did not improve from 0.57940\n",
      "Epoch 25/30\n",
      "89/89 [==============================] - 1s 6ms/step - loss: 0.6808 - accuracy: 0.5795 - val_loss: 0.6813 - val_accuracy: 0.5794\n",
      " Val F1 Score :  0.5794\n",
      "\n",
      "Epoch 00025: val_accuracy did not improve from 0.57940\n",
      "Epoch 26/30\n",
      "89/89 [==============================] - 1s 6ms/step - loss: 0.6808 - accuracy: 0.5795 - val_loss: 0.6805 - val_accuracy: 0.5794\n",
      " Val F1 Score :  0.5794\n",
      "\n",
      "Epoch 00026: val_accuracy did not improve from 0.57940\n",
      "Epoch 27/30\n",
      "89/89 [==============================] - 1s 6ms/step - loss: 0.6811 - accuracy: 0.5795 - val_loss: 0.6807 - val_accuracy: 0.5794\n",
      " Val F1 Score :  0.5794\n",
      "\n",
      "Epoch 00027: val_accuracy did not improve from 0.57940\n",
      "Epoch 28/30\n",
      "89/89 [==============================] - 1s 6ms/step - loss: 0.6808 - accuracy: 0.5795 - val_loss: 0.6805 - val_accuracy: 0.5794\n",
      " Val F1 Score :  0.5794\n",
      "\n",
      "Epoch 00028: val_accuracy did not improve from 0.57940\n",
      "Epoch 29/30\n",
      "89/89 [==============================] - 1s 6ms/step - loss: 0.6809 - accuracy: 0.5795 - val_loss: 0.6807 - val_accuracy: 0.5794\n",
      " Val F1 Score :  0.5794\n",
      "\n",
      "Epoch 00029: val_accuracy did not improve from 0.57940\n",
      "Epoch 30/30\n",
      "89/89 [==============================] - 1s 7ms/step - loss: 0.6806 - accuracy: 0.5795 - val_loss: 0.6806 - val_accuracy: 0.5794\n",
      " Val F1 Score :  0.5794\n",
      "\n",
      "Epoch 00030: val_accuracy did not improve from 0.57940\n"
     ]
    }
   ],
   "source": [
    "history_2 = model_2.fit(x=X_train_num,\\\n",
    "                        y=y_train,\\\n",
    "                        batch_size=batch_size,\\\n",
    "                        epochs=epochs,\\\n",
    "                        steps_per_epoch = int(np.ceil(X_train_num.shape[0] / batch_size) ),\\\n",
    "                        validation_data=(X_test_num, y_test),\\\n",
    "                        callbacks=mycallbacks_2)"
   ]
  },
  {
   "cell_type": "markdown",
   "id": "0596d526",
   "metadata": {
    "papermill": {
     "duration": 0.081975,
     "end_time": "2022-10-30T16:22:33.906920",
     "exception": false,
     "start_time": "2022-10-30T16:22:33.824945",
     "status": "completed"
    },
    "tags": []
   },
   "source": [
    "### Define Model 3 Architechture"
   ]
  },
  {
   "cell_type": "markdown",
   "id": "e8605ff8",
   "metadata": {
    "papermill": {
     "duration": 0.085184,
     "end_time": "2022-10-30T16:22:34.075042",
     "exception": false,
     "start_time": "2022-10-30T16:22:33.989858",
     "status": "completed"
    },
    "tags": []
   },
   "source": [
    "#### Model 3 Layer Preparation"
   ]
  },
  {
   "cell_type": "code",
   "execution_count": 36,
   "id": "43d6e499",
   "metadata": {
    "execution": {
     "iopub.execute_input": "2022-10-30T16:22:34.241168Z",
     "iopub.status.busy": "2022-10-30T16:22:34.240765Z",
     "iopub.status.idle": "2022-10-30T16:22:34.405720Z",
     "shell.execute_reply": "2022-10-30T16:22:34.404384Z"
    },
    "papermill": {
     "duration": 0.251586,
     "end_time": "2022-10-30T16:22:34.408377",
     "exception": false,
     "start_time": "2022-10-30T16:22:34.156791",
     "status": "completed"
    },
    "tags": []
   },
   "outputs": [],
   "source": [
    "tokenizer = Tokenizer()\n",
    "\n",
    "tokenizer.fit_on_texts(X_train['DetailedTumorType'])\n",
    "X_train_dtumort = tokenizer.texts_to_sequences(X_train['DetailedTumorType'])\n",
    "X_test_dtumort = tokenizer.texts_to_sequences(X_test['DetailedTumorType'])\n",
    "X_train_dtumort = pad_sequences(X_train_dtumort, dtype='uint8')\n",
    "X_test_dtumort = pad_sequences(X_test_dtumort, dtype='uint8')"
   ]
  },
  {
   "cell_type": "code",
   "execution_count": 37,
   "id": "61d1b205",
   "metadata": {
    "execution": {
     "iopub.execute_input": "2022-10-30T16:22:34.573825Z",
     "iopub.status.busy": "2022-10-30T16:22:34.572672Z",
     "iopub.status.idle": "2022-10-30T16:22:34.604904Z",
     "shell.execute_reply": "2022-10-30T16:22:34.603651Z"
    },
    "papermill": {
     "duration": 0.118265,
     "end_time": "2022-10-30T16:22:34.607727",
     "exception": false,
     "start_time": "2022-10-30T16:22:34.489462",
     "status": "completed"
    },
    "tags": []
   },
   "outputs": [],
   "source": [
    "num_inp = Input(shape=X_train_num.shape[1], name='input_remaining')\n",
    "num_dense = Dense(8, activation='relu', name='numerical_features')(num_inp)\n",
    "\n",
    "dtumort_inp = Input(shape=11, name='detailed_tumor_type')\n",
    "dtumort_inp_emb = Embedding(input_dim=X_train_dtumort.max() + 1,\\\n",
    "                            output_dim=10,\\\n",
    "                            input_length=5,\\\n",
    "                            name='Emb_detailed_tumor_type')(dtumort_inp)\n",
    "dtumort_flat = Flatten(name='dtumort_flatten_1')(dtumort_inp_emb )"
   ]
  },
  {
   "cell_type": "code",
   "execution_count": 38,
   "id": "3578f668",
   "metadata": {
    "execution": {
     "iopub.execute_input": "2022-10-30T16:22:34.774097Z",
     "iopub.status.busy": "2022-10-30T16:22:34.773683Z",
     "iopub.status.idle": "2022-10-30T16:22:34.820589Z",
     "shell.execute_reply": "2022-10-30T16:22:34.819576Z"
    },
    "papermill": {
     "duration": 0.131973,
     "end_time": "2022-10-30T16:22:34.823199",
     "exception": false,
     "start_time": "2022-10-30T16:22:34.691226",
     "status": "completed"
    },
    "tags": []
   },
   "outputs": [],
   "source": [
    "concat_layer = Concatenate(name='Concatenate')([num_dense,\\\n",
    "                                                dtumort_flat])\n",
    "\n",
    "dense_1 = Dense(256,\\\n",
    "                activation='relu',\\\n",
    "                kernel_initializer=RandomUniform(minval=-0.05, maxval=0.05),\\\n",
    "                name='Dense_layer1_after_concat')(concat_layer)\n",
    "\n",
    "drop_1 = Dropout(0.2, name='dropout_1')(dense_1)\n",
    "\n",
    "dense_2 = Dense(128,\\\n",
    "                activation='relu',\\\n",
    "                kernel_initializer=RandomUniform(minval=-0.05, maxval=0.05),\\\n",
    "                name='Dense_layer2_after_concat')(drop_1)\n",
    "\n",
    "drop_2 = Dropout(0.15, name='dropout_2')(dense_2)\n",
    "\n",
    "dense_3 = Dense(64,\\\n",
    "                kernel_initializer=RandomUniform(minval=-0.05, maxval=0.05),\\\n",
    "                activation='relu',\\\n",
    "                name='Dense_layer3_after_concat')(drop_2)\n",
    "\n",
    "output_layer = Dense(2, activation='softmax',name='output_layer')(dense_3)"
   ]
  },
  {
   "cell_type": "code",
   "execution_count": 39,
   "id": "9d6df8e4",
   "metadata": {
    "execution": {
     "iopub.execute_input": "2022-10-30T16:22:34.989365Z",
     "iopub.status.busy": "2022-10-30T16:22:34.988955Z",
     "iopub.status.idle": "2022-10-30T16:22:34.997795Z",
     "shell.execute_reply": "2022-10-30T16:22:34.996973Z"
    },
    "papermill": {
     "duration": 0.09425,
     "end_time": "2022-10-30T16:22:34.999976",
     "exception": false,
     "start_time": "2022-10-30T16:22:34.905726",
     "status": "completed"
    },
    "tags": []
   },
   "outputs": [],
   "source": [
    "model_3 = Model(inputs=[num_inp,\\\n",
    "                        dtumort_inp],\\\n",
    "               outputs=output_layer)"
   ]
  },
  {
   "cell_type": "code",
   "execution_count": 40,
   "id": "22a68ea3",
   "metadata": {
    "execution": {
     "iopub.execute_input": "2022-10-30T16:22:35.165274Z",
     "iopub.status.busy": "2022-10-30T16:22:35.164505Z",
     "iopub.status.idle": "2022-10-30T16:22:35.169081Z",
     "shell.execute_reply": "2022-10-30T16:22:35.168215Z"
    },
    "papermill": {
     "duration": 0.08942,
     "end_time": "2022-10-30T16:22:35.171069",
     "exception": false,
     "start_time": "2022-10-30T16:22:35.081649",
     "status": "completed"
    },
    "tags": []
   },
   "outputs": [],
   "source": [
    "X_train_emb = [X_train_num,\\\n",
    "               X_train_dtumort]\n",
    "\n",
    "X_test_emb = [X_test_num,\\\n",
    "              X_test_dtumort]"
   ]
  },
  {
   "cell_type": "markdown",
   "id": "a519526f",
   "metadata": {
    "papermill": {
     "duration": 0.080732,
     "end_time": "2022-10-30T16:22:35.332711",
     "exception": false,
     "start_time": "2022-10-30T16:22:35.251979",
     "status": "completed"
    },
    "tags": []
   },
   "source": [
    "### Initialize Model 3 Callbacks"
   ]
  },
  {
   "cell_type": "code",
   "execution_count": 41,
   "id": "46e6b42c",
   "metadata": {
    "execution": {
     "iopub.execute_input": "2022-10-30T16:22:35.497805Z",
     "iopub.status.busy": "2022-10-30T16:22:35.497093Z",
     "iopub.status.idle": "2022-10-30T16:22:35.505441Z",
     "shell.execute_reply": "2022-10-30T16:22:35.503925Z"
    },
    "papermill": {
     "duration": 0.093652,
     "end_time": "2022-10-30T16:22:35.507771",
     "exception": false,
     "start_time": "2022-10-30T16:22:35.414119",
     "status": "completed"
    },
    "tags": []
   },
   "outputs": [
    {
     "name": "stderr",
     "output_type": "stream",
     "text": [
      "2022-10-30 16:22:35.501008: I tensorflow/core/profiler/lib/profiler_session.cc:131] Profiler session initializing.\n",
      "2022-10-30 16:22:35.501066: I tensorflow/core/profiler/lib/profiler_session.cc:146] Profiler session started.\n",
      "2022-10-30 16:22:35.501157: I tensorflow/core/profiler/lib/profiler_session.cc:164] Profiler session tear down.\n"
     ]
    }
   ],
   "source": [
    "history_callback_3 = LossHistory(validation_data=([X_test_emb, y_test]))  \n",
    "\n",
    "stopperCallback3 = EarlyStopper(0.9501)\n",
    "\n",
    "log_dir_3 = os.path.join(\"logs\",'fits','Model_3')\n",
    "tfcb_3 = TensorBoard(log_dir=log_dir_3,histogram_freq=1,write_graph=True)\n",
    "\n",
    "filepath_3= \"./Saved_Models/best_model_3.hdf5\"\n",
    "checkpoint_3 = ModelCheckpoint(filepath=filepath_3, monitor='val_accuracy',verbose=1, save_best_only=True, mode='auto')"
   ]
  },
  {
   "cell_type": "code",
   "execution_count": 42,
   "id": "36bf74b6",
   "metadata": {
    "execution": {
     "iopub.execute_input": "2022-10-30T16:22:35.672430Z",
     "iopub.status.busy": "2022-10-30T16:22:35.671731Z",
     "iopub.status.idle": "2022-10-30T16:22:35.676385Z",
     "shell.execute_reply": "2022-10-30T16:22:35.675216Z"
    },
    "papermill": {
     "duration": 0.089598,
     "end_time": "2022-10-30T16:22:35.679010",
     "exception": false,
     "start_time": "2022-10-30T16:22:35.589412",
     "status": "completed"
    },
    "tags": []
   },
   "outputs": [],
   "source": [
    "mycallbacks_3 = [stopperCallback3,\\\n",
    "                 history_callback_3,\\\n",
    "                 checkpoint_3,\\\n",
    "                 tfcb_3]"
   ]
  },
  {
   "cell_type": "markdown",
   "id": "95a59302",
   "metadata": {
    "papermill": {
     "duration": 0.080716,
     "end_time": "2022-10-30T16:22:35.840881",
     "exception": false,
     "start_time": "2022-10-30T16:22:35.760165",
     "status": "completed"
    },
    "tags": []
   },
   "source": [
    "### Compile Model 3"
   ]
  },
  {
   "cell_type": "code",
   "execution_count": 43,
   "id": "ec0eb62b",
   "metadata": {
    "execution": {
     "iopub.execute_input": "2022-10-30T16:22:36.006243Z",
     "iopub.status.busy": "2022-10-30T16:22:36.005436Z",
     "iopub.status.idle": "2022-10-30T16:22:36.018597Z",
     "shell.execute_reply": "2022-10-30T16:22:36.016847Z"
    },
    "papermill": {
     "duration": 0.099302,
     "end_time": "2022-10-30T16:22:36.021572",
     "exception": false,
     "start_time": "2022-10-30T16:22:35.922270",
     "status": "completed"
    },
    "tags": []
   },
   "outputs": [
    {
     "name": "stdout",
     "output_type": "stream",
     "text": [
      "Model: \"model\"\n",
      "__________________________________________________________________________________________________\n",
      "Layer (type)                    Output Shape         Param #     Connected to                     \n",
      "==================================================================================================\n",
      "detailed_tumor_type (InputLayer [(None, 11)]         0                                            \n",
      "__________________________________________________________________________________________________\n",
      "input_remaining (InputLayer)    [(None, 24)]         0                                            \n",
      "__________________________________________________________________________________________________\n",
      "Emb_detailed_tumor_type (Embedd (None, 11, 10)       2560        detailed_tumor_type[0][0]        \n",
      "__________________________________________________________________________________________________\n",
      "numerical_features (Dense)      (None, 8)            200         input_remaining[0][0]            \n",
      "__________________________________________________________________________________________________\n",
      "dtumort_flatten_1 (Flatten)     (None, 110)          0           Emb_detailed_tumor_type[0][0]    \n",
      "__________________________________________________________________________________________________\n",
      "Concatenate (Concatenate)       (None, 118)          0           numerical_features[0][0]         \n",
      "                                                                 dtumort_flatten_1[0][0]          \n",
      "__________________________________________________________________________________________________\n",
      "Dense_layer1_after_concat (Dens (None, 256)          30464       Concatenate[0][0]                \n",
      "__________________________________________________________________________________________________\n",
      "dropout_1 (Dropout)             (None, 256)          0           Dense_layer1_after_concat[0][0]  \n",
      "__________________________________________________________________________________________________\n",
      "Dense_layer2_after_concat (Dens (None, 128)          32896       dropout_1[0][0]                  \n",
      "__________________________________________________________________________________________________\n",
      "dropout_2 (Dropout)             (None, 128)          0           Dense_layer2_after_concat[0][0]  \n",
      "__________________________________________________________________________________________________\n",
      "Dense_layer3_after_concat (Dens (None, 64)           8256        dropout_2[0][0]                  \n",
      "__________________________________________________________________________________________________\n",
      "output_layer (Dense)            (None, 2)            130         Dense_layer3_after_concat[0][0]  \n",
      "==================================================================================================\n",
      "Total params: 74,506\n",
      "Trainable params: 74,506\n",
      "Non-trainable params: 0\n",
      "__________________________________________________________________________________________________\n"
     ]
    }
   ],
   "source": [
    "model_3.compile(optimizer=adamopt,\\\n",
    "                loss = tf.keras.losses.sparse_categorical_crossentropy,\\\n",
    "                metrics=['accuracy'])\n",
    "\n",
    "model_3.summary()"
   ]
  },
  {
   "cell_type": "markdown",
   "id": "a5116a1c",
   "metadata": {
    "execution": {
     "iopub.execute_input": "2022-10-30T12:40:10.162048Z",
     "iopub.status.busy": "2022-10-30T12:40:10.161638Z",
     "iopub.status.idle": "2022-10-30T12:40:10.168459Z",
     "shell.execute_reply": "2022-10-30T12:40:10.166802Z",
     "shell.execute_reply.started": "2022-10-30T12:40:10.162015Z"
    },
    "papermill": {
     "duration": 0.081154,
     "end_time": "2022-10-30T16:22:36.184241",
     "exception": false,
     "start_time": "2022-10-30T16:22:36.103087",
     "status": "completed"
    },
    "tags": []
   },
   "source": [
    "### Visualize Model 3 Architecture"
   ]
  },
  {
   "cell_type": "code",
   "execution_count": 44,
   "id": "11303540",
   "metadata": {
    "execution": {
     "iopub.execute_input": "2022-10-30T16:22:36.350162Z",
     "iopub.status.busy": "2022-10-30T16:22:36.348867Z",
     "iopub.status.idle": "2022-10-30T16:22:36.485035Z",
     "shell.execute_reply": "2022-10-30T16:22:36.483686Z"
    },
    "papermill": {
     "duration": 0.221269,
     "end_time": "2022-10-30T16:22:36.487425",
     "exception": false,
     "start_time": "2022-10-30T16:22:36.266156",
     "status": "completed"
    },
    "tags": []
   },
   "outputs": [
    {
     "data": {
      "image/png": "[encoded data removed]",
      "text/plain": [
       "<IPython.core.display.Image object>"
      ]
     },
     "execution_count": 44,
     "metadata": {},
     "output_type": "execute_result"
    }
   ],
   "source": [
    "plot_model(model_3)"
   ]
  },
  {
   "cell_type": "markdown",
   "id": "b3ebf98e",
   "metadata": {
    "papermill": {
     "duration": 0.083674,
     "end_time": "2022-10-30T16:22:36.654355",
     "exception": false,
     "start_time": "2022-10-30T16:22:36.570681",
     "status": "completed"
    },
    "tags": []
   },
   "source": [
    "### Train Model 3"
   ]
  },
  {
   "cell_type": "code",
   "execution_count": 45,
   "id": "2645de26",
   "metadata": {
    "execution": {
     "iopub.execute_input": "2022-10-30T16:22:36.827563Z",
     "iopub.status.busy": "2022-10-30T16:22:36.826634Z",
     "iopub.status.idle": "2022-10-30T16:22:57.626026Z",
     "shell.execute_reply": "2022-10-30T16:22:57.624687Z"
    },
    "papermill": {
     "duration": 20.889862,
     "end_time": "2022-10-30T16:22:57.628452",
     "exception": false,
     "start_time": "2022-10-30T16:22:36.738590",
     "status": "completed"
    },
    "tags": []
   },
   "outputs": [
    {
     "name": "stdout",
     "output_type": "stream",
     "text": [
      "Epoch 1/30\n",
      "32/89 [=========>....................] - ETA: 0s - loss: 0.7679 - accuracy: 0.5610"
     ]
    },
    {
     "name": "stderr",
     "output_type": "stream",
     "text": [
      "2022-10-30 16:22:37.638206: I tensorflow/core/profiler/lib/profiler_session.cc:131] Profiler session initializing.\n",
      "2022-10-30 16:22:37.638263: I tensorflow/core/profiler/lib/profiler_session.cc:146] Profiler session started.\n",
      "2022-10-30 16:22:37.689824: I tensorflow/core/profiler/lib/profiler_session.cc:66] Profiler session collecting data.\n",
      "2022-10-30 16:22:37.691694: I tensorflow/core/profiler/lib/profiler_session.cc:164] Profiler session tear down.\n",
      "2022-10-30 16:22:37.694026: I tensorflow/core/profiler/rpc/client/save_profile.cc:136] Creating directory: logs/fits/Model_3/train/plugins/profile/2022_10_30_16_22_37\n",
      "\n",
      "2022-10-30 16:22:37.695425: I tensorflow/core/profiler/rpc/client/save_profile.cc:142] Dumped gzipped tool data for trace.json.gz to logs/fits/Model_3/train/plugins/profile/2022_10_30_16_22_37/1be5dcaa276b.trace.json.gz\n",
      "2022-10-30 16:22:37.699054: I tensorflow/core/profiler/rpc/client/save_profile.cc:136] Creating directory: logs/fits/Model_3/train/plugins/profile/2022_10_30_16_22_37\n",
      "\n",
      "2022-10-30 16:22:37.700044: I tensorflow/core/profiler/rpc/client/save_profile.cc:142] Dumped gzipped tool data for memory_profile.json.gz to logs/fits/Model_3/train/plugins/profile/2022_10_30_16_22_37/1be5dcaa276b.memory_profile.json.gz\n",
      "2022-10-30 16:22:37.700582: I tensorflow/core/profiler/rpc/client/capture_profile.cc:251] Creating directory: logs/fits/Model_3/train/plugins/profile/2022_10_30_16_22_37\n",
      "Dumped tool data for xplane.pb to logs/fits/Model_3/train/plugins/profile/2022_10_30_16_22_37/1be5dcaa276b.xplane.pb\n",
      "Dumped tool data for overview_page.pb to logs/fits/Model_3/train/plugins/profile/2022_10_30_16_22_37/1be5dcaa276b.overview_page.pb\n",
      "Dumped tool data for input_pipeline.pb to logs/fits/Model_3/train/plugins/profile/2022_10_30_16_22_37/1be5dcaa276b.input_pipeline.pb\n",
      "Dumped tool data for tensorflow_stats.pb to logs/fits/Model_3/train/plugins/profile/2022_10_30_16_22_37/1be5dcaa276b.tensorflow_stats.pb\n",
      "Dumped tool data for kernel_stats.pb to logs/fits/Model_3/train/plugins/profile/2022_10_30_16_22_37/1be5dcaa276b.kernel_stats.pb\n",
      "\n"
     ]
    },
    {
     "name": "stdout",
     "output_type": "stream",
     "text": [
      "89/89 [==============================] - 1s 8ms/step - loss: 0.6909 - accuracy: 0.5996 - val_loss: 0.6015 - val_accuracy: 0.6627\n",
      " Val F1 Score :  0.6627\n",
      "\n",
      "Epoch 00001: val_accuracy improved from -inf to 0.66270, saving model to ./Saved_Models/best_model_3.hdf5\n",
      "Epoch 2/30\n",
      "89/89 [==============================] - 0s 5ms/step - loss: 0.6103 - accuracy: 0.6575 - val_loss: 0.5937 - val_accuracy: 0.6660\n",
      " Val F1 Score :  0.666\n",
      "\n",
      "Epoch 00002: val_accuracy improved from 0.66270 to 0.66598, saving model to ./Saved_Models/best_model_3.hdf5\n",
      "Epoch 3/30\n",
      "89/89 [==============================] - 0s 5ms/step - loss: 0.5809 - accuracy: 0.6944 - val_loss: 0.5850 - val_accuracy: 0.6799\n",
      " Val F1 Score :  0.6799\n",
      "\n",
      "Epoch 00003: val_accuracy improved from 0.66598 to 0.67993, saving model to ./Saved_Models/best_model_3.hdf5\n",
      "Epoch 4/30\n",
      "89/89 [==============================] - 0s 4ms/step - loss: 0.5487 - accuracy: 0.7203 - val_loss: 0.5586 - val_accuracy: 0.7050\n",
      " Val F1 Score :  0.705\n",
      "\n",
      "Epoch 00004: val_accuracy improved from 0.67993 to 0.70497, saving model to ./Saved_Models/best_model_3.hdf5\n",
      "Epoch 5/30\n",
      "89/89 [==============================] - 0s 5ms/step - loss: 0.5393 - accuracy: 0.7247 - val_loss: 0.5505 - val_accuracy: 0.7136\n",
      " Val F1 Score :  0.7136\n",
      "\n",
      "Epoch 00005: val_accuracy improved from 0.70497 to 0.71358, saving model to ./Saved_Models/best_model_3.hdf5\n",
      "Epoch 6/30\n",
      "89/89 [==============================] - 0s 5ms/step - loss: 0.5343 - accuracy: 0.7343 - val_loss: 0.5566 - val_accuracy: 0.7132\n",
      " Val F1 Score :  0.7132\n",
      "\n",
      "Epoch 00006: val_accuracy did not improve from 0.71358\n",
      "Epoch 7/30\n",
      "89/89 [==============================] - 0s 5ms/step - loss: 0.5212 - accuracy: 0.7412 - val_loss: 0.5555 - val_accuracy: 0.7206\n",
      " Val F1 Score :  0.7206\n",
      "\n",
      "Epoch 00007: val_accuracy improved from 0.71358 to 0.72056, saving model to ./Saved_Models/best_model_3.hdf5\n",
      "Epoch 8/30\n",
      "89/89 [==============================] - 0s 5ms/step - loss: 0.5145 - accuracy: 0.7461 - val_loss: 0.5583 - val_accuracy: 0.7197\n",
      " Val F1 Score :  0.7197\n",
      "\n",
      "Epoch 00008: val_accuracy did not improve from 0.72056\n",
      "Epoch 9/30\n",
      "89/89 [==============================] - 0s 5ms/step - loss: 0.5146 - accuracy: 0.7463 - val_loss: 0.5871 - val_accuracy: 0.7136\n",
      " Val F1 Score :  0.7136\n",
      "\n",
      "Epoch 00009: val_accuracy did not improve from 0.72056\n",
      "Epoch 10/30\n",
      "89/89 [==============================] - 0s 5ms/step - loss: 0.4965 - accuracy: 0.7558 - val_loss: 0.5563 - val_accuracy: 0.7251\n",
      " Val F1 Score :  0.7251\n",
      "\n",
      "Epoch 00010: val_accuracy improved from 0.72056 to 0.72507, saving model to ./Saved_Models/best_model_3.hdf5\n",
      "Epoch 11/30\n",
      "89/89 [==============================] - 0s 5ms/step - loss: 0.5089 - accuracy: 0.7444 - val_loss: 0.5574 - val_accuracy: 0.7206\n",
      " Val F1 Score :  0.7206\n",
      "\n",
      "Epoch 00011: val_accuracy did not improve from 0.72507\n",
      "Epoch 12/30\n",
      "89/89 [==============================] - 0s 5ms/step - loss: 0.4861 - accuracy: 0.7604 - val_loss: 0.5681 - val_accuracy: 0.7148\n",
      " Val F1 Score :  0.7148\n",
      "\n",
      "Epoch 00012: val_accuracy did not improve from 0.72507\n",
      "Epoch 13/30\n",
      "89/89 [==============================] - 0s 5ms/step - loss: 0.4762 - accuracy: 0.7651 - val_loss: 0.5984 - val_accuracy: 0.7333\n",
      " Val F1 Score :  0.7333\n",
      "\n",
      "Epoch 00013: val_accuracy improved from 0.72507 to 0.73328, saving model to ./Saved_Models/best_model_3.hdf5\n",
      "Epoch 14/30\n",
      "89/89 [==============================] - 0s 5ms/step - loss: 0.4777 - accuracy: 0.7713 - val_loss: 0.5637 - val_accuracy: 0.7095\n",
      " Val F1 Score :  0.7095\n",
      "\n",
      "Epoch 00014: val_accuracy did not improve from 0.73328\n",
      "Epoch 15/30\n",
      "89/89 [==============================] - 0s 5ms/step - loss: 0.4766 - accuracy: 0.7716 - val_loss: 0.5631 - val_accuracy: 0.7300\n",
      " Val F1 Score :  0.73\n",
      "\n",
      "Epoch 00015: val_accuracy did not improve from 0.73328\n",
      "Epoch 16/30\n",
      "89/89 [==============================] - 0s 5ms/step - loss: 0.4736 - accuracy: 0.7665 - val_loss: 0.5948 - val_accuracy: 0.7238\n",
      " Val F1 Score :  0.7238\n",
      "\n",
      "Epoch 00016: val_accuracy did not improve from 0.73328\n",
      "Epoch 17/30\n",
      "89/89 [==============================] - 0s 5ms/step - loss: 0.4679 - accuracy: 0.7736 - val_loss: 0.5765 - val_accuracy: 0.7349\n",
      " Val F1 Score :  0.7349\n",
      "\n",
      "Epoch 00017: val_accuracy improved from 0.73328 to 0.73492, saving model to ./Saved_Models/best_model_3.hdf5\n",
      "Epoch 18/30\n",
      "89/89 [==============================] - 0s 5ms/step - loss: 0.4579 - accuracy: 0.7720 - val_loss: 0.6112 - val_accuracy: 0.7193\n",
      " Val F1 Score :  0.7193\n",
      "\n",
      "Epoch 00018: val_accuracy did not improve from 0.73492\n",
      "Epoch 19/30\n",
      "89/89 [==============================] - 0s 5ms/step - loss: 0.4599 - accuracy: 0.7771 - val_loss: 0.6029 - val_accuracy: 0.7128\n",
      " Val F1 Score :  0.7128\n",
      "\n",
      "Epoch 00019: val_accuracy did not improve from 0.73492\n",
      "Epoch 20/30\n",
      "89/89 [==============================] - 0s 5ms/step - loss: 0.4671 - accuracy: 0.7771 - val_loss: 0.6300 - val_accuracy: 0.6927\n",
      " Val F1 Score :  0.6927\n",
      "\n",
      "Epoch 00020: val_accuracy did not improve from 0.73492\n",
      "Epoch 21/30\n",
      "89/89 [==============================] - 0s 5ms/step - loss: 0.4513 - accuracy: 0.7834 - val_loss: 0.5913 - val_accuracy: 0.7284\n",
      " Val F1 Score :  0.7284\n",
      "\n",
      "Epoch 00021: val_accuracy did not improve from 0.73492\n",
      "Epoch 22/30\n",
      "89/89 [==============================] - 0s 4ms/step - loss: 0.4487 - accuracy: 0.7845 - val_loss: 0.6214 - val_accuracy: 0.7275\n",
      " Val F1 Score :  0.7275\n",
      "\n",
      "Epoch 00022: val_accuracy did not improve from 0.73492\n",
      "Epoch 23/30\n",
      "89/89 [==============================] - 0s 5ms/step - loss: 0.4474 - accuracy: 0.7827 - val_loss: 0.6229 - val_accuracy: 0.7251\n",
      " Val F1 Score :  0.7251\n",
      "\n",
      "Epoch 00023: val_accuracy did not improve from 0.73492\n",
      "Epoch 24/30\n",
      "89/89 [==============================] - 0s 5ms/step - loss: 0.4424 - accuracy: 0.7838 - val_loss: 0.6737 - val_accuracy: 0.7284\n",
      " Val F1 Score :  0.7284\n",
      "\n",
      "Epoch 00024: val_accuracy did not improve from 0.73492\n",
      "Epoch 25/30\n",
      "89/89 [==============================] - 0s 5ms/step - loss: 0.4402 - accuracy: 0.7848 - val_loss: 0.6484 - val_accuracy: 0.7103\n",
      " Val F1 Score :  0.7103\n",
      "\n",
      "Epoch 00025: val_accuracy did not improve from 0.73492\n",
      "Epoch 26/30\n",
      "89/89 [==============================] - 0s 5ms/step - loss: 0.4383 - accuracy: 0.7869 - val_loss: 0.6616 - val_accuracy: 0.7169\n",
      " Val F1 Score :  0.7169\n",
      "\n",
      "Epoch 00026: val_accuracy did not improve from 0.73492\n",
      "Epoch 27/30\n",
      "89/89 [==============================] - 1s 8ms/step - loss: 0.4323 - accuracy: 0.7885 - val_loss: 0.7591 - val_accuracy: 0.7259\n",
      " Val F1 Score :  0.7259\n",
      "\n",
      "Epoch 00027: val_accuracy did not improve from 0.73492\n",
      "Epoch 28/30\n",
      "89/89 [==============================] - 0s 5ms/step - loss: 0.4376 - accuracy: 0.7924 - val_loss: 0.6404 - val_accuracy: 0.7189\n",
      " Val F1 Score :  0.7189\n",
      "\n",
      "Epoch 00028: val_accuracy did not improve from 0.73492\n",
      "Epoch 29/30\n",
      "89/89 [==============================] - 0s 5ms/step - loss: 0.4326 - accuracy: 0.7894 - val_loss: 0.6432 - val_accuracy: 0.7177\n",
      " Val F1 Score :  0.7177\n",
      "\n",
      "Epoch 00029: val_accuracy did not improve from 0.73492\n",
      "Epoch 30/30\n",
      "89/89 [==============================] - 0s 5ms/step - loss: 0.4318 - accuracy: 0.7936 - val_loss: 0.7296 - val_accuracy: 0.7230\n",
      " Val F1 Score :  0.723\n",
      "\n",
      "Epoch 00030: val_accuracy did not improve from 0.73492\n"
     ]
    }
   ],
   "source": [
    "history_3 = model_3.fit(x = X_train_emb,\\\n",
    "                        y = y_train,\\\n",
    "                        batch_size=batch_size,\\\n",
    "                        epochs=epochs,\\\n",
    "                        steps_per_epoch = int(np.ceil(X_train_emb[0].shape[0] / batch_size) ),\\\n",
    "                        validation_data=(X_test_emb, y_test),\\\n",
    "                        callbacks=mycallbacks_3)"
   ]
  },
  {
   "cell_type": "markdown",
   "id": "3df4c64f",
   "metadata": {
    "papermill": {
     "duration": 0.099123,
     "end_time": "2022-10-30T16:22:57.829385",
     "exception": false,
     "start_time": "2022-10-30T16:22:57.730262",
     "status": "completed"
    },
    "tags": []
   },
   "source": [
    "### Plot the train and test loss graph of all models"
   ]
  },
  {
   "cell_type": "code",
   "execution_count": 46,
   "id": "ddba5046",
   "metadata": {
    "execution": {
     "iopub.execute_input": "2022-10-30T16:22:58.032556Z",
     "iopub.status.busy": "2022-10-30T16:22:58.031464Z",
     "iopub.status.idle": "2022-10-30T16:22:58.368142Z",
     "shell.execute_reply": "2022-10-30T16:22:58.366752Z"
    },
    "papermill": {
     "duration": 0.441736,
     "end_time": "2022-10-30T16:22:58.370344",
     "exception": false,
     "start_time": "2022-10-30T16:22:57.928608",
     "status": "completed"
    },
    "tags": []
   },
   "outputs": [
    {
     "data": {
      "text/plain": [
       "<matplotlib.legend.Legend at 0x7f0ff4502710>"
      ]
     },
     "execution_count": 46,
     "metadata": {},
     "output_type": "execute_result"
    },
    {
     "data": {
      "image/png": "[encoded data removed]",
      "text/plain": [
       "<Figure size 720x432 with 1 Axes>"
      ]
     },
     "metadata": {
      "needs_background": "light"
     },
     "output_type": "display_data"
    }
   ],
   "source": [
    "fig1, ax = plt.subplots(figsize=(10,6))\n",
    "fig1.subplots_adjust(left=.16, bottom=.2, right=.99, top=.90)\n",
    "plt.plot(history_1.history['loss'], label='model_1 training loss')\n",
    "plt.plot(history_2.history['loss'], label='model_2 training loss')\n",
    "plt.plot(history_3.history['loss'], label='model_3 training loss')\n",
    "plt.plot(history_1.history['val_loss'], label='model_1 validation loss')\n",
    "plt.plot(history_2.history['val_loss'], label='model_2 validation loss')\n",
    "plt.plot(history_3.history['val_loss'], label='model_3 validation loss')\n",
    "plt.xlabel('Epochs')\n",
    "plt.ylabel('Loss')\n",
    "plt.legend()"
   ]
  },
  {
   "cell_type": "markdown",
   "id": "3ede8410",
   "metadata": {
    "papermill": {
     "duration": 0.159098,
     "end_time": "2022-10-30T16:22:58.634438",
     "exception": false,
     "start_time": "2022-10-30T16:22:58.475340",
     "status": "completed"
    },
    "tags": []
   },
   "source": [
    "### TensorBoard Visualization"
   ]
  },
  {
   "cell_type": "code",
   "execution_count": 47,
   "id": "e14ebdf8",
   "metadata": {
    "execution": {
     "iopub.execute_input": "2022-10-30T16:22:58.846734Z",
     "iopub.status.busy": "2022-10-30T16:22:58.845334Z",
     "iopub.status.idle": "2022-10-30T16:23:03.394996Z",
     "shell.execute_reply": "2022-10-30T16:23:03.393969Z"
    },
    "papermill": {
     "duration": 4.658481,
     "end_time": "2022-10-30T16:23:03.397163",
     "exception": false,
     "start_time": "2022-10-30T16:22:58.738682",
     "status": "completed"
    },
    "tags": []
   },
   "outputs": [
    {
     "data": {
      "text/html": [
       "\n",
       "      <iframe id=\"tensorboard-frame-6f29a17ab467dd92\" width=\"100%\" height=\"800\" frameborder=\"0\">\n",
       "      </iframe>\n",
       "      <script>\n",
       "        (function() {\n",
       "          const frame = document.getElementById(\"tensorboard-frame-6f29a17ab467dd92\");\n",
       "          const url = new URL(\"/\", window.location);\n",
       "          const port = 6006;\n",
       "          if (port) {\n",
       "            url.port = port;\n",
       "          }\n",
       "          frame.src = url;\n",
       "        })();\n",
       "      </script>\n",
       "    "
      ],
      "text/plain": [
       "<IPython.core.display.HTML object>"
      ]
     },
     "metadata": {},
     "output_type": "display_data"
    }
   ],
   "source": [
    "# Load Tensor Board\n",
    "%load_ext tensorboard\n",
    "%tensorboard --logdir logs/fits"
   ]
  },
  {
   "cell_type": "markdown",
   "id": "43fec952",
   "metadata": {
    "papermill": {
     "duration": 0.100799,
     "end_time": "2022-10-30T16:23:03.597732",
     "exception": false,
     "start_time": "2022-10-30T16:23:03.496933",
     "status": "completed"
    },
    "tags": []
   },
   "source": [
    "### Summary"
   ]
  },
  {
   "cell_type": "markdown",
   "id": "68661022",
   "metadata": {},
   "source": [
    "| **No** | **Model** |                    **Description**                   | **Validation Accuracy** |\n",
    "|:------:|:---------:|:----------------------------------------------------:|:-----------------------:|\n",
    "|      1 |     DNN 1 | DNN with numerical features only                     |                 0.66270 |\n",
    "|      2 |     DNN 2 | DNN with numerical features  and more layers         |                 0.57940 |\n",
    "|      3 |     DNN 3 | DNN with numerical features  and categorical feature |                 0.73492 |"
   ]
  },
  {
   "cell_type": "code",
   "execution_count": null,
   "id": "5c4ff8a0",
   "metadata": {},
   "outputs": [],
   "source": []
  }
 ],
 "metadata": {
  "kernelspec": {
   "display_name": "Python 3 (ipykernel)",
   "language": "python",
   "name": "python3"
  },
  "language_info": {
   "codemirror_mode": {
    "name": "ipython",
    "version": 3
   },
   "file_extension": ".py",
   "mimetype": "text/x-python",
   "name": "python",
   "nbconvert_exporter": "python",
   "pygments_lexer": "ipython3",
   "version": "3.9.12"
  },
  "papermill": {
   "default_parameters": {},
   "duration": 155.874581,
   "end_time": "2022-10-30T16:23:06.320170",
   "environment_variables": {},
   "exception": null,
   "input_path": "__notebook__.ipynb",
   "output_path": "__notebook__.ipynb",
   "parameters": {},
   "start_time": "2022-10-30T16:20:30.445589",
   "version": "2.3.4"
  }
 },
 "nbformat": 4,
 "nbformat_minor": 5
}
