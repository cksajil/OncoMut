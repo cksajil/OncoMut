{
 "cells": [
  {
   "cell_type": "markdown",
   "id": "63462eeb",
   "metadata": {},
   "source": [
    "### Import Libraries"
   ]
  },
  {
   "cell_type": "code",
   "execution_count": 18,
   "id": "2b55a1c4",
   "metadata": {},
   "outputs": [
    {
     "ename": "ModuleNotFoundError",
     "evalue": "No module named 'tensorflow'",
     "output_type": "error",
     "traceback": [
      "\u001b[0;31m---------------------------------------------------------------------------\u001b[0m",
      "\u001b[0;31mModuleNotFoundError\u001b[0m                       Traceback (most recent call last)",
      "Input \u001b[0;32mIn [18]\u001b[0m, in \u001b[0;36m<cell line: 2>\u001b[0;34m()\u001b[0m\n\u001b[1;32m      1\u001b[0m \u001b[38;5;28;01mimport\u001b[39;00m \u001b[38;5;21;01mpandas\u001b[39;00m \u001b[38;5;28;01mas\u001b[39;00m \u001b[38;5;21;01mpd\u001b[39;00m\n\u001b[0;32m----> 2\u001b[0m \u001b[38;5;28;01mimport\u001b[39;00m \u001b[38;5;21;01mtensorflow\u001b[39;00m \u001b[38;5;28;01mas\u001b[39;00m \u001b[38;5;21;01mtf\u001b[39;00m\n\u001b[1;32m      3\u001b[0m \u001b[38;5;28;01mfrom\u001b[39;00m \u001b[38;5;21;01msklearn\u001b[39;00m\u001b[38;5;21;01m.\u001b[39;00m\u001b[38;5;21;01mmodel_selection\u001b[39;00m \u001b[38;5;28;01mimport\u001b[39;00m train_test_split\n",
      "\u001b[0;31mModuleNotFoundError\u001b[0m: No module named 'tensorflow'"
     ]
    }
   ],
   "source": [
    "import pandas as pd\n",
    "import tensorflow as tf\n",
    "from sklearn.model_selection import train_test_split"
   ]
  },
  {
   "cell_type": "markdown",
   "id": "fd1f8881",
   "metadata": {},
   "source": [
    "### Load dataset"
   ]
  },
  {
   "cell_type": "code",
   "execution_count": 2,
   "id": "4128b3e1",
   "metadata": {},
   "outputs": [],
   "source": [
    "data = pd.read_csv('./processed_data/processed_data.csv')"
   ]
  },
  {
   "cell_type": "markdown",
   "id": "0c324e29",
   "metadata": {},
   "source": [
    "### Import Dataset if Kaggle Notebook"
   ]
  },
  {
   "cell_type": "code",
   "execution_count": null,
   "id": "97616828",
   "metadata": {},
   "outputs": [],
   "source": [
    "# !kaggle datasets download -d 'msk-impact'\n",
    "# !7za x msk-impact.zip -o/content\n",
    "# !rm msk-impact.zip.zip"
   ]
  },
  {
   "cell_type": "code",
   "execution_count": 9,
   "id": "bcff30ba",
   "metadata": {},
   "outputs": [
    {
     "data": {
      "text/html": [
       "<div>\n",
       "<style scoped>\n",
       "    .dataframe tbody tr th:only-of-type {\n",
       "        vertical-align: middle;\n",
       "    }\n",
       "\n",
       "    .dataframe tbody tr th {\n",
       "        vertical-align: top;\n",
       "    }\n",
       "\n",
       "    .dataframe thead th {\n",
       "        text-align: right;\n",
       "    }\n",
       "</style>\n",
       "<table border=\"1\" class=\"dataframe\">\n",
       "  <thead>\n",
       "    <tr style=\"text-align: right;\">\n",
       "      <th></th>\n",
       "      <th>SAMPLE_ID</th>\n",
       "      <th>SAMPLE_COLLECTION_SOURCE</th>\n",
       "      <th>SPECIMEN_TYPE</th>\n",
       "      <th>SAMPLE_COVERAGE</th>\n",
       "      <th>TUMOR_PURITY</th>\n",
       "      <th>SAMPLE_TYPE</th>\n",
       "      <th>SAMPLE_CLASS</th>\n",
       "      <th>ONCOTREE_CODE</th>\n",
       "      <th>CANCER_TYPE_DETAILED</th>\n",
       "      <th>SOMATIC_STATUS</th>\n",
       "      <th>...</th>\n",
       "      <th>TumorTypeCode</th>\n",
       "      <th>ExonicMutationCount</th>\n",
       "      <th>SNVCount</th>\n",
       "      <th>INDELCount</th>\n",
       "      <th>SCNACount</th>\n",
       "      <th>SVCount</th>\n",
       "      <th>SilentMutationCount</th>\n",
       "      <th>TissueAge_yrs</th>\n",
       "      <th>N</th>\n",
       "      <th>Cancer_Type</th>\n",
       "    </tr>\n",
       "  </thead>\n",
       "  <tbody>\n",
       "    <tr>\n",
       "      <th>0</th>\n",
       "      <td>P-0000023-T01-IM3</td>\n",
       "      <td>In-House</td>\n",
       "      <td>Biopsy</td>\n",
       "      <td>454</td>\n",
       "      <td>30.0</td>\n",
       "      <td>0</td>\n",
       "      <td>Tumor</td>\n",
       "      <td>PEMESO</td>\n",
       "      <td>Peritoneal Mesothelioma</td>\n",
       "      <td>Matched</td>\n",
       "      <td>...</td>\n",
       "      <td>PEMESO</td>\n",
       "      <td>5</td>\n",
       "      <td>3</td>\n",
       "      <td>2</td>\n",
       "      <td>1</td>\n",
       "      <td>0</td>\n",
       "      <td>0</td>\n",
       "      <td>0.52</td>\n",
       "      <td>18</td>\n",
       "      <td>Mesothelioma</td>\n",
       "    </tr>\n",
       "    <tr>\n",
       "      <th>1</th>\n",
       "      <td>P-0001126-T01-IM3</td>\n",
       "      <td>In-House</td>\n",
       "      <td>Resection</td>\n",
       "      <td>574</td>\n",
       "      <td>30.0</td>\n",
       "      <td>1</td>\n",
       "      <td>Tumor</td>\n",
       "      <td>PEMESO</td>\n",
       "      <td>Peritoneal Mesothelioma</td>\n",
       "      <td>Matched</td>\n",
       "      <td>...</td>\n",
       "      <td>PEMESO</td>\n",
       "      <td>2</td>\n",
       "      <td>1</td>\n",
       "      <td>1</td>\n",
       "      <td>1</td>\n",
       "      <td>0</td>\n",
       "      <td>1</td>\n",
       "      <td>0.22</td>\n",
       "      <td>18</td>\n",
       "      <td>Mesothelioma</td>\n",
       "    </tr>\n",
       "  </tbody>\n",
       "</table>\n",
       "<p>2 rows × 37 columns</p>\n",
       "</div>"
      ],
      "text/plain": [
       "           SAMPLE_ID SAMPLE_COLLECTION_SOURCE SPECIMEN_TYPE  SAMPLE_COVERAGE  \\\n",
       "0  P-0000023-T01-IM3                 In-House        Biopsy              454   \n",
       "1  P-0001126-T01-IM3                 In-House     Resection              574   \n",
       "\n",
       "   TUMOR_PURITY  SAMPLE_TYPE SAMPLE_CLASS ONCOTREE_CODE  \\\n",
       "0          30.0            0        Tumor        PEMESO   \n",
       "1          30.0            1        Tumor        PEMESO   \n",
       "\n",
       "      CANCER_TYPE_DETAILED SOMATIC_STATUS  ...  TumorTypeCode  \\\n",
       "0  Peritoneal Mesothelioma        Matched  ...         PEMESO   \n",
       "1  Peritoneal Mesothelioma        Matched  ...         PEMESO   \n",
       "\n",
       "  ExonicMutationCount SNVCount INDELCount  SCNACount SVCount  \\\n",
       "0                   5        3          2          1       0   \n",
       "1                   2        1          1          1       0   \n",
       "\n",
       "  SilentMutationCount TissueAge_yrs   N   Cancer_Type  \n",
       "0                   0          0.52  18  Mesothelioma  \n",
       "1                   1          0.22  18  Mesothelioma  \n",
       "\n",
       "[2 rows x 37 columns]"
      ]
     },
     "execution_count": 9,
     "metadata": {},
     "output_type": "execute_result"
    }
   ],
   "source": [
    "data.head(2)"
   ]
  },
  {
   "cell_type": "markdown",
   "id": "814bebee",
   "metadata": {},
   "source": [
    "#### Convert Binary Target Variable to Numeric"
   ]
  },
  {
   "cell_type": "code",
   "execution_count": 8,
   "id": "44af21eb",
   "metadata": {},
   "outputs": [],
   "source": [
    "data['SAMPLE_TYPE'].replace(['Primary', 'Metastasis'],[0, 1], inplace=True)"
   ]
  },
  {
   "cell_type": "code",
   "execution_count": 10,
   "id": "e501b445",
   "metadata": {},
   "outputs": [
    {
     "data": {
      "text/html": [
       "<div>\n",
       "<style scoped>\n",
       "    .dataframe tbody tr th:only-of-type {\n",
       "        vertical-align: middle;\n",
       "    }\n",
       "\n",
       "    .dataframe tbody tr th {\n",
       "        vertical-align: top;\n",
       "    }\n",
       "\n",
       "    .dataframe thead th {\n",
       "        text-align: right;\n",
       "    }\n",
       "</style>\n",
       "<table border=\"1\" class=\"dataframe\">\n",
       "  <thead>\n",
       "    <tr style=\"text-align: right;\">\n",
       "      <th></th>\n",
       "      <th>SAMPLE_ID</th>\n",
       "      <th>SAMPLE_COLLECTION_SOURCE</th>\n",
       "      <th>SPECIMEN_TYPE</th>\n",
       "      <th>SAMPLE_COVERAGE</th>\n",
       "      <th>TUMOR_PURITY</th>\n",
       "      <th>SAMPLE_TYPE</th>\n",
       "      <th>SAMPLE_CLASS</th>\n",
       "      <th>ONCOTREE_CODE</th>\n",
       "      <th>CANCER_TYPE_DETAILED</th>\n",
       "      <th>SOMATIC_STATUS</th>\n",
       "      <th>...</th>\n",
       "      <th>TumorTypeCode</th>\n",
       "      <th>ExonicMutationCount</th>\n",
       "      <th>SNVCount</th>\n",
       "      <th>INDELCount</th>\n",
       "      <th>SCNACount</th>\n",
       "      <th>SVCount</th>\n",
       "      <th>SilentMutationCount</th>\n",
       "      <th>TissueAge_yrs</th>\n",
       "      <th>N</th>\n",
       "      <th>Cancer_Type</th>\n",
       "    </tr>\n",
       "  </thead>\n",
       "  <tbody>\n",
       "    <tr>\n",
       "      <th>0</th>\n",
       "      <td>P-0000023-T01-IM3</td>\n",
       "      <td>In-House</td>\n",
       "      <td>Biopsy</td>\n",
       "      <td>454</td>\n",
       "      <td>30.0</td>\n",
       "      <td>0</td>\n",
       "      <td>Tumor</td>\n",
       "      <td>PEMESO</td>\n",
       "      <td>Peritoneal Mesothelioma</td>\n",
       "      <td>Matched</td>\n",
       "      <td>...</td>\n",
       "      <td>PEMESO</td>\n",
       "      <td>5</td>\n",
       "      <td>3</td>\n",
       "      <td>2</td>\n",
       "      <td>1</td>\n",
       "      <td>0</td>\n",
       "      <td>0</td>\n",
       "      <td>0.52</td>\n",
       "      <td>18</td>\n",
       "      <td>Mesothelioma</td>\n",
       "    </tr>\n",
       "    <tr>\n",
       "      <th>1</th>\n",
       "      <td>P-0001126-T01-IM3</td>\n",
       "      <td>In-House</td>\n",
       "      <td>Resection</td>\n",
       "      <td>574</td>\n",
       "      <td>30.0</td>\n",
       "      <td>1</td>\n",
       "      <td>Tumor</td>\n",
       "      <td>PEMESO</td>\n",
       "      <td>Peritoneal Mesothelioma</td>\n",
       "      <td>Matched</td>\n",
       "      <td>...</td>\n",
       "      <td>PEMESO</td>\n",
       "      <td>2</td>\n",
       "      <td>1</td>\n",
       "      <td>1</td>\n",
       "      <td>1</td>\n",
       "      <td>0</td>\n",
       "      <td>1</td>\n",
       "      <td>0.22</td>\n",
       "      <td>18</td>\n",
       "      <td>Mesothelioma</td>\n",
       "    </tr>\n",
       "  </tbody>\n",
       "</table>\n",
       "<p>2 rows × 37 columns</p>\n",
       "</div>"
      ],
      "text/plain": [
       "           SAMPLE_ID SAMPLE_COLLECTION_SOURCE SPECIMEN_TYPE  SAMPLE_COVERAGE  \\\n",
       "0  P-0000023-T01-IM3                 In-House        Biopsy              454   \n",
       "1  P-0001126-T01-IM3                 In-House     Resection              574   \n",
       "\n",
       "   TUMOR_PURITY  SAMPLE_TYPE SAMPLE_CLASS ONCOTREE_CODE  \\\n",
       "0          30.0            0        Tumor        PEMESO   \n",
       "1          30.0            1        Tumor        PEMESO   \n",
       "\n",
       "      CANCER_TYPE_DETAILED SOMATIC_STATUS  ...  TumorTypeCode  \\\n",
       "0  Peritoneal Mesothelioma        Matched  ...         PEMESO   \n",
       "1  Peritoneal Mesothelioma        Matched  ...         PEMESO   \n",
       "\n",
       "  ExonicMutationCount SNVCount INDELCount  SCNACount SVCount  \\\n",
       "0                   5        3          2          1       0   \n",
       "1                   2        1          1          1       0   \n",
       "\n",
       "  SilentMutationCount TissueAge_yrs   N   Cancer_Type  \n",
       "0                   0          0.52  18  Mesothelioma  \n",
       "1                   1          0.22  18  Mesothelioma  \n",
       "\n",
       "[2 rows x 37 columns]"
      ]
     },
     "execution_count": 10,
     "metadata": {},
     "output_type": "execute_result"
    }
   ],
   "source": [
    "data.head(2)"
   ]
  },
  {
   "cell_type": "markdown",
   "id": "971cd12b",
   "metadata": {},
   "source": [
    "### Train and Validation Split"
   ]
  },
  {
   "cell_type": "code",
   "execution_count": 14,
   "id": "2e19bc53",
   "metadata": {},
   "outputs": [],
   "source": [
    "X = data.drop(['SAMPLE_TYPE'], axis=1)\n",
    "y = data[['SAMPLE_TYPE']].astype(int)\n",
    "\n",
    "X_train, X_test, y_train, y_test = train_test_split(X, y, test_size=0.30, random_state=45, stratify=y)"
   ]
  },
  {
   "cell_type": "markdown",
   "id": "8b76270d",
   "metadata": {},
   "source": [
    "### Define Callbacks"
   ]
  },
  {
   "cell_type": "code",
   "execution_count": null,
   "id": "c77bef99",
   "metadata": {},
   "outputs": [],
   "source": [
    "# Callback for micro-f1 score\n",
    "class LossHistory(tf.keras.callbacks.Callback):\n",
    "    \n",
    "    def __init__(self,validation_data):\n",
    "        self.x_test = validation_data[0]\n",
    "        self.y_test= validation_data[1]\n",
    "        \n",
    "    def on_train_begin(self, logs={}):\n",
    "        ## on begin of training, we are creating a instance varible called history\n",
    "        ## it is a dict with keys [loss, acc, val_loss, val_acc]\n",
    "        self.history={'loss': [],'accuracy': [],'val_loss': [],'val_accuracy': [],'val_f1': []}\n",
    "        \n",
    "    def on_epoch_end(self, epoch, logs={}):\n",
    "        ## on end of each epoch, we will get logs and update the self.history dict\n",
    "        self.history['loss'].append(logs.get('loss'))\n",
    "        self.history['accuracy'].append(logs.get('accuracy'))\n",
    "      \n",
    "        if logs.get('val_loss', -1) != -1:\n",
    "            self.history['val_loss'].append(logs.get('val_loss'))\n",
    "        if logs.get('val_accuracy', -1) != -1:\n",
    "            self.history['val_accuracy'].append(logs.get('val_accuracy'))\n",
    "       \n",
    "        y_pred= self.model.predict(self.x_test)\n",
    "        y_label_pred=np.argmax(y_pred,axis=1)\n",
    "        y_test_arg = self.y_test\n",
    "        \n",
    "        F1 = f1_score(y_test_arg, y_label_pred, average='micro')\n",
    "        self.history['val_f1'].append(F1)\n",
    "        print(' Val F1 Score : ', np.round(F1,4))"
   ]
  },
  {
   "cell_type": "code",
   "execution_count": null,
   "id": "286f1f4f",
   "metadata": {},
   "outputs": [],
   "source": [
    "# Early Stopping Scheduler\n",
    "earlyStopper = ReduceLROnPlateau(monitor='val_accuracy', factor=0.9,patience=2, min_lr=0.001)\n",
    "\n",
    "# Learning Rate Scheduler\n",
    "def ruleBasedScheduler(epoch, lr):\n",
    "    if((epoch+1)%3==0):     \n",
    "        lr=0.95*lr   \n",
    "    return lr\n",
    "\n",
    "learningRateScheduler = LearningRateScheduler(ruleBasedScheduler, verbose=0.1)"
   ]
  },
  {
   "cell_type": "markdown",
   "id": "df965a43",
   "metadata": {},
   "source": [
    "### Training Parameter Settings"
   ]
  },
  {
   "cell_type": "code",
   "execution_count": 15,
   "id": "ec8d1dc7",
   "metadata": {},
   "outputs": [],
   "source": [
    "learning_rate = 0.01\n",
    "num_classes = 2\n",
    "epochs = 20\n",
    "batch_size = 64"
   ]
  },
  {
   "cell_type": "markdown",
   "id": "9d023260",
   "metadata": {},
   "source": [
    "### Initialize Optimizers"
   ]
  },
  {
   "cell_type": "code",
   "execution_count": 17,
   "id": "c3d80716",
   "metadata": {},
   "outputs": [
    {
     "ename": "NameError",
     "evalue": "name 'tf' is not defined",
     "output_type": "error",
     "traceback": [
      "\u001b[0;31m---------------------------------------------------------------------------\u001b[0m",
      "\u001b[0;31mNameError\u001b[0m                                 Traceback (most recent call last)",
      "Input \u001b[0;32mIn [17]\u001b[0m, in \u001b[0;36m<cell line: 1>\u001b[0;34m()\u001b[0m\n\u001b[0;32m----> 1\u001b[0m adamopt \u001b[38;5;241m=\u001b[39m \u001b[43mtf\u001b[49m\u001b[38;5;241m.\u001b[39mkeras\u001b[38;5;241m.\u001b[39moptimizers\u001b[38;5;241m.\u001b[39mAdam(lr\u001b[38;5;241m=\u001b[39mlearning_rate, beta_1\u001b[38;5;241m=\u001b[39m\u001b[38;5;241m0.9\u001b[39m, beta_2\u001b[38;5;241m=\u001b[39m\u001b[38;5;241m0.999\u001b[39m, epsilon\u001b[38;5;241m=\u001b[39m\u001b[38;5;241m1e-8\u001b[39m)\n",
      "\u001b[0;31mNameError\u001b[0m: name 'tf' is not defined"
     ]
    }
   ],
   "source": [
    "adamopt = tf.keras.optimizers.Adam(lr=learning_rate, beta_1=0.9, beta_2=0.999, epsilon=1e-8)"
   ]
  },
  {
   "cell_type": "markdown",
   "id": "8cfcc656",
   "metadata": {},
   "source": [
    "### Define Model Architecture"
   ]
  },
  {
   "cell_type": "code",
   "execution_count": null,
   "id": "2c36e7d4",
   "metadata": {},
   "outputs": [],
   "source": []
  },
  {
   "cell_type": "markdown",
   "id": "6977f434",
   "metadata": {},
   "source": [
    "### Initialize History Callback"
   ]
  },
  {
   "cell_type": "code",
   "execution_count": null,
   "id": "f3cda4db",
   "metadata": {},
   "outputs": [],
   "source": [
    "history_callback = LossHistory(validation_data=([X_train, y_test]))  "
   ]
  },
  {
   "cell_type": "markdown",
   "id": "26f42fe7",
   "metadata": {},
   "source": [
    "### Model Persistence"
   ]
  },
  {
   "cell_type": "code",
   "execution_count": null,
   "id": "4ba312e7",
   "metadata": {},
   "outputs": [],
   "source": [
    "# To Save Best Model subject to Validation Accuracy improvement\n",
    "filepath= \"./Model1/best_model_1.hdf5\"\n",
    "checkpoint1 = ModelCheckpoint(filepath=filepath, monitor='val_accuracy',verbose=1, save_best_only=True, mode='auto')"
   ]
  },
  {
   "cell_type": "markdown",
   "id": "084d8916",
   "metadata": {},
   "source": [
    "### TensorBoard Setup"
   ]
  },
  {
   "cell_type": "code",
   "execution_count": null,
   "id": "3728dc34",
   "metadata": {},
   "outputs": [],
   "source": [
    "# Set Path for Tensorboard Data\n",
    "log_dir = os.path.join(\"logs\",'fits','Model')\n",
    "tfcb = tf.keras.callbacks.TensorBoard(log_dir=log_dir,histogram_freq=1,write_graph=True)"
   ]
  },
  {
   "cell_type": "markdown",
   "id": "22cfddd4",
   "metadata": {},
   "source": [
    "### Model Compilation"
   ]
  },
  {
   "cell_type": "code",
   "execution_count": null,
   "id": "71fcf335",
   "metadata": {},
   "outputs": [],
   "source": [
    "model.compile(optimizer=adamopt,\\\n",
    "              loss = tf.keras.losses.sparse_categorical_crossentropy,\\\n",
    "              metrics=['accuracy'])\n",
    "model.summary()"
   ]
  },
  {
   "cell_type": "code",
   "execution_count": null,
   "id": "cf7a1668",
   "metadata": {},
   "outputs": [],
   "source": [
    "# Combining all Callbacks\n",
    "mycallbacks = [history_callback,checkpoint,earlyStopper,tfcb]"
   ]
  },
  {
   "cell_type": "markdown",
   "id": "17ded8d4",
   "metadata": {},
   "source": [
    "### Model Training"
   ]
  },
  {
   "cell_type": "code",
   "execution_count": 19,
   "id": "0fedf8c3",
   "metadata": {},
   "outputs": [
    {
     "ename": "NameError",
     "evalue": "name 'model1' is not defined",
     "output_type": "error",
     "traceback": [
      "\u001b[0;31m---------------------------------------------------------------------------\u001b[0m",
      "\u001b[0;31mNameError\u001b[0m                                 Traceback (most recent call last)",
      "Input \u001b[0;32mIn [19]\u001b[0m, in \u001b[0;36m<cell line: 1>\u001b[0;34m()\u001b[0m\n\u001b[0;32m----> 1\u001b[0m history1 \u001b[38;5;241m=\u001b[39m \u001b[43mmodel1\u001b[49m\u001b[38;5;241m.\u001b[39mfit(x\u001b[38;5;241m=\u001b[39mX_train,\\\n\u001b[1;32m      2\u001b[0m           y\u001b[38;5;241m=\u001b[39my_train,\\\n\u001b[1;32m      3\u001b[0m           batch_size\u001b[38;5;241m=\u001b[39mbatch_size,\\\n\u001b[1;32m      4\u001b[0m           epochs\u001b[38;5;241m=\u001b[39mepochs,\\\n\u001b[1;32m      5\u001b[0m           steps_per_epoch \u001b[38;5;241m=\u001b[39m \u001b[38;5;28mint\u001b[39m(np\u001b[38;5;241m.\u001b[39mceil(X_train\u001b[38;5;241m.\u001b[39mshape[\u001b[38;5;241m0\u001b[39m] \u001b[38;5;241m/\u001b[39m batch_size) ),\\\n\u001b[1;32m      6\u001b[0m           validation_data\u001b[38;5;241m=\u001b[39m(X_test, y_test),\\\n\u001b[1;32m      7\u001b[0m           callbacks\u001b[38;5;241m=\u001b[39mmycallbacks)\n",
      "\u001b[0;31mNameError\u001b[0m: name 'model1' is not defined"
     ]
    }
   ],
   "source": [
    "history1 = model1.fit(x=X_train,\\\n",
    "                      y=y_train,\\\n",
    "                      batch_size=batch_size,\\\n",
    "                      epochs=epochs,\\\n",
    "                      steps_per_epoch = int(np.ceil(X_train.shape[0] / batch_size) ),\\\n",
    "                      validation_data=(X_test, y_test),\\\n",
    "                      callbacks=mycallbacks)"
   ]
  },
  {
   "cell_type": "markdown",
   "id": "d1b8cfc7",
   "metadata": {},
   "source": [
    "### TensorBoard Visualization"
   ]
  },
  {
   "cell_type": "code",
   "execution_count": 20,
   "id": "78ec1d9c",
   "metadata": {},
   "outputs": [
    {
     "ename": "ModuleNotFoundError",
     "evalue": "No module named 'tensorboard'",
     "output_type": "error",
     "traceback": [
      "\u001b[0;31m---------------------------------------------------------------------------\u001b[0m",
      "\u001b[0;31mModuleNotFoundError\u001b[0m                       Traceback (most recent call last)",
      "Input \u001b[0;32mIn [20]\u001b[0m, in \u001b[0;36m<cell line: 2>\u001b[0;34m()\u001b[0m\n\u001b[1;32m      1\u001b[0m \u001b[38;5;66;03m# Load Tensor Board\u001b[39;00m\n\u001b[0;32m----> 2\u001b[0m \u001b[43mget_ipython\u001b[49m\u001b[43m(\u001b[49m\u001b[43m)\u001b[49m\u001b[38;5;241;43m.\u001b[39;49m\u001b[43mrun_line_magic\u001b[49m\u001b[43m(\u001b[49m\u001b[38;5;124;43m'\u001b[39;49m\u001b[38;5;124;43mload_ext\u001b[39;49m\u001b[38;5;124;43m'\u001b[39;49m\u001b[43m,\u001b[49m\u001b[43m \u001b[49m\u001b[38;5;124;43m'\u001b[39;49m\u001b[38;5;124;43mtensorboard\u001b[39;49m\u001b[38;5;124;43m'\u001b[39;49m\u001b[43m)\u001b[49m\n\u001b[1;32m      3\u001b[0m get_ipython()\u001b[38;5;241m.\u001b[39mrun_line_magic(\u001b[38;5;124m'\u001b[39m\u001b[38;5;124mtensorboard\u001b[39m\u001b[38;5;124m'\u001b[39m, \u001b[38;5;124m'\u001b[39m\u001b[38;5;124m--logdir logs/fits\u001b[39m\u001b[38;5;124m'\u001b[39m)\n",
      "File \u001b[0;32m~/opt/anaconda3/lib/python3.9/site-packages/IPython/core/interactiveshell.py:2294\u001b[0m, in \u001b[0;36mInteractiveShell.run_line_magic\u001b[0;34m(self, magic_name, line, _stack_depth)\u001b[0m\n\u001b[1;32m   2292\u001b[0m     kwargs[\u001b[38;5;124m'\u001b[39m\u001b[38;5;124mlocal_ns\u001b[39m\u001b[38;5;124m'\u001b[39m] \u001b[38;5;241m=\u001b[39m \u001b[38;5;28mself\u001b[39m\u001b[38;5;241m.\u001b[39mget_local_scope(stack_depth)\n\u001b[1;32m   2293\u001b[0m \u001b[38;5;28;01mwith\u001b[39;00m \u001b[38;5;28mself\u001b[39m\u001b[38;5;241m.\u001b[39mbuiltin_trap:\n\u001b[0;32m-> 2294\u001b[0m     result \u001b[38;5;241m=\u001b[39m \u001b[43mfn\u001b[49m\u001b[43m(\u001b[49m\u001b[38;5;241;43m*\u001b[39;49m\u001b[43margs\u001b[49m\u001b[43m,\u001b[49m\u001b[43m \u001b[49m\u001b[38;5;241;43m*\u001b[39;49m\u001b[38;5;241;43m*\u001b[39;49m\u001b[43mkwargs\u001b[49m\u001b[43m)\u001b[49m\n\u001b[1;32m   2295\u001b[0m \u001b[38;5;28;01mreturn\u001b[39;00m result\n",
      "File \u001b[0;32m~/opt/anaconda3/lib/python3.9/site-packages/IPython/core/magics/extension.py:33\u001b[0m, in \u001b[0;36mExtensionMagics.load_ext\u001b[0;34m(self, module_str)\u001b[0m\n\u001b[1;32m     31\u001b[0m \u001b[38;5;28;01mif\u001b[39;00m \u001b[38;5;129;01mnot\u001b[39;00m module_str:\n\u001b[1;32m     32\u001b[0m     \u001b[38;5;28;01mraise\u001b[39;00m UsageError(\u001b[38;5;124m'\u001b[39m\u001b[38;5;124mMissing module name.\u001b[39m\u001b[38;5;124m'\u001b[39m)\n\u001b[0;32m---> 33\u001b[0m res \u001b[38;5;241m=\u001b[39m \u001b[38;5;28;43mself\u001b[39;49m\u001b[38;5;241;43m.\u001b[39;49m\u001b[43mshell\u001b[49m\u001b[38;5;241;43m.\u001b[39;49m\u001b[43mextension_manager\u001b[49m\u001b[38;5;241;43m.\u001b[39;49m\u001b[43mload_extension\u001b[49m\u001b[43m(\u001b[49m\u001b[43mmodule_str\u001b[49m\u001b[43m)\u001b[49m\n\u001b[1;32m     35\u001b[0m \u001b[38;5;28;01mif\u001b[39;00m res \u001b[38;5;241m==\u001b[39m \u001b[38;5;124m'\u001b[39m\u001b[38;5;124malready loaded\u001b[39m\u001b[38;5;124m'\u001b[39m:\n\u001b[1;32m     36\u001b[0m     \u001b[38;5;28mprint\u001b[39m(\u001b[38;5;124m\"\u001b[39m\u001b[38;5;124mThe \u001b[39m\u001b[38;5;132;01m%s\u001b[39;00m\u001b[38;5;124m extension is already loaded. To reload it, use:\u001b[39m\u001b[38;5;124m\"\u001b[39m \u001b[38;5;241m%\u001b[39m module_str)\n",
      "File \u001b[0;32m~/opt/anaconda3/lib/python3.9/site-packages/IPython/core/extensions.py:76\u001b[0m, in \u001b[0;36mExtensionManager.load_extension\u001b[0;34m(self, module_str)\u001b[0m\n\u001b[1;32m     69\u001b[0m \u001b[38;5;124;03m\"\"\"Load an IPython extension by its module name.\u001b[39;00m\n\u001b[1;32m     70\u001b[0m \n\u001b[1;32m     71\u001b[0m \u001b[38;5;124;03mReturns the string \"already loaded\" if the extension is already loaded,\u001b[39;00m\n\u001b[1;32m     72\u001b[0m \u001b[38;5;124;03m\"no load function\" if the module doesn't have a load_ipython_extension\u001b[39;00m\n\u001b[1;32m     73\u001b[0m \u001b[38;5;124;03mfunction, or None if it succeeded.\u001b[39;00m\n\u001b[1;32m     74\u001b[0m \u001b[38;5;124;03m\"\"\"\u001b[39;00m\n\u001b[1;32m     75\u001b[0m \u001b[38;5;28;01mtry\u001b[39;00m:\n\u001b[0;32m---> 76\u001b[0m     \u001b[38;5;28;01mreturn\u001b[39;00m \u001b[38;5;28;43mself\u001b[39;49m\u001b[38;5;241;43m.\u001b[39;49m\u001b[43m_load_extension\u001b[49m\u001b[43m(\u001b[49m\u001b[43mmodule_str\u001b[49m\u001b[43m)\u001b[49m\n\u001b[1;32m     77\u001b[0m \u001b[38;5;28;01mexcept\u001b[39;00m \u001b[38;5;167;01mModuleNotFoundError\u001b[39;00m:\n\u001b[1;32m     78\u001b[0m     \u001b[38;5;28;01mif\u001b[39;00m module_str \u001b[38;5;129;01min\u001b[39;00m BUILTINS_EXTS:\n",
      "File \u001b[0;32m~/opt/anaconda3/lib/python3.9/site-packages/IPython/core/extensions.py:92\u001b[0m, in \u001b[0;36mExtensionManager._load_extension\u001b[0;34m(self, module_str)\u001b[0m\n\u001b[1;32m     90\u001b[0m \u001b[38;5;28;01mif\u001b[39;00m module_str \u001b[38;5;129;01mnot\u001b[39;00m \u001b[38;5;129;01min\u001b[39;00m sys\u001b[38;5;241m.\u001b[39mmodules:\n\u001b[1;32m     91\u001b[0m     \u001b[38;5;28;01mwith\u001b[39;00m prepended_to_syspath(\u001b[38;5;28mself\u001b[39m\u001b[38;5;241m.\u001b[39mipython_extension_dir):\n\u001b[0;32m---> 92\u001b[0m         mod \u001b[38;5;241m=\u001b[39m \u001b[43mimport_module\u001b[49m\u001b[43m(\u001b[49m\u001b[43mmodule_str\u001b[49m\u001b[43m)\u001b[49m\n\u001b[1;32m     93\u001b[0m         \u001b[38;5;28;01mif\u001b[39;00m mod\u001b[38;5;241m.\u001b[39m\u001b[38;5;18m__file__\u001b[39m\u001b[38;5;241m.\u001b[39mstartswith(\u001b[38;5;28mself\u001b[39m\u001b[38;5;241m.\u001b[39mipython_extension_dir):\n\u001b[1;32m     94\u001b[0m             \u001b[38;5;28mprint\u001b[39m((\u001b[38;5;124m\"\u001b[39m\u001b[38;5;124mLoading extensions from \u001b[39m\u001b[38;5;132;01m{dir}\u001b[39;00m\u001b[38;5;124m is deprecated. \u001b[39m\u001b[38;5;124m\"\u001b[39m\n\u001b[1;32m     95\u001b[0m                    \u001b[38;5;124m\"\u001b[39m\u001b[38;5;124mWe recommend managing extensions like any \u001b[39m\u001b[38;5;124m\"\u001b[39m\n\u001b[1;32m     96\u001b[0m                    \u001b[38;5;124m\"\u001b[39m\u001b[38;5;124mother Python packages, in site-packages.\u001b[39m\u001b[38;5;124m\"\u001b[39m)\u001b[38;5;241m.\u001b[39mformat(\n\u001b[1;32m     97\u001b[0m                   \u001b[38;5;28mdir\u001b[39m\u001b[38;5;241m=\u001b[39mcompress_user(\u001b[38;5;28mself\u001b[39m\u001b[38;5;241m.\u001b[39mipython_extension_dir)))\n",
      "File \u001b[0;32m~/opt/anaconda3/lib/python3.9/importlib/__init__.py:127\u001b[0m, in \u001b[0;36mimport_module\u001b[0;34m(name, package)\u001b[0m\n\u001b[1;32m    125\u001b[0m             \u001b[38;5;28;01mbreak\u001b[39;00m\n\u001b[1;32m    126\u001b[0m         level \u001b[38;5;241m+\u001b[39m\u001b[38;5;241m=\u001b[39m \u001b[38;5;241m1\u001b[39m\n\u001b[0;32m--> 127\u001b[0m \u001b[38;5;28;01mreturn\u001b[39;00m \u001b[43m_bootstrap\u001b[49m\u001b[38;5;241;43m.\u001b[39;49m\u001b[43m_gcd_import\u001b[49m\u001b[43m(\u001b[49m\u001b[43mname\u001b[49m\u001b[43m[\u001b[49m\u001b[43mlevel\u001b[49m\u001b[43m:\u001b[49m\u001b[43m]\u001b[49m\u001b[43m,\u001b[49m\u001b[43m \u001b[49m\u001b[43mpackage\u001b[49m\u001b[43m,\u001b[49m\u001b[43m \u001b[49m\u001b[43mlevel\u001b[49m\u001b[43m)\u001b[49m\n",
      "File \u001b[0;32m<frozen importlib._bootstrap>:1030\u001b[0m, in \u001b[0;36m_gcd_import\u001b[0;34m(name, package, level)\u001b[0m\n",
      "File \u001b[0;32m<frozen importlib._bootstrap>:1007\u001b[0m, in \u001b[0;36m_find_and_load\u001b[0;34m(name, import_)\u001b[0m\n",
      "File \u001b[0;32m<frozen importlib._bootstrap>:984\u001b[0m, in \u001b[0;36m_find_and_load_unlocked\u001b[0;34m(name, import_)\u001b[0m\n",
      "\u001b[0;31mModuleNotFoundError\u001b[0m: No module named 'tensorboard'"
     ]
    }
   ],
   "source": [
    "# Load Tensor Board\n",
    "%load_ext tensorboard\n",
    "%tensorboard --logdir logs/fits"
   ]
  },
  {
   "cell_type": "code",
   "execution_count": null,
   "id": "3a7d7d28",
   "metadata": {},
   "outputs": [],
   "source": []
  }
 ],
 "metadata": {
  "kernelspec": {
   "display_name": "Python 3 (ipykernel)",
   "language": "python",
   "name": "python3"
  },
  "language_info": {
   "codemirror_mode": {
    "name": "ipython",
    "version": 3
   },
   "file_extension": ".py",
   "mimetype": "text/x-python",
   "name": "python",
   "nbconvert_exporter": "python",
   "pygments_lexer": "ipython3",
   "version": "3.9.12"
  }
 },
 "nbformat": 4,
 "nbformat_minor": 5
}
