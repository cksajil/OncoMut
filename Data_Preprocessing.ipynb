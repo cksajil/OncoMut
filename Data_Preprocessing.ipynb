{
 "cells": [
  {
   "cell_type": "markdown",
   "id": "d7007e15",
   "metadata": {},
   "source": [
    "### Import Libraries"
   ]
  },
  {
   "cell_type": "code",
   "execution_count": 1,
   "id": "609f723e",
   "metadata": {},
   "outputs": [],
   "source": [
    "import pandas as pd"
   ]
  },
  {
   "cell_type": "code",
   "execution_count": 2,
   "id": "a7870051",
   "metadata": {},
   "outputs": [],
   "source": [
    "data_clinical_sample = pd.read_csv('./Data/CBioportal/msk_impact_2017/data_clinical_sample.txt',\\\n",
    "                             sep='\\t',\\\n",
    "                             skiprows = 4,\\\n",
    "                             low_memory=False)"
   ]
  },
  {
   "cell_type": "code",
   "execution_count": 3,
   "id": "3d47442e",
   "metadata": {},
   "outputs": [
    {
     "data": {
      "text/html": [
       "<div>\n",
       "<style scoped>\n",
       "    .dataframe tbody tr th:only-of-type {\n",
       "        vertical-align: middle;\n",
       "    }\n",
       "\n",
       "    .dataframe tbody tr th {\n",
       "        vertical-align: top;\n",
       "    }\n",
       "\n",
       "    .dataframe thead th {\n",
       "        text-align: right;\n",
       "    }\n",
       "</style>\n",
       "<table border=\"1\" class=\"dataframe\">\n",
       "  <thead>\n",
       "    <tr style=\"text-align: right;\">\n",
       "      <th></th>\n",
       "      <th>PATIENT_ID</th>\n",
       "      <th>SAMPLE_ID</th>\n",
       "      <th>SAMPLE_COLLECTION_SOURCE</th>\n",
       "      <th>SPECIMEN_PRESERVATION_TYPE</th>\n",
       "      <th>SPECIMEN_TYPE</th>\n",
       "      <th>DNA_INPUT</th>\n",
       "      <th>SAMPLE_COVERAGE</th>\n",
       "      <th>TUMOR_PURITY</th>\n",
       "      <th>MATCHED_STATUS</th>\n",
       "      <th>SAMPLE_TYPE</th>\n",
       "      <th>PRIMARY_SITE</th>\n",
       "      <th>METASTATIC_SITE</th>\n",
       "      <th>SAMPLE_CLASS</th>\n",
       "      <th>ONCOTREE_CODE</th>\n",
       "      <th>CANCER_TYPE</th>\n",
       "      <th>CANCER_TYPE_DETAILED</th>\n",
       "      <th>SOMATIC_STATUS</th>\n",
       "      <th>TMB_NONSYNONYMOUS</th>\n",
       "    </tr>\n",
       "  </thead>\n",
       "  <tbody>\n",
       "    <tr>\n",
       "      <th>0</th>\n",
       "      <td>P-0000004</td>\n",
       "      <td>P-0000004-T01-IM3</td>\n",
       "      <td>Outside</td>\n",
       "      <td>FFPE</td>\n",
       "      <td>Biopsy</td>\n",
       "      <td>250.0</td>\n",
       "      <td>428</td>\n",
       "      <td>50.0</td>\n",
       "      <td>Matched</td>\n",
       "      <td>Primary</td>\n",
       "      <td>Breast</td>\n",
       "      <td>Not Applicable</td>\n",
       "      <td>Tumor</td>\n",
       "      <td>IDC</td>\n",
       "      <td>Breast Cancer</td>\n",
       "      <td>Breast Invasive Ductal Carcinoma</td>\n",
       "      <td>Matched</td>\n",
       "      <td>17.746485</td>\n",
       "    </tr>\n",
       "    <tr>\n",
       "      <th>1</th>\n",
       "      <td>P-0000015</td>\n",
       "      <td>P-0000015-T01-IM3</td>\n",
       "      <td>In-House</td>\n",
       "      <td>FFPE</td>\n",
       "      <td>Biopsy</td>\n",
       "      <td>198.0</td>\n",
       "      <td>281</td>\n",
       "      <td>40.0</td>\n",
       "      <td>Matched</td>\n",
       "      <td>Metastasis</td>\n",
       "      <td>Breast</td>\n",
       "      <td>Liver</td>\n",
       "      <td>Tumor</td>\n",
       "      <td>IDC</td>\n",
       "      <td>Breast Cancer</td>\n",
       "      <td>Breast Invasive Ductal Carcinoma</td>\n",
       "      <td>Matched</td>\n",
       "      <td>7.764087</td>\n",
       "    </tr>\n",
       "  </tbody>\n",
       "</table>\n",
       "</div>"
      ],
      "text/plain": [
       "  PATIENT_ID          SAMPLE_ID SAMPLE_COLLECTION_SOURCE  \\\n",
       "0  P-0000004  P-0000004-T01-IM3                  Outside   \n",
       "1  P-0000015  P-0000015-T01-IM3                 In-House   \n",
       "\n",
       "  SPECIMEN_PRESERVATION_TYPE SPECIMEN_TYPE  DNA_INPUT  SAMPLE_COVERAGE  \\\n",
       "0                       FFPE        Biopsy      250.0              428   \n",
       "1                       FFPE        Biopsy      198.0              281   \n",
       "\n",
       "   TUMOR_PURITY MATCHED_STATUS SAMPLE_TYPE PRIMARY_SITE METASTATIC_SITE  \\\n",
       "0          50.0        Matched     Primary       Breast  Not Applicable   \n",
       "1          40.0        Matched  Metastasis       Breast           Liver   \n",
       "\n",
       "  SAMPLE_CLASS ONCOTREE_CODE    CANCER_TYPE              CANCER_TYPE_DETAILED  \\\n",
       "0        Tumor           IDC  Breast Cancer  Breast Invasive Ductal Carcinoma   \n",
       "1        Tumor           IDC  Breast Cancer  Breast Invasive Ductal Carcinoma   \n",
       "\n",
       "  SOMATIC_STATUS  TMB_NONSYNONYMOUS  \n",
       "0        Matched          17.746485  \n",
       "1        Matched           7.764087  "
      ]
     },
     "execution_count": 3,
     "metadata": {},
     "output_type": "execute_result"
    }
   ],
   "source": [
    "data_clinical_sample.head(2)"
   ]
  },
  {
   "cell_type": "code",
   "execution_count": 4,
   "id": "8d7cbe62",
   "metadata": {},
   "outputs": [
    {
     "data": {
      "text/plain": [
       "(10945, 18)"
      ]
     },
     "execution_count": 4,
     "metadata": {},
     "output_type": "execute_result"
    }
   ],
   "source": [
    "data_clinical_sample.shape"
   ]
  },
  {
   "cell_type": "code",
   "execution_count": 5,
   "id": "b06a6306",
   "metadata": {},
   "outputs": [],
   "source": [
    "data_clinical_patient = pd.read_csv('./Data/CBioportal/msk_impact_2017/data_clinical_patient.txt',\\\n",
    "                             sep='\\t',\\\n",
    "                             skiprows = 4,\\\n",
    "                             low_memory=False)"
   ]
  },
  {
   "cell_type": "code",
   "execution_count": 6,
   "id": "c7d8d8c5",
   "metadata": {},
   "outputs": [
    {
     "data": {
      "text/html": [
       "<div>\n",
       "<style scoped>\n",
       "    .dataframe tbody tr th:only-of-type {\n",
       "        vertical-align: middle;\n",
       "    }\n",
       "\n",
       "    .dataframe tbody tr th {\n",
       "        vertical-align: top;\n",
       "    }\n",
       "\n",
       "    .dataframe thead th {\n",
       "        text-align: right;\n",
       "    }\n",
       "</style>\n",
       "<table border=\"1\" class=\"dataframe\">\n",
       "  <thead>\n",
       "    <tr style=\"text-align: right;\">\n",
       "      <th></th>\n",
       "      <th>PATIENT_ID</th>\n",
       "      <th>SEX</th>\n",
       "      <th>VITAL_STATUS</th>\n",
       "      <th>SMOKING_HISTORY</th>\n",
       "      <th>OS_MONTHS</th>\n",
       "      <th>OS_STATUS</th>\n",
       "    </tr>\n",
       "  </thead>\n",
       "  <tbody>\n",
       "    <tr>\n",
       "      <th>0</th>\n",
       "      <td>P-0000004</td>\n",
       "      <td>Female</td>\n",
       "      <td>ALIVE</td>\n",
       "      <td>Unknown</td>\n",
       "      <td>NaN</td>\n",
       "      <td>0:LIVING</td>\n",
       "    </tr>\n",
       "    <tr>\n",
       "      <th>1</th>\n",
       "      <td>P-0000015</td>\n",
       "      <td>Female</td>\n",
       "      <td>DECEASED</td>\n",
       "      <td>Never</td>\n",
       "      <td>NaN</td>\n",
       "      <td>1:DECEASED</td>\n",
       "    </tr>\n",
       "  </tbody>\n",
       "</table>\n",
       "</div>"
      ],
      "text/plain": [
       "  PATIENT_ID     SEX VITAL_STATUS SMOKING_HISTORY  OS_MONTHS   OS_STATUS\n",
       "0  P-0000004  Female        ALIVE         Unknown        NaN    0:LIVING\n",
       "1  P-0000015  Female     DECEASED           Never        NaN  1:DECEASED"
      ]
     },
     "execution_count": 6,
     "metadata": {},
     "output_type": "execute_result"
    }
   ],
   "source": [
    "data_clinical_patient.head(2)"
   ]
  },
  {
   "cell_type": "code",
   "execution_count": 7,
   "id": "96e716ea",
   "metadata": {},
   "outputs": [
    {
     "data": {
      "text/plain": [
       "(10336, 6)"
      ]
     },
     "execution_count": 7,
     "metadata": {},
     "output_type": "execute_result"
    }
   ],
   "source": [
    "data_clinical_patient.shape"
   ]
  },
  {
   "cell_type": "code",
   "execution_count": 8,
   "id": "22824adb",
   "metadata": {},
   "outputs": [],
   "source": [
    "data_clinical = pd.merge(data_clinical_sample,\\\n",
    "                         data_clinical_patient,\\\n",
    "                         on='PATIENT_ID')"
   ]
  },
  {
   "cell_type": "code",
   "execution_count": 9,
   "id": "208b4bf1",
   "metadata": {},
   "outputs": [
    {
     "data": {
      "text/html": [
       "<div>\n",
       "<style scoped>\n",
       "    .dataframe tbody tr th:only-of-type {\n",
       "        vertical-align: middle;\n",
       "    }\n",
       "\n",
       "    .dataframe tbody tr th {\n",
       "        vertical-align: top;\n",
       "    }\n",
       "\n",
       "    .dataframe thead th {\n",
       "        text-align: right;\n",
       "    }\n",
       "</style>\n",
       "<table border=\"1\" class=\"dataframe\">\n",
       "  <thead>\n",
       "    <tr style=\"text-align: right;\">\n",
       "      <th></th>\n",
       "      <th>PATIENT_ID</th>\n",
       "      <th>SAMPLE_ID</th>\n",
       "      <th>SAMPLE_COLLECTION_SOURCE</th>\n",
       "      <th>SPECIMEN_PRESERVATION_TYPE</th>\n",
       "      <th>SPECIMEN_TYPE</th>\n",
       "      <th>DNA_INPUT</th>\n",
       "      <th>SAMPLE_COVERAGE</th>\n",
       "      <th>TUMOR_PURITY</th>\n",
       "      <th>MATCHED_STATUS</th>\n",
       "      <th>SAMPLE_TYPE</th>\n",
       "      <th>...</th>\n",
       "      <th>ONCOTREE_CODE</th>\n",
       "      <th>CANCER_TYPE</th>\n",
       "      <th>CANCER_TYPE_DETAILED</th>\n",
       "      <th>SOMATIC_STATUS</th>\n",
       "      <th>TMB_NONSYNONYMOUS</th>\n",
       "      <th>SEX</th>\n",
       "      <th>VITAL_STATUS</th>\n",
       "      <th>SMOKING_HISTORY</th>\n",
       "      <th>OS_MONTHS</th>\n",
       "      <th>OS_STATUS</th>\n",
       "    </tr>\n",
       "  </thead>\n",
       "  <tbody>\n",
       "    <tr>\n",
       "      <th>0</th>\n",
       "      <td>P-0000004</td>\n",
       "      <td>P-0000004-T01-IM3</td>\n",
       "      <td>Outside</td>\n",
       "      <td>FFPE</td>\n",
       "      <td>Biopsy</td>\n",
       "      <td>250.0</td>\n",
       "      <td>428</td>\n",
       "      <td>50.0</td>\n",
       "      <td>Matched</td>\n",
       "      <td>Primary</td>\n",
       "      <td>...</td>\n",
       "      <td>IDC</td>\n",
       "      <td>Breast Cancer</td>\n",
       "      <td>Breast Invasive Ductal Carcinoma</td>\n",
       "      <td>Matched</td>\n",
       "      <td>17.746485</td>\n",
       "      <td>Female</td>\n",
       "      <td>ALIVE</td>\n",
       "      <td>Unknown</td>\n",
       "      <td>NaN</td>\n",
       "      <td>0:LIVING</td>\n",
       "    </tr>\n",
       "    <tr>\n",
       "      <th>1</th>\n",
       "      <td>P-0000015</td>\n",
       "      <td>P-0000015-T01-IM3</td>\n",
       "      <td>In-House</td>\n",
       "      <td>FFPE</td>\n",
       "      <td>Biopsy</td>\n",
       "      <td>198.0</td>\n",
       "      <td>281</td>\n",
       "      <td>40.0</td>\n",
       "      <td>Matched</td>\n",
       "      <td>Metastasis</td>\n",
       "      <td>...</td>\n",
       "      <td>IDC</td>\n",
       "      <td>Breast Cancer</td>\n",
       "      <td>Breast Invasive Ductal Carcinoma</td>\n",
       "      <td>Matched</td>\n",
       "      <td>7.764087</td>\n",
       "      <td>Female</td>\n",
       "      <td>DECEASED</td>\n",
       "      <td>Never</td>\n",
       "      <td>NaN</td>\n",
       "      <td>1:DECEASED</td>\n",
       "    </tr>\n",
       "    <tr>\n",
       "      <th>2</th>\n",
       "      <td>P-0000023</td>\n",
       "      <td>P-0000023-T01-IM3</td>\n",
       "      <td>In-House</td>\n",
       "      <td>FFPE</td>\n",
       "      <td>Biopsy</td>\n",
       "      <td>250.0</td>\n",
       "      <td>454</td>\n",
       "      <td>30.0</td>\n",
       "      <td>Matched</td>\n",
       "      <td>Primary</td>\n",
       "      <td>...</td>\n",
       "      <td>PEMESO</td>\n",
       "      <td>Mesothelioma</td>\n",
       "      <td>Peritoneal Mesothelioma</td>\n",
       "      <td>Matched</td>\n",
       "      <td>5.545777</td>\n",
       "      <td>Male</td>\n",
       "      <td>DECEASED</td>\n",
       "      <td>Never</td>\n",
       "      <td>8.71</td>\n",
       "      <td>1:DECEASED</td>\n",
       "    </tr>\n",
       "    <tr>\n",
       "      <th>3</th>\n",
       "      <td>P-0000024</td>\n",
       "      <td>P-0000024-T01-IM3</td>\n",
       "      <td>In-House</td>\n",
       "      <td>FFPE</td>\n",
       "      <td>Resection</td>\n",
       "      <td>250.0</td>\n",
       "      <td>1016</td>\n",
       "      <td>40.0</td>\n",
       "      <td>Matched</td>\n",
       "      <td>Metastasis</td>\n",
       "      <td>...</td>\n",
       "      <td>UEC</td>\n",
       "      <td>Endometrial Cancer</td>\n",
       "      <td>Uterine Endometrioid Carcinoma</td>\n",
       "      <td>Matched</td>\n",
       "      <td>6.654932</td>\n",
       "      <td>Female</td>\n",
       "      <td>ALIVE</td>\n",
       "      <td>Prev/Curr Smoker</td>\n",
       "      <td>36.75</td>\n",
       "      <td>0:LIVING</td>\n",
       "    </tr>\n",
       "    <tr>\n",
       "      <th>4</th>\n",
       "      <td>P-0000025</td>\n",
       "      <td>P-0000025-T02-IM5</td>\n",
       "      <td>In-House</td>\n",
       "      <td>FFPE</td>\n",
       "      <td>Biopsy</td>\n",
       "      <td>250.0</td>\n",
       "      <td>1147</td>\n",
       "      <td>30.0</td>\n",
       "      <td>Matched</td>\n",
       "      <td>Metastasis</td>\n",
       "      <td>...</td>\n",
       "      <td>USC</td>\n",
       "      <td>Endometrial Cancer</td>\n",
       "      <td>Uterine Serous Carcinoma/Uterine Papillary Ser...</td>\n",
       "      <td>Matched</td>\n",
       "      <td>1.957439</td>\n",
       "      <td>Female</td>\n",
       "      <td>ALIVE</td>\n",
       "      <td>Never</td>\n",
       "      <td>8.81</td>\n",
       "      <td>0:LIVING</td>\n",
       "    </tr>\n",
       "  </tbody>\n",
       "</table>\n",
       "<p>5 rows × 23 columns</p>\n",
       "</div>"
      ],
      "text/plain": [
       "  PATIENT_ID          SAMPLE_ID SAMPLE_COLLECTION_SOURCE  \\\n",
       "0  P-0000004  P-0000004-T01-IM3                  Outside   \n",
       "1  P-0000015  P-0000015-T01-IM3                 In-House   \n",
       "2  P-0000023  P-0000023-T01-IM3                 In-House   \n",
       "3  P-0000024  P-0000024-T01-IM3                 In-House   \n",
       "4  P-0000025  P-0000025-T02-IM5                 In-House   \n",
       "\n",
       "  SPECIMEN_PRESERVATION_TYPE SPECIMEN_TYPE  DNA_INPUT  SAMPLE_COVERAGE  \\\n",
       "0                       FFPE        Biopsy      250.0              428   \n",
       "1                       FFPE        Biopsy      198.0              281   \n",
       "2                       FFPE        Biopsy      250.0              454   \n",
       "3                       FFPE     Resection      250.0             1016   \n",
       "4                       FFPE        Biopsy      250.0             1147   \n",
       "\n",
       "   TUMOR_PURITY MATCHED_STATUS SAMPLE_TYPE  ... ONCOTREE_CODE  \\\n",
       "0          50.0        Matched     Primary  ...           IDC   \n",
       "1          40.0        Matched  Metastasis  ...           IDC   \n",
       "2          30.0        Matched     Primary  ...        PEMESO   \n",
       "3          40.0        Matched  Metastasis  ...           UEC   \n",
       "4          30.0        Matched  Metastasis  ...           USC   \n",
       "\n",
       "          CANCER_TYPE                               CANCER_TYPE_DETAILED  \\\n",
       "0       Breast Cancer                   Breast Invasive Ductal Carcinoma   \n",
       "1       Breast Cancer                   Breast Invasive Ductal Carcinoma   \n",
       "2        Mesothelioma                            Peritoneal Mesothelioma   \n",
       "3  Endometrial Cancer                     Uterine Endometrioid Carcinoma   \n",
       "4  Endometrial Cancer  Uterine Serous Carcinoma/Uterine Papillary Ser...   \n",
       "\n",
       "  SOMATIC_STATUS TMB_NONSYNONYMOUS     SEX VITAL_STATUS   SMOKING_HISTORY  \\\n",
       "0        Matched         17.746485  Female        ALIVE           Unknown   \n",
       "1        Matched          7.764087  Female     DECEASED             Never   \n",
       "2        Matched          5.545777    Male     DECEASED             Never   \n",
       "3        Matched          6.654932  Female        ALIVE  Prev/Curr Smoker   \n",
       "4        Matched          1.957439  Female        ALIVE             Never   \n",
       "\n",
       "  OS_MONTHS   OS_STATUS  \n",
       "0       NaN    0:LIVING  \n",
       "1       NaN  1:DECEASED  \n",
       "2      8.71  1:DECEASED  \n",
       "3     36.75    0:LIVING  \n",
       "4      8.81    0:LIVING  \n",
       "\n",
       "[5 rows x 23 columns]"
      ]
     },
     "execution_count": 9,
     "metadata": {},
     "output_type": "execute_result"
    }
   ],
   "source": [
    "data_clinical.head(5)"
   ]
  },
  {
   "cell_type": "code",
   "execution_count": 10,
   "id": "e6ec9582",
   "metadata": {},
   "outputs": [],
   "source": [
    "supplimentary_info = pd.read_csv('./Data/Supplimentary_info.csv',\\\n",
    "                             skiprows = 0,\\\n",
    "                             low_memory=False)"
   ]
  },
  {
   "cell_type": "code",
   "execution_count": 11,
   "id": "809d1808",
   "metadata": {},
   "outputs": [],
   "source": [
    "supplimentary_info = supplimentary_info.rename(columns={'Assay_ID': 'SAMPLE_ID'})"
   ]
  },
  {
   "cell_type": "code",
   "execution_count": 12,
   "id": "6a87a1ce",
   "metadata": {},
   "outputs": [
    {
     "data": {
      "text/html": [
       "<div>\n",
       "<style scoped>\n",
       "    .dataframe tbody tr th:only-of-type {\n",
       "        vertical-align: middle;\n",
       "    }\n",
       "\n",
       "    .dataframe tbody tr th {\n",
       "        vertical-align: top;\n",
       "    }\n",
       "\n",
       "    .dataframe thead th {\n",
       "        text-align: right;\n",
       "    }\n",
       "</style>\n",
       "<table border=\"1\" class=\"dataframe\">\n",
       "  <thead>\n",
       "    <tr style=\"text-align: right;\">\n",
       "      <th></th>\n",
       "      <th>Patient_ID</th>\n",
       "      <th>Sample_ID</th>\n",
       "      <th>SAMPLE_ID</th>\n",
       "      <th>Status</th>\n",
       "      <th>SampleType</th>\n",
       "      <th>AssayPerformance</th>\n",
       "      <th>SpecimenType</th>\n",
       "      <th>DNAInput_ng</th>\n",
       "      <th>Coverage</th>\n",
       "      <th>TumorPurity</th>\n",
       "      <th>...</th>\n",
       "      <th>Gender</th>\n",
       "      <th>ExonicMutationCount</th>\n",
       "      <th>SNVCount</th>\n",
       "      <th>INDELCount</th>\n",
       "      <th>SCNACount</th>\n",
       "      <th>SVCount</th>\n",
       "      <th>SilentMutationCount</th>\n",
       "      <th>VitalStatus</th>\n",
       "      <th>SmokingStatus</th>\n",
       "      <th>TissueAge_yrs</th>\n",
       "    </tr>\n",
       "  </thead>\n",
       "  <tbody>\n",
       "    <tr>\n",
       "      <th>0</th>\n",
       "      <td>P-0000004</td>\n",
       "      <td>P-0000004-T01</td>\n",
       "      <td>P-0000004-T01-IM3</td>\n",
       "      <td>Outside</td>\n",
       "      <td>FFPE</td>\n",
       "      <td>Success</td>\n",
       "      <td>Biopsy</td>\n",
       "      <td>250.0</td>\n",
       "      <td>428</td>\n",
       "      <td>50.0</td>\n",
       "      <td>...</td>\n",
       "      <td>Female</td>\n",
       "      <td>16</td>\n",
       "      <td>15</td>\n",
       "      <td>1</td>\n",
       "      <td>3</td>\n",
       "      <td>0</td>\n",
       "      <td>17</td>\n",
       "      <td>ALIVE</td>\n",
       "      <td>Unknown</td>\n",
       "      <td>na</td>\n",
       "    </tr>\n",
       "    <tr>\n",
       "      <th>1</th>\n",
       "      <td>P-0000015</td>\n",
       "      <td>P-0000015-T01</td>\n",
       "      <td>P-0000015-T01-IM3</td>\n",
       "      <td>In-House</td>\n",
       "      <td>FFPE</td>\n",
       "      <td>Success</td>\n",
       "      <td>Biopsy</td>\n",
       "      <td>198.0</td>\n",
       "      <td>281</td>\n",
       "      <td>40.0</td>\n",
       "      <td>...</td>\n",
       "      <td>Female</td>\n",
       "      <td>7</td>\n",
       "      <td>6</td>\n",
       "      <td>1</td>\n",
       "      <td>11</td>\n",
       "      <td>0</td>\n",
       "      <td>7</td>\n",
       "      <td>DECEASED</td>\n",
       "      <td>Never</td>\n",
       "      <td>na</td>\n",
       "    </tr>\n",
       "  </tbody>\n",
       "</table>\n",
       "<p>2 rows × 27 columns</p>\n",
       "</div>"
      ],
      "text/plain": [
       "  Patient_ID      Sample_ID          SAMPLE_ID    Status SampleType  \\\n",
       "0  P-0000004  P-0000004-T01  P-0000004-T01-IM3   Outside       FFPE   \n",
       "1  P-0000015  P-0000015-T01  P-0000015-T01-IM3  In-House       FFPE   \n",
       "\n",
       "  AssayPerformance SpecimenType  DNAInput_ng  Coverage  TumorPurity  ...  \\\n",
       "0          Success       Biopsy        250.0       428         50.0  ...   \n",
       "1          Success       Biopsy        198.0       281         40.0  ...   \n",
       "\n",
       "   Gender ExonicMutationCount SNVCount INDELCount SCNACount SVCount  \\\n",
       "0  Female                  16       15          1         3       0   \n",
       "1  Female                   7        6          1        11       0   \n",
       "\n",
       "  SilentMutationCount VitalStatus  SmokingStatus  TissueAge_yrs  \n",
       "0                  17       ALIVE        Unknown             na  \n",
       "1                   7    DECEASED          Never             na  \n",
       "\n",
       "[2 rows x 27 columns]"
      ]
     },
     "execution_count": 12,
     "metadata": {},
     "output_type": "execute_result"
    }
   ],
   "source": [
    "supplimentary_info.head(2)"
   ]
  },
  {
   "cell_type": "code",
   "execution_count": 13,
   "id": "ba2db729",
   "metadata": {},
   "outputs": [],
   "source": [
    "data_clinical = pd.merge(data_clinical,\\\n",
    "                         supplimentary_info,\\\n",
    "                         on='SAMPLE_ID')"
   ]
  },
  {
   "cell_type": "code",
   "execution_count": 14,
   "id": "36981371",
   "metadata": {},
   "outputs": [
    {
     "data": {
      "text/html": [
       "<div>\n",
       "<style scoped>\n",
       "    .dataframe tbody tr th:only-of-type {\n",
       "        vertical-align: middle;\n",
       "    }\n",
       "\n",
       "    .dataframe tbody tr th {\n",
       "        vertical-align: top;\n",
       "    }\n",
       "\n",
       "    .dataframe thead th {\n",
       "        text-align: right;\n",
       "    }\n",
       "</style>\n",
       "<table border=\"1\" class=\"dataframe\">\n",
       "  <thead>\n",
       "    <tr style=\"text-align: right;\">\n",
       "      <th></th>\n",
       "      <th>PATIENT_ID</th>\n",
       "      <th>SAMPLE_ID</th>\n",
       "      <th>SAMPLE_COLLECTION_SOURCE</th>\n",
       "      <th>SPECIMEN_PRESERVATION_TYPE</th>\n",
       "      <th>SPECIMEN_TYPE</th>\n",
       "      <th>DNA_INPUT</th>\n",
       "      <th>SAMPLE_COVERAGE</th>\n",
       "      <th>TUMOR_PURITY</th>\n",
       "      <th>MATCHED_STATUS</th>\n",
       "      <th>SAMPLE_TYPE</th>\n",
       "      <th>...</th>\n",
       "      <th>Gender</th>\n",
       "      <th>ExonicMutationCount</th>\n",
       "      <th>SNVCount</th>\n",
       "      <th>INDELCount</th>\n",
       "      <th>SCNACount</th>\n",
       "      <th>SVCount</th>\n",
       "      <th>SilentMutationCount</th>\n",
       "      <th>VitalStatus</th>\n",
       "      <th>SmokingStatus</th>\n",
       "      <th>TissueAge_yrs</th>\n",
       "    </tr>\n",
       "  </thead>\n",
       "  <tbody>\n",
       "    <tr>\n",
       "      <th>0</th>\n",
       "      <td>P-0000004</td>\n",
       "      <td>P-0000004-T01-IM3</td>\n",
       "      <td>Outside</td>\n",
       "      <td>FFPE</td>\n",
       "      <td>Biopsy</td>\n",
       "      <td>250.0</td>\n",
       "      <td>428</td>\n",
       "      <td>50.0</td>\n",
       "      <td>Matched</td>\n",
       "      <td>Primary</td>\n",
       "      <td>...</td>\n",
       "      <td>Female</td>\n",
       "      <td>16</td>\n",
       "      <td>15</td>\n",
       "      <td>1</td>\n",
       "      <td>3</td>\n",
       "      <td>0</td>\n",
       "      <td>17</td>\n",
       "      <td>ALIVE</td>\n",
       "      <td>Unknown</td>\n",
       "      <td>na</td>\n",
       "    </tr>\n",
       "    <tr>\n",
       "      <th>1</th>\n",
       "      <td>P-0000015</td>\n",
       "      <td>P-0000015-T01-IM3</td>\n",
       "      <td>In-House</td>\n",
       "      <td>FFPE</td>\n",
       "      <td>Biopsy</td>\n",
       "      <td>198.0</td>\n",
       "      <td>281</td>\n",
       "      <td>40.0</td>\n",
       "      <td>Matched</td>\n",
       "      <td>Metastasis</td>\n",
       "      <td>...</td>\n",
       "      <td>Female</td>\n",
       "      <td>7</td>\n",
       "      <td>6</td>\n",
       "      <td>1</td>\n",
       "      <td>11</td>\n",
       "      <td>0</td>\n",
       "      <td>7</td>\n",
       "      <td>DECEASED</td>\n",
       "      <td>Never</td>\n",
       "      <td>na</td>\n",
       "    </tr>\n",
       "  </tbody>\n",
       "</table>\n",
       "<p>2 rows × 49 columns</p>\n",
       "</div>"
      ],
      "text/plain": [
       "  PATIENT_ID          SAMPLE_ID SAMPLE_COLLECTION_SOURCE  \\\n",
       "0  P-0000004  P-0000004-T01-IM3                  Outside   \n",
       "1  P-0000015  P-0000015-T01-IM3                 In-House   \n",
       "\n",
       "  SPECIMEN_PRESERVATION_TYPE SPECIMEN_TYPE  DNA_INPUT  SAMPLE_COVERAGE  \\\n",
       "0                       FFPE        Biopsy      250.0              428   \n",
       "1                       FFPE        Biopsy      198.0              281   \n",
       "\n",
       "   TUMOR_PURITY MATCHED_STATUS SAMPLE_TYPE  ...  Gender ExonicMutationCount  \\\n",
       "0          50.0        Matched     Primary  ...  Female                  16   \n",
       "1          40.0        Matched  Metastasis  ...  Female                   7   \n",
       "\n",
       "  SNVCount INDELCount SCNACount SVCount SilentMutationCount  VitalStatus  \\\n",
       "0       15          1         3       0                  17        ALIVE   \n",
       "1        6          1        11       0                   7     DECEASED   \n",
       "\n",
       "  SmokingStatus TissueAge_yrs  \n",
       "0       Unknown            na  \n",
       "1         Never            na  \n",
       "\n",
       "[2 rows x 49 columns]"
      ]
     },
     "execution_count": 14,
     "metadata": {},
     "output_type": "execute_result"
    }
   ],
   "source": [
    "data_clinical.head(2)"
   ]
  },
  {
   "cell_type": "code",
   "execution_count": 15,
   "id": "044322e0",
   "metadata": {},
   "outputs": [
    {
     "data": {
      "text/plain": [
       "(10945, 49)"
      ]
     },
     "execution_count": 15,
     "metadata": {},
     "output_type": "execute_result"
    }
   ],
   "source": [
    "data_clinical.shape"
   ]
  },
  {
   "cell_type": "code",
   "execution_count": 16,
   "id": "f0d0c33d",
   "metadata": {},
   "outputs": [],
   "source": [
    "tumor_types = pd.read_csv('./Data/tumor_types.txt',\\\n",
    "                             sep='\\t',\\\n",
    "                             low_memory=False)"
   ]
  },
  {
   "cell_type": "code",
   "execution_count": 17,
   "id": "b9c1c7e3",
   "metadata": {},
   "outputs": [
    {
     "data": {
      "text/html": [
       "<div>\n",
       "<style scoped>\n",
       "    .dataframe tbody tr th:only-of-type {\n",
       "        vertical-align: middle;\n",
       "    }\n",
       "\n",
       "    .dataframe tbody tr th {\n",
       "        vertical-align: top;\n",
       "    }\n",
       "\n",
       "    .dataframe thead th {\n",
       "        text-align: right;\n",
       "    }\n",
       "</style>\n",
       "<table border=\"1\" class=\"dataframe\">\n",
       "  <thead>\n",
       "    <tr style=\"text-align: right;\">\n",
       "      <th></th>\n",
       "      <th>CANCER_TYPE</th>\n",
       "      <th>CANCER_TYPE_DETAILED</th>\n",
       "      <th>N</th>\n",
       "      <th>Cancer_Type</th>\n",
       "    </tr>\n",
       "  </thead>\n",
       "  <tbody>\n",
       "    <tr>\n",
       "      <th>0</th>\n",
       "      <td>Adrenocortical Carcinoma</td>\n",
       "      <td>Adrenocortical Adenoma</td>\n",
       "      <td>1</td>\n",
       "      <td>NaN</td>\n",
       "    </tr>\n",
       "    <tr>\n",
       "      <th>1</th>\n",
       "      <td>Adrenocortical Carcinoma</td>\n",
       "      <td>Adrenocortical Carcinoma</td>\n",
       "      <td>25</td>\n",
       "      <td>NaN</td>\n",
       "    </tr>\n",
       "  </tbody>\n",
       "</table>\n",
       "</div>"
      ],
      "text/plain": [
       "                CANCER_TYPE      CANCER_TYPE_DETAILED   N Cancer_Type\n",
       "0  Adrenocortical Carcinoma    Adrenocortical Adenoma   1         NaN\n",
       "1  Adrenocortical Carcinoma  Adrenocortical Carcinoma  25         NaN"
      ]
     },
     "execution_count": 17,
     "metadata": {},
     "output_type": "execute_result"
    }
   ],
   "source": [
    "tumor_types.head(2)"
   ]
  },
  {
   "cell_type": "code",
   "execution_count": 18,
   "id": "c6a85d28",
   "metadata": {},
   "outputs": [],
   "source": [
    "data_table = pd.merge(data_clinical,\\\n",
    "                      tumor_types,\\\n",
    "                      on=[\"CANCER_TYPE\",\\\n",
    "                          \"CANCER_TYPE_DETAILED\"])"
   ]
  },
  {
   "cell_type": "code",
   "execution_count": 19,
   "id": "f619d83b",
   "metadata": {},
   "outputs": [
    {
     "data": {
      "text/plain": [
       "0         Male\n",
       "1       Female\n",
       "2       Female\n",
       "3       Female\n",
       "4       Female\n",
       "         ...  \n",
       "8116    Female\n",
       "8117      Male\n",
       "8118    Female\n",
       "8119    Female\n",
       "8120    Female\n",
       "Name: SEX, Length: 8121, dtype: object"
      ]
     },
     "execution_count": 19,
     "metadata": {},
     "output_type": "execute_result"
    }
   ],
   "source": [
    "data_table['SEX']"
   ]
  },
  {
   "cell_type": "code",
   "execution_count": 20,
   "id": "5abc0bf1",
   "metadata": {},
   "outputs": [],
   "source": [
    "combined_data = pd.read_csv('./GDD/combined_data.csv',\\\n",
    "                             low_memory=False)"
   ]
  },
  {
   "cell_type": "code",
   "execution_count": 23,
   "id": "dbe342e9",
   "metadata": {},
   "outputs": [
    {
     "data": {
      "text/plain": [
       "0             9985\n",
       "low_purity     960\n",
       "Name: Classification_Category, dtype: int64"
      ]
     },
     "execution_count": 23,
     "metadata": {},
     "output_type": "execute_result"
    }
   ],
   "source": [
    "combined_data['Classification_Category'].value_counts()"
   ]
  },
  {
   "cell_type": "code",
   "execution_count": 24,
   "id": "5e056778",
   "metadata": {},
   "outputs": [
    {
     "data": {
      "text/html": [
       "<div>\n",
       "<style scoped>\n",
       "    .dataframe tbody tr th:only-of-type {\n",
       "        vertical-align: middle;\n",
       "    }\n",
       "\n",
       "    .dataframe tbody tr th {\n",
       "        vertical-align: top;\n",
       "    }\n",
       "\n",
       "    .dataframe thead th {\n",
       "        text-align: right;\n",
       "    }\n",
       "</style>\n",
       "<table border=\"1\" class=\"dataframe\">\n",
       "  <thead>\n",
       "    <tr style=\"text-align: right;\">\n",
       "      <th></th>\n",
       "      <th>SAMPLE_ID</th>\n",
       "      <th>SAMPLE_COLLECTION_SOURCE</th>\n",
       "      <th>SPECIMEN_PRESERVATION_TYPE</th>\n",
       "      <th>SPECIMEN_TYPE</th>\n",
       "      <th>DNA_INPUT</th>\n",
       "      <th>SAMPLE_COVERAGE</th>\n",
       "      <th>TUMOR_PURITY</th>\n",
       "      <th>MATCHED_STATUS</th>\n",
       "      <th>SAMPLE_TYPE</th>\n",
       "      <th>PRIMARY_SITE</th>\n",
       "      <th>...</th>\n",
       "      <th>SEX</th>\n",
       "      <th>VITAL_STATUS</th>\n",
       "      <th>SMOKING_HISTORY</th>\n",
       "      <th>OS_MONTHS</th>\n",
       "      <th>OS_STATUS</th>\n",
       "      <th>CANCER_TYPE</th>\n",
       "      <th>CANCER_TYPE_DETAILED</th>\n",
       "      <th>Classification_Category</th>\n",
       "      <th>LogSNV_Mb</th>\n",
       "      <th>LogINDEL_Mb</th>\n",
       "    </tr>\n",
       "  </thead>\n",
       "  <tbody>\n",
       "    <tr>\n",
       "      <th>0</th>\n",
       "      <td>P-0000025-T02-IM5</td>\n",
       "      <td>In-House</td>\n",
       "      <td>FFPE</td>\n",
       "      <td>Biopsy</td>\n",
       "      <td>250.0</td>\n",
       "      <td>1147</td>\n",
       "      <td>30</td>\n",
       "      <td>Matched</td>\n",
       "      <td>Metastasis</td>\n",
       "      <td>Uterus</td>\n",
       "      <td>...</td>\n",
       "      <td>Female</td>\n",
       "      <td>ALIVE</td>\n",
       "      <td>Never</td>\n",
       "      <td>8.81</td>\n",
       "      <td>LIVING</td>\n",
       "      <td>Endometrial Cancer</td>\n",
       "      <td>Uterine Serous Carcinoma/Uterine Papillary Ser...</td>\n",
       "      <td>0</td>\n",
       "      <td>0.424614</td>\n",
       "      <td>0.0</td>\n",
       "    </tr>\n",
       "    <tr>\n",
       "      <th>1</th>\n",
       "      <td>P-0000066-T02-IM5</td>\n",
       "      <td>In-House</td>\n",
       "      <td>DNA</td>\n",
       "      <td>Biopsy</td>\n",
       "      <td>236.6</td>\n",
       "      <td>677</td>\n",
       "      <td>30</td>\n",
       "      <td>Matched</td>\n",
       "      <td>Metastasis</td>\n",
       "      <td>Breast</td>\n",
       "      <td>...</td>\n",
       "      <td>Female</td>\n",
       "      <td>ALIVE</td>\n",
       "      <td>Prev/Curr Smoker</td>\n",
       "      <td>32.74</td>\n",
       "      <td>LIVING</td>\n",
       "      <td>Breast Carcinoma</td>\n",
       "      <td>Breast Invasive Ductal Carcinoma</td>\n",
       "      <td>0</td>\n",
       "      <td>0.635154</td>\n",
       "      <td>0.0</td>\n",
       "    </tr>\n",
       "  </tbody>\n",
       "</table>\n",
       "<p>2 rows × 23 columns</p>\n",
       "</div>"
      ],
      "text/plain": [
       "           SAMPLE_ID SAMPLE_COLLECTION_SOURCE SPECIMEN_PRESERVATION_TYPE  \\\n",
       "0  P-0000025-T02-IM5                 In-House                       FFPE   \n",
       "1  P-0000066-T02-IM5                 In-House                        DNA   \n",
       "\n",
       "  SPECIMEN_TYPE  DNA_INPUT  SAMPLE_COVERAGE  TUMOR_PURITY MATCHED_STATUS  \\\n",
       "0        Biopsy      250.0             1147            30        Matched   \n",
       "1        Biopsy      236.6              677            30        Matched   \n",
       "\n",
       "  SAMPLE_TYPE PRIMARY_SITE  ...     SEX VITAL_STATUS   SMOKING_HISTORY  \\\n",
       "0  Metastasis       Uterus  ...  Female        ALIVE             Never   \n",
       "1  Metastasis       Breast  ...  Female        ALIVE  Prev/Curr Smoker   \n",
       "\n",
       "  OS_MONTHS OS_STATUS         CANCER_TYPE  \\\n",
       "0      8.81    LIVING  Endometrial Cancer   \n",
       "1     32.74    LIVING    Breast Carcinoma   \n",
       "\n",
       "                                CANCER_TYPE_DETAILED Classification_Category  \\\n",
       "0  Uterine Serous Carcinoma/Uterine Papillary Ser...                       0   \n",
       "1                   Breast Invasive Ductal Carcinoma                       0   \n",
       "\n",
       "  LogSNV_Mb LogINDEL_Mb  \n",
       "0  0.424614         0.0  \n",
       "1  0.635154         0.0  \n",
       "\n",
       "[2 rows x 23 columns]"
      ]
     },
     "execution_count": 24,
     "metadata": {},
     "output_type": "execute_result"
    }
   ],
   "source": [
    "combined_data.head(2)"
   ]
  },
  {
   "cell_type": "code",
   "execution_count": 25,
   "id": "d15f80a2",
   "metadata": {},
   "outputs": [
    {
     "data": {
      "text/plain": [
       "Index(['SAMPLE_ID', 'SAMPLE_COLLECTION_SOURCE', 'SPECIMEN_PRESERVATION_TYPE',\n",
       "       'SPECIMEN_TYPE', 'DNA_INPUT', 'SAMPLE_COVERAGE', 'TUMOR_PURITY',\n",
       "       'MATCHED_STATUS', 'SAMPLE_TYPE', 'PRIMARY_SITE', 'METASTATIC_SITE',\n",
       "       'ONCOTREE_CODE', 'SAMPLE_CLASS', 'SEX', 'VITAL_STATUS',\n",
       "       'SMOKING_HISTORY', 'OS_MONTHS', 'OS_STATUS', 'CANCER_TYPE',\n",
       "       'CANCER_TYPE_DETAILED', 'Classification_Category', 'LogSNV_Mb',\n",
       "       'LogINDEL_Mb'],\n",
       "      dtype='object')"
      ]
     },
     "execution_count": 25,
     "metadata": {},
     "output_type": "execute_result"
    }
   ],
   "source": [
    "combined_data.columns"
   ]
  },
  {
   "cell_type": "code",
   "execution_count": 30,
   "id": "23010065",
   "metadata": {},
   "outputs": [
    {
     "data": {
      "text/plain": [
       "Index(['PATIENT_ID', 'SAMPLE_ID', 'SAMPLE_COLLECTION_SOURCE',\n",
       "       'SPECIMEN_PRESERVATION_TYPE', 'SPECIMEN_TYPE', 'DNA_INPUT',\n",
       "       'SAMPLE_COVERAGE', 'TUMOR_PURITY', 'MATCHED_STATUS', 'SAMPLE_TYPE',\n",
       "       'PRIMARY_SITE', 'METASTATIC_SITE', 'SAMPLE_CLASS', 'ONCOTREE_CODE',\n",
       "       'CANCER_TYPE', 'CANCER_TYPE_DETAILED', 'SOMATIC_STATUS',\n",
       "       'TMB_NONSYNONYMOUS', 'SEX', 'VITAL_STATUS', 'SMOKING_HISTORY',\n",
       "       'OS_MONTHS', 'OS_STATUS', 'Patient_ID', 'Sample_ID', 'Status',\n",
       "       'SampleType', 'AssayPerformance', 'SpecimenType', 'DNAInput_ng',\n",
       "       'Coverage', 'TumorPurity', 'MatchStatus', 'GeneralTumorType',\n",
       "       'DetailedTumorType', 'SampleType.1', 'PrimarySite', 'MetastasisSite',\n",
       "       'TumorTypeCode', 'Gender', 'ExonicMutationCount', 'SNVCount',\n",
       "       'INDELCount', 'SCNACount', 'SVCount', 'SilentMutationCount',\n",
       "       'VitalStatus', 'SmokingStatus', 'TissueAge_yrs'],\n",
       "      dtype='object')"
      ]
     },
     "execution_count": 30,
     "metadata": {},
     "output_type": "execute_result"
    }
   ],
   "source": [
    "data_clinical.columns"
   ]
  },
  {
   "cell_type": "code",
   "execution_count": 2,
   "id": "79723439",
   "metadata": {},
   "outputs": [
    {
     "ename": "NameError",
     "evalue": "name 'data_clinical' is not defined",
     "output_type": "error",
     "traceback": [
      "\u001b[0;31m---------------------------------------------------------------------------\u001b[0m",
      "\u001b[0;31mNameError\u001b[0m                                 Traceback (most recent call last)",
      "Input \u001b[0;32mIn [2]\u001b[0m, in \u001b[0;36m<cell line: 1>\u001b[0;34m()\u001b[0m\n\u001b[0;32m----> 1\u001b[0m \u001b[43mdata_clinical\u001b[49m[\u001b[38;5;124m'\u001b[39m\u001b[38;5;124mMATCHED_STATUS\u001b[39m\u001b[38;5;124m'\u001b[39m]\u001b[38;5;241m.\u001b[39mshape\n",
      "\u001b[0;31mNameError\u001b[0m: name 'data_clinical' is not defined"
     ]
    }
   ],
   "source": [
    "data_clinical['MATCHED_STATUS'].shape"
   ]
  },
  {
   "cell_type": "code",
   "execution_count": 38,
   "id": "06970fdb",
   "metadata": {},
   "outputs": [],
   "source": [
    "# 'GeneralTumorType'"
   ]
  },
  {
   "cell_type": "code",
   "execution_count": null,
   "id": "542bdfcf",
   "metadata": {},
   "outputs": [],
   "source": []
  }
 ],
 "metadata": {
  "kernelspec": {
   "display_name": "Python 3 (ipykernel)",
   "language": "python",
   "name": "python3"
  },
  "language_info": {
   "codemirror_mode": {
    "name": "ipython",
    "version": 3
   },
   "file_extension": ".py",
   "mimetype": "text/x-python",
   "name": "python",
   "nbconvert_exporter": "python",
   "pygments_lexer": "ipython3",
   "version": "3.9.12"
  }
 },
 "nbformat": 4,
 "nbformat_minor": 5
}
