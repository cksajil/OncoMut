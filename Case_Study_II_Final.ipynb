{
 "cells": [
  {
   "cell_type": "markdown",
   "id": "d34330af",
   "metadata": {
    "papermill": {
     "duration": 0.00435,
     "end_time": "2022-10-31T15:49:13.386621",
     "exception": false,
     "start_time": "2022-10-31T15:49:13.382271",
     "status": "completed"
    },
    "tags": []
   },
   "source": [
    "### Import Libraries"
   ]
  },
  {
   "cell_type": "code",
   "execution_count": 1,
   "id": "86e21981",
   "metadata": {
    "execution": {
     "iopub.execute_input": "2022-10-31T15:49:13.395681Z",
     "iopub.status.busy": "2022-10-31T15:49:13.395308Z",
     "iopub.status.idle": "2022-10-31T15:49:20.736285Z",
     "shell.execute_reply": "2022-10-31T15:49:20.735327Z"
    },
    "papermill": {
     "duration": 7.348298,
     "end_time": "2022-10-31T15:49:20.738737",
     "exception": false,
     "start_time": "2022-10-31T15:49:13.390439",
     "status": "completed"
    },
    "tags": []
   },
   "outputs": [],
   "source": [
    "import numpy as np\n",
    "import pandas as pd\n",
    "from tqdm import tqdm\n",
    "from sklearn import metrics\n",
    "from keras.models import load_model\n",
    "from tensorflow.keras.utils import plot_model\n",
    "from sklearn.preprocessing import StandardScaler\n",
    "from tensorflow.keras.preprocessing.text import Tokenizer\n",
    "from tensorflow.keras.preprocessing.sequence import pad_sequences"
   ]
  },
  {
   "cell_type": "markdown",
   "id": "38f9cd4c",
   "metadata": {
    "papermill": {
     "duration": 0.003091,
     "end_time": "2022-10-31T15:49:20.745474",
     "exception": false,
     "start_time": "2022-10-31T15:49:20.742383",
     "status": "completed"
    },
    "tags": []
   },
   "source": [
    "### Function to Compute Performance Metrics"
   ]
  },
  {
   "cell_type": "code",
   "execution_count": 2,
   "id": "4e725db3",
   "metadata": {
    "execution": {
     "iopub.execute_input": "2022-10-31T15:49:20.754057Z",
     "iopub.status.busy": "2022-10-31T15:49:20.753464Z",
     "iopub.status.idle": "2022-10-31T15:49:20.761874Z",
     "shell.execute_reply": "2022-10-31T15:49:20.760188Z"
    },
    "papermill": {
     "duration": 0.014867,
     "end_time": "2022-10-31T15:49:20.763716",
     "exception": false,
     "start_time": "2022-10-31T15:49:20.748849",
     "status": "completed"
    },
    "tags": []
   },
   "outputs": [],
   "source": [
    "#Source : Self-case study 1\n",
    "def performanceResults(y_actual, y_hat):\n",
    "    TP = 0\n",
    "    FP = 0\n",
    "    TN = 0\n",
    "    FN = 0\n",
    "    for i in range(len(y_hat)):\n",
    "        if y_actual[i] == y_hat[i] == 1:\n",
    "            TP += 1\n",
    "        if y_hat[i] == 1 and y_actual[i] != y_hat[i]:\n",
    "            FP += 1\n",
    "        if y_actual[i] == y_hat[i] == 0:\n",
    "            TN += 1\n",
    "        if y_hat[i] == 0 and y_actual[i] != y_hat[i]:\n",
    "            FN += 1\n",
    "    acc = (TP + TN) / (TP + FP + TN + FN)\n",
    "    sensitivity = TP / (TP + FN)\n",
    "    specificity = TN / (TN + FP)\n",
    "    fpr = FP / (FP + TN)\n",
    "    return acc, sensitivity, specificity, fpr"
   ]
  },
  {
   "cell_type": "code",
   "execution_count": 3,
   "id": "face1c07",
   "metadata": {
    "execution": {
     "iopub.execute_input": "2022-10-31T15:49:20.772440Z",
     "iopub.status.busy": "2022-10-31T15:49:20.772043Z",
     "iopub.status.idle": "2022-10-31T15:49:20.775576Z",
     "shell.execute_reply": "2022-10-31T15:49:20.775094Z"
    },
    "papermill": {
     "duration": 0.010354,
     "end_time": "2022-10-31T15:49:20.777779",
     "exception": false,
     "start_time": "2022-10-31T15:49:20.767425",
     "status": "completed"
    },
    "tags": []
   },
   "outputs": [],
   "source": [
    "def final_fun_1(X_raw, best_model_path):\n",
    "    best_model = load_model(best_model_path, compile=False)\n",
    "#     best_model.summary()\n",
    "    y_pred= best_model.predict(X_raw)\n",
    "    return  np.argmax(y_pred,axis=1)"
   ]
  },
  {
   "cell_type": "code",
   "execution_count": 4,
   "id": "bb790b46",
   "metadata": {
    "execution": {
     "iopub.execute_input": "2022-10-31T15:49:20.786582Z",
     "iopub.status.busy": "2022-10-31T15:49:20.786173Z",
     "iopub.status.idle": "2022-10-31T15:49:20.790444Z",
     "shell.execute_reply": "2022-10-31T15:49:20.789587Z"
    },
    "papermill": {
     "duration": 0.011315,
     "end_time": "2022-10-31T15:49:20.792844",
     "exception": false,
     "start_time": "2022-10-31T15:49:20.781529",
     "status": "completed"
    },
    "tags": []
   },
   "outputs": [],
   "source": [
    "def final_fun_2(X_emb,y_raw):\n",
    "    best_model_path =  '../input/msk-impact-trained-dnn/Saved_Models/best_model_3.hdf5'\n",
    "    y_pred = final_fun_1(X_emb, best_model_path)\n",
    "    PR = performanceResults(y_raw, y_pred)\n",
    "    (lrfpr, lrtpr, lrthresholds) = metrics.roc_curve(y_raw, y_pred)\n",
    "    roc_auc = metrics.auc(lrfpr, lrtpr)\n",
    "    return PR, roc_auc"
   ]
  },
  {
   "cell_type": "code",
   "execution_count": 5,
   "id": "68df2e7a",
   "metadata": {
    "execution": {
     "iopub.execute_input": "2022-10-31T15:49:20.801825Z",
     "iopub.status.busy": "2022-10-31T15:49:20.801516Z",
     "iopub.status.idle": "2022-10-31T15:49:20.814512Z",
     "shell.execute_reply": "2022-10-31T15:49:20.813438Z"
    },
    "papermill": {
     "duration": 0.0203,
     "end_time": "2022-10-31T15:49:20.816916",
     "exception": false,
     "start_time": "2022-10-31T15:49:20.796616",
     "status": "completed"
    },
    "tags": []
   },
   "outputs": [],
   "source": [
    "def load_and_process_dataset():\n",
    "    master_data = pd.read_csv('../input/msk-impact-basic/processed_data.csv')\n",
    "    master_data = master_data.drop(['TissueAge_yrs','AssayPerformance','SpecimenType'],axis=1)\n",
    "    master_data['SAMPLE_TYPE'].replace(['Primary', 'Metastasis'],[0, 1], inplace=True)\n",
    "    master_data['SPECIMEN_TYPE'].replace(['Resection', 'Biopsy','Cytology','CUSA'],[0, 1, 2, 3], inplace=True)\n",
    "    master_data['SOMATIC_STATUS'].replace(['Matched', 'Unmatched'],[0, 1], inplace=True)\n",
    "    master_data['SEX'].replace(['Male', 'Female'],[0, 1], inplace=True)\n",
    "    master_data['SMOKING_HISTORY'].replace(['Prev/Curr Smoker', 'Never','Unknown'],[0, 1, 2], inplace=True)\n",
    "    master_data['SampleType'].replace(['FFPE', 'DNA', 'Cell Pellet','FNA', 'Other'],[0, 1, 2, 3, 4], inplace=True)\n",
    "    master_data['SAMPLE_COLLECTION_SOURCE'].replace(['In-House','Outside'],[0, 1], inplace=True)\n",
    "    master_data['VITAL_STATUS'].replace(['ALIVE','DECEASED'],[0, 1], inplace=True)\n",
    "    sample_ids = master_data['SAMPLE_ID'].tolist()\n",
    "    data_mutations = pd.read_csv('../input/msk-impact-basic/data_mutations.txt',\\\n",
    "                                 sep='\\t',\\\n",
    "                                 skiprows=1,\\\n",
    "                                 low_memory=False)\n",
    "    t_ref_counts = []\n",
    "    t_alt_counts = []\n",
    "    protein_poss = []\n",
    "    codon_counts = []\n",
    "    pos_diffs = []\n",
    "    for sample_id in tqdm(sample_ids):\n",
    "        segment = data_mutations[data_mutations['Tumor_Sample_Barcode']==sample_id]\n",
    "        pos_diff = segment['End_Position']- segment['Start_Position']\n",
    "        pos_diff = np.sum(pos_diff)\n",
    "        codons  = segment['Codons'].values\n",
    "        codons = [x for x in codons if str(x) != 'nan']\n",
    "        t_ref = np.mean(segment['t_ref_count'])\n",
    "        t_alt = np.mean(segment['t_alt_count'])\n",
    "        protein_pos = np.mean(segment['Protein_position'])\n",
    "        t_ref_counts.append(t_ref) \n",
    "        t_alt_counts.append(t_alt) \n",
    "        protein_poss.append(protein_pos)\n",
    "        codon_counts.append(len(codons))\n",
    "        pos_diffs.append(pos_diff)\n",
    "        \n",
    "    master_data['t_ref_counts'] = t_ref_counts\n",
    "    master_data['t_alt_counts'] = t_alt_counts\n",
    "    master_data['protein_pos'] = protein_poss\n",
    "    master_data['codon_counts'] = codon_counts\n",
    "    master_data['pos_diffs'] = pos_diffs\n",
    "    return master_data"
   ]
  },
  {
   "cell_type": "code",
   "execution_count": 6,
   "id": "59f11d11",
   "metadata": {
    "execution": {
     "iopub.execute_input": "2022-10-31T15:49:20.826236Z",
     "iopub.status.busy": "2022-10-31T15:49:20.825668Z",
     "iopub.status.idle": "2022-10-31T15:50:07.287528Z",
     "shell.execute_reply": "2022-10-31T15:50:07.286176Z"
    },
    "papermill": {
     "duration": 46.469797,
     "end_time": "2022-10-31T15:50:07.290688",
     "exception": false,
     "start_time": "2022-10-31T15:49:20.820891",
     "status": "completed"
    },
    "tags": []
   },
   "outputs": [
    {
     "name": "stderr",
     "output_type": "stream",
     "text": [
      "100%|██████████| 8121/8121 [00:45<00:00, 178.02it/s]\n"
     ]
    }
   ],
   "source": [
    "processed_data = load_and_process_dataset()\n",
    "X = processed_data.drop(['SAMPLE_TYPE'], axis=1)\n",
    "y = processed_data['SAMPLE_TYPE']\n",
    "\n",
    "numericalFeats = X.select_dtypes(include=[np.number]).columns\n",
    "\n",
    "X_num = X[numericalFeats]\n",
    "X_num = X_num.fillna(X_num.mean())\n",
    "standard_scaler = StandardScaler()\n",
    "X_num = standard_scaler.fit_transform(X_num)"
   ]
  },
  {
   "cell_type": "code",
   "execution_count": 7,
   "id": "eae3b028",
   "metadata": {
    "execution": {
     "iopub.execute_input": "2022-10-31T15:50:07.346897Z",
     "iopub.status.busy": "2022-10-31T15:50:07.346555Z",
     "iopub.status.idle": "2022-10-31T15:50:07.506376Z",
     "shell.execute_reply": "2022-10-31T15:50:07.504560Z"
    },
    "papermill": {
     "duration": 0.189687,
     "end_time": "2022-10-31T15:50:07.508891",
     "exception": false,
     "start_time": "2022-10-31T15:50:07.319204",
     "status": "completed"
    },
    "tags": []
   },
   "outputs": [],
   "source": [
    "tokenizer = Tokenizer()\n",
    "tokenizer.fit_on_texts(X['DetailedTumorType'])\n",
    "X_dtumort = tokenizer.texts_to_sequences(X['DetailedTumorType'])\n",
    "X_dtumort = pad_sequences(X_dtumort, dtype='uint8')"
   ]
  },
  {
   "cell_type": "code",
   "execution_count": 8,
   "id": "45fe3ce7",
   "metadata": {
    "execution": {
     "iopub.execute_input": "2022-10-31T15:50:07.562644Z",
     "iopub.status.busy": "2022-10-31T15:50:07.562324Z",
     "iopub.status.idle": "2022-10-31T15:50:07.569083Z",
     "shell.execute_reply": "2022-10-31T15:50:07.567992Z"
    },
    "papermill": {
     "duration": 0.03632,
     "end_time": "2022-10-31T15:50:07.571507",
     "exception": false,
     "start_time": "2022-10-31T15:50:07.535187",
     "status": "completed"
    },
    "tags": []
   },
   "outputs": [],
   "source": [
    "nrows = X_num.shape[0]\n",
    "pickidx = np.random.choice(nrows, size=10, replace=False)\n",
    "test_input = [X_num[pickidx, :],X_dtumort[pickidx, :]]\n",
    "test_labels = y[pickidx].to_numpy()"
   ]
  },
  {
   "cell_type": "code",
   "execution_count": 9,
   "id": "edf69d89",
   "metadata": {
    "execution": {
     "iopub.execute_input": "2022-10-31T15:50:07.623119Z",
     "iopub.status.busy": "2022-10-31T15:50:07.622803Z",
     "iopub.status.idle": "2022-10-31T15:50:08.172701Z",
     "shell.execute_reply": "2022-10-31T15:50:08.171525Z"
    },
    "papermill": {
     "duration": 0.578337,
     "end_time": "2022-10-31T15:50:08.175034",
     "exception": false,
     "start_time": "2022-10-31T15:50:07.596697",
     "status": "completed"
    },
    "tags": []
   },
   "outputs": [
    {
     "name": "stderr",
     "output_type": "stream",
     "text": [
      "2022-10-31 15:50:07.695609: I tensorflow/core/common_runtime/process_util.cc:146] Creating new thread pool with default inter op setting: 2. Tune using inter_op_parallelism_threads for best performance.\n",
      "2022-10-31 15:50:07.884799: I tensorflow/compiler/mlir/mlir_graph_optimization_pass.cc:185] None of the MLIR Optimization Passes are enabled (registered 2)\n"
     ]
    }
   ],
   "source": [
    "best_model_path =  '../input/msk-impact-trained-dnn/Saved_Models/best_model_3.hdf5'\n",
    "y_pred = final_fun_1(test_input, best_model_path)"
   ]
  },
  {
   "cell_type": "code",
   "execution_count": 10,
   "id": "20d7c01c",
   "metadata": {
    "execution": {
     "iopub.execute_input": "2022-10-31T15:50:08.228953Z",
     "iopub.status.busy": "2022-10-31T15:50:08.228424Z",
     "iopub.status.idle": "2022-10-31T15:50:08.234263Z",
     "shell.execute_reply": "2022-10-31T15:50:08.232182Z"
    },
    "papermill": {
     "duration": 0.035542,
     "end_time": "2022-10-31T15:50:08.237277",
     "exception": false,
     "start_time": "2022-10-31T15:50:08.201735",
     "status": "completed"
    },
    "tags": []
   },
   "outputs": [
    {
     "name": "stdout",
     "output_type": "stream",
     "text": [
      "[0 0 1 0 1 1 1 0 1 1]\n"
     ]
    }
   ],
   "source": [
    "print(test_labels)"
   ]
  },
  {
   "cell_type": "code",
   "execution_count": 11,
   "id": "e8514971",
   "metadata": {
    "execution": {
     "iopub.execute_input": "2022-10-31T15:50:08.291315Z",
     "iopub.status.busy": "2022-10-31T15:50:08.290908Z",
     "iopub.status.idle": "2022-10-31T15:50:08.296454Z",
     "shell.execute_reply": "2022-10-31T15:50:08.295279Z"
    },
    "papermill": {
     "duration": 0.035199,
     "end_time": "2022-10-31T15:50:08.298758",
     "exception": false,
     "start_time": "2022-10-31T15:50:08.263559",
     "status": "completed"
    },
    "tags": []
   },
   "outputs": [
    {
     "name": "stdout",
     "output_type": "stream",
     "text": [
      "[0 0 1 0 1 1 0 0 1 1]\n"
     ]
    }
   ],
   "source": [
    "print(y_pred)"
   ]
  },
  {
   "cell_type": "code",
   "execution_count": 12,
   "id": "c81e046d",
   "metadata": {
    "execution": {
     "iopub.execute_input": "2022-10-31T15:50:08.352175Z",
     "iopub.status.busy": "2022-10-31T15:50:08.351863Z",
     "iopub.status.idle": "2022-10-31T15:50:08.527109Z",
     "shell.execute_reply": "2022-10-31T15:50:08.526116Z"
    },
    "papermill": {
     "duration": 0.20422,
     "end_time": "2022-10-31T15:50:08.529161",
     "exception": false,
     "start_time": "2022-10-31T15:50:08.324941",
     "status": "completed"
    },
    "tags": []
   },
   "outputs": [],
   "source": [
    "PR, roc_auc = final_fun_2(test_input, test_labels)"
   ]
  },
  {
   "cell_type": "code",
   "execution_count": 13,
   "id": "347c2f22",
   "metadata": {
    "execution": {
     "iopub.execute_input": "2022-10-31T15:50:08.582471Z",
     "iopub.status.busy": "2022-10-31T15:50:08.582140Z",
     "iopub.status.idle": "2022-10-31T15:50:08.589083Z",
     "shell.execute_reply": "2022-10-31T15:50:08.587734Z"
    },
    "papermill": {
     "duration": 0.03621,
     "end_time": "2022-10-31T15:50:08.591270",
     "exception": false,
     "start_time": "2022-10-31T15:50:08.555060",
     "status": "completed"
    },
    "tags": []
   },
   "outputs": [
    {
     "name": "stdout",
     "output_type": "stream",
     "text": [
      "Best Model Performance Metrics on Test Input Data\n",
      "Accuracy:  0.9\n",
      "Sensitivity:  0.8333333333333334\n",
      "Specificity:  1.0\n",
      "False Positive Rate:  0.0\n",
      "Area Under the Curve (AUC): 0.9166666666666667\n"
     ]
    }
   ],
   "source": [
    "# Source: Self-case study 1\n",
    "print('Best Model Performance Metrics on Test Input Data')\n",
    "print ('Accuracy: ', PR[0])\n",
    "print ('Sensitivity: ', PR[1])\n",
    "print ('Specificity: ', PR[2])\n",
    "print ('False Positive Rate: ', PR[3])\n",
    "print('Area Under the Curve (AUC):', roc_auc)"
   ]
  },
  {
   "cell_type": "code",
   "execution_count": null,
   "id": "93adbd4f",
   "metadata": {
    "papermill": {
     "duration": 0.027682,
     "end_time": "2022-10-31T15:50:08.647164",
     "exception": false,
     "start_time": "2022-10-31T15:50:08.619482",
     "status": "completed"
    },
    "tags": []
   },
   "outputs": [],
   "source": []
  }
 ],
 "metadata": {
  "kernelspec": {
   "display_name": "Python 3 (ipykernel)",
   "language": "python",
   "name": "python3"
  },
  "language_info": {
   "codemirror_mode": {
    "name": "ipython",
    "version": 3
   },
   "file_extension": ".py",
   "mimetype": "text/x-python",
   "name": "python",
   "nbconvert_exporter": "python",
   "pygments_lexer": "ipython3",
   "version": "3.9.12"
  },
  "papermill": {
   "default_parameters": {},
   "duration": 66.01576,
   "end_time": "2022-10-31T15:50:12.237531",
   "environment_variables": {},
   "exception": null,
   "input_path": "__notebook__.ipynb",
   "output_path": "__notebook__.ipynb",
   "parameters": {},
   "start_time": "2022-10-31T15:49:06.221771",
   "version": "2.3.4"
  }
 },
 "nbformat": 4,
 "nbformat_minor": 5
}
