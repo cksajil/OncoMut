{
 "cells": [
  {
   "cell_type": "markdown",
   "id": "de8cc8cd",
   "metadata": {},
   "source": [
    "### Import Libraries"
   ]
  },
  {
   "cell_type": "code",
   "execution_count": 1,
   "id": "64344b48",
   "metadata": {},
   "outputs": [],
   "source": [
    "import numpy as np\n",
    "import pandas as pd\n",
    "from tqdm import tqdm\n",
    "import seaborn as sns\n",
    "from scipy import stats\n",
    "from scipy.stats import zscore\n",
    "import matplotlib.pyplot as plt\n",
    "from sklearn.manifold import TSNE\n",
    "from matplotlib.pyplot import figure"
   ]
  },
  {
   "cell_type": "code",
   "execution_count": 2,
   "id": "6016cfda",
   "metadata": {},
   "outputs": [],
   "source": [
    "msk_impact_clinical_data = pd.read_csv('./Data/CBioportal/msk_impact_2017_clinical_data.tsv',sep='\\t')"
   ]
  },
  {
   "cell_type": "markdown",
   "id": "bd716c01",
   "metadata": {},
   "source": [
    "### Inspect Datasets"
   ]
  },
  {
   "cell_type": "code",
   "execution_count": 3,
   "id": "277258b0",
   "metadata": {},
   "outputs": [
    {
     "data": {
      "text/html": [
       "<div>\n",
       "<style scoped>\n",
       "    .dataframe tbody tr th:only-of-type {\n",
       "        vertical-align: middle;\n",
       "    }\n",
       "\n",
       "    .dataframe tbody tr th {\n",
       "        vertical-align: top;\n",
       "    }\n",
       "\n",
       "    .dataframe thead th {\n",
       "        text-align: right;\n",
       "    }\n",
       "</style>\n",
       "<table border=\"1\" class=\"dataframe\">\n",
       "  <thead>\n",
       "    <tr style=\"text-align: right;\">\n",
       "      <th></th>\n",
       "      <th>Study ID</th>\n",
       "      <th>Patient ID</th>\n",
       "      <th>Sample ID</th>\n",
       "      <th>Cancer Type</th>\n",
       "      <th>Cancer Type Detailed</th>\n",
       "      <th>DNA Input</th>\n",
       "      <th>Fraction Genome Altered</th>\n",
       "      <th>Matched Status</th>\n",
       "      <th>Metastatic Site</th>\n",
       "      <th>Mutation Count</th>\n",
       "      <th>...</th>\n",
       "      <th>Sample coverage</th>\n",
       "      <th>Sample Type</th>\n",
       "      <th>Sex</th>\n",
       "      <th>Smoking History</th>\n",
       "      <th>Somatic Status</th>\n",
       "      <th>Specimen Preservation Type</th>\n",
       "      <th>Specimen Type</th>\n",
       "      <th>TMB (nonsynonymous)</th>\n",
       "      <th>Tumor Purity</th>\n",
       "      <th>Patient's Vital Status</th>\n",
       "    </tr>\n",
       "  </thead>\n",
       "  <tbody>\n",
       "    <tr>\n",
       "      <th>0</th>\n",
       "      <td>msk_impact_2017</td>\n",
       "      <td>P-0000004</td>\n",
       "      <td>P-0000004-T01-IM3</td>\n",
       "      <td>Breast Cancer</td>\n",
       "      <td>Breast Invasive Ductal Carcinoma</td>\n",
       "      <td>250.0</td>\n",
       "      <td>0.2782</td>\n",
       "      <td>Matched</td>\n",
       "      <td>NaN</td>\n",
       "      <td>16</td>\n",
       "      <td>...</td>\n",
       "      <td>428</td>\n",
       "      <td>Primary</td>\n",
       "      <td>Female</td>\n",
       "      <td>Unknown</td>\n",
       "      <td>Matched</td>\n",
       "      <td>FFPE</td>\n",
       "      <td>Biopsy</td>\n",
       "      <td>17.746485</td>\n",
       "      <td>50.0</td>\n",
       "      <td>ALIVE</td>\n",
       "    </tr>\n",
       "    <tr>\n",
       "      <th>1</th>\n",
       "      <td>msk_impact_2017</td>\n",
       "      <td>P-0000015</td>\n",
       "      <td>P-0000015-T01-IM3</td>\n",
       "      <td>Breast Cancer</td>\n",
       "      <td>Breast Invasive Ductal Carcinoma</td>\n",
       "      <td>198.0</td>\n",
       "      <td>0.3503</td>\n",
       "      <td>Matched</td>\n",
       "      <td>Liver</td>\n",
       "      <td>7</td>\n",
       "      <td>...</td>\n",
       "      <td>281</td>\n",
       "      <td>Metastasis</td>\n",
       "      <td>Female</td>\n",
       "      <td>Never</td>\n",
       "      <td>Matched</td>\n",
       "      <td>FFPE</td>\n",
       "      <td>Biopsy</td>\n",
       "      <td>7.764087</td>\n",
       "      <td>40.0</td>\n",
       "      <td>DECEASED</td>\n",
       "    </tr>\n",
       "    <tr>\n",
       "      <th>2</th>\n",
       "      <td>msk_impact_2017</td>\n",
       "      <td>P-0000023</td>\n",
       "      <td>P-0000023-T01-IM3</td>\n",
       "      <td>Mesothelioma</td>\n",
       "      <td>Peritoneal Mesothelioma</td>\n",
       "      <td>250.0</td>\n",
       "      <td>0.1596</td>\n",
       "      <td>Matched</td>\n",
       "      <td>NaN</td>\n",
       "      <td>5</td>\n",
       "      <td>...</td>\n",
       "      <td>454</td>\n",
       "      <td>Primary</td>\n",
       "      <td>Male</td>\n",
       "      <td>Never</td>\n",
       "      <td>Matched</td>\n",
       "      <td>FFPE</td>\n",
       "      <td>Biopsy</td>\n",
       "      <td>5.545777</td>\n",
       "      <td>30.0</td>\n",
       "      <td>DECEASED</td>\n",
       "    </tr>\n",
       "  </tbody>\n",
       "</table>\n",
       "<p>3 rows × 27 columns</p>\n",
       "</div>"
      ],
      "text/plain": [
       "          Study ID Patient ID          Sample ID    Cancer Type  \\\n",
       "0  msk_impact_2017  P-0000004  P-0000004-T01-IM3  Breast Cancer   \n",
       "1  msk_impact_2017  P-0000015  P-0000015-T01-IM3  Breast Cancer   \n",
       "2  msk_impact_2017  P-0000023  P-0000023-T01-IM3   Mesothelioma   \n",
       "\n",
       "               Cancer Type Detailed  DNA Input  Fraction Genome Altered  \\\n",
       "0  Breast Invasive Ductal Carcinoma      250.0                   0.2782   \n",
       "1  Breast Invasive Ductal Carcinoma      198.0                   0.3503   \n",
       "2           Peritoneal Mesothelioma      250.0                   0.1596   \n",
       "\n",
       "  Matched Status Metastatic Site  Mutation Count  ... Sample coverage  \\\n",
       "0        Matched             NaN              16  ...             428   \n",
       "1        Matched           Liver               7  ...             281   \n",
       "2        Matched             NaN               5  ...             454   \n",
       "\n",
       "   Sample Type     Sex Smoking History Somatic Status  \\\n",
       "0      Primary  Female         Unknown        Matched   \n",
       "1   Metastasis  Female           Never        Matched   \n",
       "2      Primary    Male           Never        Matched   \n",
       "\n",
       "  Specimen Preservation Type  Specimen Type  TMB (nonsynonymous) Tumor Purity  \\\n",
       "0                       FFPE         Biopsy            17.746485         50.0   \n",
       "1                       FFPE         Biopsy             7.764087         40.0   \n",
       "2                       FFPE         Biopsy             5.545777         30.0   \n",
       "\n",
       "  Patient's Vital Status  \n",
       "0                  ALIVE  \n",
       "1               DECEASED  \n",
       "2               DECEASED  \n",
       "\n",
       "[3 rows x 27 columns]"
      ]
     },
     "execution_count": 3,
     "metadata": {},
     "output_type": "execute_result"
    }
   ],
   "source": [
    "msk_impact_clinical_data.head(3)"
   ]
  },
  {
   "cell_type": "code",
   "execution_count": 4,
   "id": "53e06272",
   "metadata": {},
   "outputs": [
    {
     "data": {
      "text/plain": [
       "Index(['Study ID', 'Patient ID', 'Sample ID', 'Cancer Type',\n",
       "       'Cancer Type Detailed', 'DNA Input', 'Fraction Genome Altered',\n",
       "       'Matched Status', 'Metastatic Site', 'Mutation Count', 'Oncotree Code',\n",
       "       'Overall Survival (Months)', 'Overall Survival Status',\n",
       "       'Primary Tumor Site', 'Sample Class', 'Sample Collection Source',\n",
       "       'Number of Samples Per Patient', 'Sample coverage', 'Sample Type',\n",
       "       'Sex', 'Smoking History', 'Somatic Status',\n",
       "       'Specimen Preservation Type', 'Specimen Type', 'TMB (nonsynonymous)',\n",
       "       'Tumor Purity', 'Patient's Vital Status'],\n",
       "      dtype='object')"
      ]
     },
     "execution_count": 4,
     "metadata": {},
     "output_type": "execute_result"
    }
   ],
   "source": [
    "msk_impact_clinical_data.columns"
   ]
  },
  {
   "cell_type": "code",
   "execution_count": 5,
   "id": "7ec6f5e3",
   "metadata": {},
   "outputs": [],
   "source": [
    "data_clinical_patient = pd.read_csv('./Data/CBioportal/msk_impact_2017/data_clinical_patient.txt',\\\n",
    "                             sep='\\t',\\\n",
    "                             skiprows = 4,\\\n",
    "                             low_memory=False)"
   ]
  },
  {
   "cell_type": "code",
   "execution_count": 6,
   "id": "b62907f3",
   "metadata": {},
   "outputs": [
    {
     "data": {
      "text/html": [
       "<div>\n",
       "<style scoped>\n",
       "    .dataframe tbody tr th:only-of-type {\n",
       "        vertical-align: middle;\n",
       "    }\n",
       "\n",
       "    .dataframe tbody tr th {\n",
       "        vertical-align: top;\n",
       "    }\n",
       "\n",
       "    .dataframe thead th {\n",
       "        text-align: right;\n",
       "    }\n",
       "</style>\n",
       "<table border=\"1\" class=\"dataframe\">\n",
       "  <thead>\n",
       "    <tr style=\"text-align: right;\">\n",
       "      <th></th>\n",
       "      <th>PATIENT_ID</th>\n",
       "      <th>SEX</th>\n",
       "      <th>VITAL_STATUS</th>\n",
       "      <th>SMOKING_HISTORY</th>\n",
       "      <th>OS_MONTHS</th>\n",
       "      <th>OS_STATUS</th>\n",
       "    </tr>\n",
       "  </thead>\n",
       "  <tbody>\n",
       "    <tr>\n",
       "      <th>0</th>\n",
       "      <td>P-0000004</td>\n",
       "      <td>Female</td>\n",
       "      <td>ALIVE</td>\n",
       "      <td>Unknown</td>\n",
       "      <td>NaN</td>\n",
       "      <td>0:LIVING</td>\n",
       "    </tr>\n",
       "    <tr>\n",
       "      <th>1</th>\n",
       "      <td>P-0000015</td>\n",
       "      <td>Female</td>\n",
       "      <td>DECEASED</td>\n",
       "      <td>Never</td>\n",
       "      <td>NaN</td>\n",
       "      <td>1:DECEASED</td>\n",
       "    </tr>\n",
       "  </tbody>\n",
       "</table>\n",
       "</div>"
      ],
      "text/plain": [
       "  PATIENT_ID     SEX VITAL_STATUS SMOKING_HISTORY  OS_MONTHS   OS_STATUS\n",
       "0  P-0000004  Female        ALIVE         Unknown        NaN    0:LIVING\n",
       "1  P-0000015  Female     DECEASED           Never        NaN  1:DECEASED"
      ]
     },
     "execution_count": 6,
     "metadata": {},
     "output_type": "execute_result"
    }
   ],
   "source": [
    "data_clinical_patient.head(2)"
   ]
  },
  {
   "cell_type": "code",
   "execution_count": 7,
   "id": "e4a38f85",
   "metadata": {},
   "outputs": [
    {
     "data": {
      "text/plain": [
       "Index(['PATIENT_ID', 'SEX', 'VITAL_STATUS', 'SMOKING_HISTORY', 'OS_MONTHS',\n",
       "       'OS_STATUS'],\n",
       "      dtype='object')"
      ]
     },
     "execution_count": 7,
     "metadata": {},
     "output_type": "execute_result"
    }
   ],
   "source": [
    "data_clinical_patient.columns"
   ]
  },
  {
   "cell_type": "code",
   "execution_count": 8,
   "id": "609cb832",
   "metadata": {},
   "outputs": [],
   "source": [
    "data_clinical_sample = pd.read_csv('./Data/CBioportal/msk_impact_2017/data_clinical_sample.txt',\\\n",
    "                             sep='\\t',\\\n",
    "                             skiprows = 4,\\\n",
    "                             low_memory=False)"
   ]
  },
  {
   "cell_type": "code",
   "execution_count": 9,
   "id": "f5b11b89",
   "metadata": {},
   "outputs": [
    {
     "data": {
      "text/html": [
       "<div>\n",
       "<style scoped>\n",
       "    .dataframe tbody tr th:only-of-type {\n",
       "        vertical-align: middle;\n",
       "    }\n",
       "\n",
       "    .dataframe tbody tr th {\n",
       "        vertical-align: top;\n",
       "    }\n",
       "\n",
       "    .dataframe thead th {\n",
       "        text-align: right;\n",
       "    }\n",
       "</style>\n",
       "<table border=\"1\" class=\"dataframe\">\n",
       "  <thead>\n",
       "    <tr style=\"text-align: right;\">\n",
       "      <th></th>\n",
       "      <th>PATIENT_ID</th>\n",
       "      <th>SAMPLE_ID</th>\n",
       "      <th>SAMPLE_COLLECTION_SOURCE</th>\n",
       "      <th>SPECIMEN_PRESERVATION_TYPE</th>\n",
       "      <th>SPECIMEN_TYPE</th>\n",
       "      <th>DNA_INPUT</th>\n",
       "      <th>SAMPLE_COVERAGE</th>\n",
       "      <th>TUMOR_PURITY</th>\n",
       "      <th>MATCHED_STATUS</th>\n",
       "      <th>SAMPLE_TYPE</th>\n",
       "      <th>PRIMARY_SITE</th>\n",
       "      <th>METASTATIC_SITE</th>\n",
       "      <th>SAMPLE_CLASS</th>\n",
       "      <th>ONCOTREE_CODE</th>\n",
       "      <th>CANCER_TYPE</th>\n",
       "      <th>CANCER_TYPE_DETAILED</th>\n",
       "      <th>SOMATIC_STATUS</th>\n",
       "      <th>TMB_NONSYNONYMOUS</th>\n",
       "    </tr>\n",
       "  </thead>\n",
       "  <tbody>\n",
       "    <tr>\n",
       "      <th>0</th>\n",
       "      <td>P-0000004</td>\n",
       "      <td>P-0000004-T01-IM3</td>\n",
       "      <td>Outside</td>\n",
       "      <td>FFPE</td>\n",
       "      <td>Biopsy</td>\n",
       "      <td>250.0</td>\n",
       "      <td>428</td>\n",
       "      <td>50.0</td>\n",
       "      <td>Matched</td>\n",
       "      <td>Primary</td>\n",
       "      <td>Breast</td>\n",
       "      <td>Not Applicable</td>\n",
       "      <td>Tumor</td>\n",
       "      <td>IDC</td>\n",
       "      <td>Breast Cancer</td>\n",
       "      <td>Breast Invasive Ductal Carcinoma</td>\n",
       "      <td>Matched</td>\n",
       "      <td>17.746485</td>\n",
       "    </tr>\n",
       "    <tr>\n",
       "      <th>1</th>\n",
       "      <td>P-0000015</td>\n",
       "      <td>P-0000015-T01-IM3</td>\n",
       "      <td>In-House</td>\n",
       "      <td>FFPE</td>\n",
       "      <td>Biopsy</td>\n",
       "      <td>198.0</td>\n",
       "      <td>281</td>\n",
       "      <td>40.0</td>\n",
       "      <td>Matched</td>\n",
       "      <td>Metastasis</td>\n",
       "      <td>Breast</td>\n",
       "      <td>Liver</td>\n",
       "      <td>Tumor</td>\n",
       "      <td>IDC</td>\n",
       "      <td>Breast Cancer</td>\n",
       "      <td>Breast Invasive Ductal Carcinoma</td>\n",
       "      <td>Matched</td>\n",
       "      <td>7.764087</td>\n",
       "    </tr>\n",
       "    <tr>\n",
       "      <th>2</th>\n",
       "      <td>P-0000023</td>\n",
       "      <td>P-0000023-T01-IM3</td>\n",
       "      <td>In-House</td>\n",
       "      <td>FFPE</td>\n",
       "      <td>Biopsy</td>\n",
       "      <td>250.0</td>\n",
       "      <td>454</td>\n",
       "      <td>30.0</td>\n",
       "      <td>Matched</td>\n",
       "      <td>Primary</td>\n",
       "      <td>Peritoneum</td>\n",
       "      <td>Not Applicable</td>\n",
       "      <td>Tumor</td>\n",
       "      <td>PEMESO</td>\n",
       "      <td>Mesothelioma</td>\n",
       "      <td>Peritoneal Mesothelioma</td>\n",
       "      <td>Matched</td>\n",
       "      <td>5.545777</td>\n",
       "    </tr>\n",
       "  </tbody>\n",
       "</table>\n",
       "</div>"
      ],
      "text/plain": [
       "  PATIENT_ID          SAMPLE_ID SAMPLE_COLLECTION_SOURCE  \\\n",
       "0  P-0000004  P-0000004-T01-IM3                  Outside   \n",
       "1  P-0000015  P-0000015-T01-IM3                 In-House   \n",
       "2  P-0000023  P-0000023-T01-IM3                 In-House   \n",
       "\n",
       "  SPECIMEN_PRESERVATION_TYPE SPECIMEN_TYPE  DNA_INPUT  SAMPLE_COVERAGE  \\\n",
       "0                       FFPE        Biopsy      250.0              428   \n",
       "1                       FFPE        Biopsy      198.0              281   \n",
       "2                       FFPE        Biopsy      250.0              454   \n",
       "\n",
       "   TUMOR_PURITY MATCHED_STATUS SAMPLE_TYPE PRIMARY_SITE METASTATIC_SITE  \\\n",
       "0          50.0        Matched     Primary       Breast  Not Applicable   \n",
       "1          40.0        Matched  Metastasis       Breast           Liver   \n",
       "2          30.0        Matched     Primary   Peritoneum  Not Applicable   \n",
       "\n",
       "  SAMPLE_CLASS ONCOTREE_CODE    CANCER_TYPE              CANCER_TYPE_DETAILED  \\\n",
       "0        Tumor           IDC  Breast Cancer  Breast Invasive Ductal Carcinoma   \n",
       "1        Tumor           IDC  Breast Cancer  Breast Invasive Ductal Carcinoma   \n",
       "2        Tumor        PEMESO   Mesothelioma           Peritoneal Mesothelioma   \n",
       "\n",
       "  SOMATIC_STATUS  TMB_NONSYNONYMOUS  \n",
       "0        Matched          17.746485  \n",
       "1        Matched           7.764087  \n",
       "2        Matched           5.545777  "
      ]
     },
     "execution_count": 9,
     "metadata": {},
     "output_type": "execute_result"
    }
   ],
   "source": [
    "data_clinical_sample.head(3)"
   ]
  },
  {
   "cell_type": "code",
   "execution_count": 10,
   "id": "43694e96",
   "metadata": {},
   "outputs": [
    {
     "data": {
      "text/plain": [
       "Index(['PATIENT_ID', 'SAMPLE_ID', 'SAMPLE_COLLECTION_SOURCE',\n",
       "       'SPECIMEN_PRESERVATION_TYPE', 'SPECIMEN_TYPE', 'DNA_INPUT',\n",
       "       'SAMPLE_COVERAGE', 'TUMOR_PURITY', 'MATCHED_STATUS', 'SAMPLE_TYPE',\n",
       "       'PRIMARY_SITE', 'METASTATIC_SITE', 'SAMPLE_CLASS', 'ONCOTREE_CODE',\n",
       "       'CANCER_TYPE', 'CANCER_TYPE_DETAILED', 'SOMATIC_STATUS',\n",
       "       'TMB_NONSYNONYMOUS'],\n",
       "      dtype='object')"
      ]
     },
     "execution_count": 10,
     "metadata": {},
     "output_type": "execute_result"
    }
   ],
   "source": [
    "data_clinical_sample.columns"
   ]
  },
  {
   "cell_type": "code",
   "execution_count": 11,
   "id": "b613996a",
   "metadata": {},
   "outputs": [],
   "source": [
    "data_cna = pd.read_csv('./Data/CBioportal/msk_impact_2017/data_cna.txt',\\\n",
    "                             sep='\\t',\\\n",
    "                             low_memory=False)"
   ]
  },
  {
   "cell_type": "code",
   "execution_count": 12,
   "id": "36fc3523",
   "metadata": {},
   "outputs": [
    {
     "data": {
      "text/html": [
       "<div>\n",
       "<style scoped>\n",
       "    .dataframe tbody tr th:only-of-type {\n",
       "        vertical-align: middle;\n",
       "    }\n",
       "\n",
       "    .dataframe tbody tr th {\n",
       "        vertical-align: top;\n",
       "    }\n",
       "\n",
       "    .dataframe thead th {\n",
       "        text-align: right;\n",
       "    }\n",
       "</style>\n",
       "<table border=\"1\" class=\"dataframe\">\n",
       "  <thead>\n",
       "    <tr style=\"text-align: right;\">\n",
       "      <th></th>\n",
       "      <th>Hugo_Symbol</th>\n",
       "      <th>P-0000004-T01-IM3</th>\n",
       "      <th>P-0000015-T01-IM3</th>\n",
       "      <th>P-0000023-T01-IM3</th>\n",
       "      <th>P-0000024-T01-IM3</th>\n",
       "      <th>P-0000025-T02-IM5</th>\n",
       "      <th>P-0000025-T01-IM3</th>\n",
       "      <th>P-0000026-T01-IM3</th>\n",
       "      <th>P-0000027-T01-IM3</th>\n",
       "      <th>P-0000030-T01-IM3</th>\n",
       "      <th>...</th>\n",
       "      <th>P-0012404-T01-IM5</th>\n",
       "      <th>P-0012405-T01-IM5</th>\n",
       "      <th>P-0012406-T01-IM5</th>\n",
       "      <th>P-0012423-T01-IM5</th>\n",
       "      <th>P-0012434-T01-IM5</th>\n",
       "      <th>P-0012442-T01-IM5</th>\n",
       "      <th>P-0012500-T01-IM5</th>\n",
       "      <th>P-0012524-T01-IM5</th>\n",
       "      <th>P-0012557-T01-IM5</th>\n",
       "      <th>P-0012622-T01-IM5</th>\n",
       "    </tr>\n",
       "  </thead>\n",
       "  <tbody>\n",
       "    <tr>\n",
       "      <th>0</th>\n",
       "      <td>ABL1</td>\n",
       "      <td>0</td>\n",
       "      <td>0</td>\n",
       "      <td>0</td>\n",
       "      <td>0</td>\n",
       "      <td>0</td>\n",
       "      <td>0</td>\n",
       "      <td>0</td>\n",
       "      <td>0</td>\n",
       "      <td>0</td>\n",
       "      <td>...</td>\n",
       "      <td>0</td>\n",
       "      <td>0</td>\n",
       "      <td>0</td>\n",
       "      <td>0</td>\n",
       "      <td>0</td>\n",
       "      <td>0</td>\n",
       "      <td>0</td>\n",
       "      <td>0</td>\n",
       "      <td>0</td>\n",
       "      <td>0</td>\n",
       "    </tr>\n",
       "    <tr>\n",
       "      <th>1</th>\n",
       "      <td>ACVR1</td>\n",
       "      <td>0</td>\n",
       "      <td>0</td>\n",
       "      <td>0</td>\n",
       "      <td>0</td>\n",
       "      <td>0</td>\n",
       "      <td>0</td>\n",
       "      <td>0</td>\n",
       "      <td>0</td>\n",
       "      <td>0</td>\n",
       "      <td>...</td>\n",
       "      <td>0</td>\n",
       "      <td>0</td>\n",
       "      <td>0</td>\n",
       "      <td>0</td>\n",
       "      <td>0</td>\n",
       "      <td>0</td>\n",
       "      <td>0</td>\n",
       "      <td>0</td>\n",
       "      <td>0</td>\n",
       "      <td>0</td>\n",
       "    </tr>\n",
       "    <tr>\n",
       "      <th>2</th>\n",
       "      <td>AKT1</td>\n",
       "      <td>0</td>\n",
       "      <td>0</td>\n",
       "      <td>0</td>\n",
       "      <td>0</td>\n",
       "      <td>0</td>\n",
       "      <td>0</td>\n",
       "      <td>0</td>\n",
       "      <td>0</td>\n",
       "      <td>0</td>\n",
       "      <td>...</td>\n",
       "      <td>0</td>\n",
       "      <td>0</td>\n",
       "      <td>0</td>\n",
       "      <td>0</td>\n",
       "      <td>0</td>\n",
       "      <td>0</td>\n",
       "      <td>0</td>\n",
       "      <td>0</td>\n",
       "      <td>0</td>\n",
       "      <td>0</td>\n",
       "    </tr>\n",
       "  </tbody>\n",
       "</table>\n",
       "<p>3 rows × 10946 columns</p>\n",
       "</div>"
      ],
      "text/plain": [
       "  Hugo_Symbol  P-0000004-T01-IM3  P-0000015-T01-IM3  P-0000023-T01-IM3  \\\n",
       "0        ABL1                  0                  0                  0   \n",
       "1       ACVR1                  0                  0                  0   \n",
       "2        AKT1                  0                  0                  0   \n",
       "\n",
       "   P-0000024-T01-IM3  P-0000025-T02-IM5  P-0000025-T01-IM3  P-0000026-T01-IM3  \\\n",
       "0                  0                  0                  0                  0   \n",
       "1                  0                  0                  0                  0   \n",
       "2                  0                  0                  0                  0   \n",
       "\n",
       "   P-0000027-T01-IM3  P-0000030-T01-IM3  ...  P-0012404-T01-IM5  \\\n",
       "0                  0                  0  ...                  0   \n",
       "1                  0                  0  ...                  0   \n",
       "2                  0                  0  ...                  0   \n",
       "\n",
       "   P-0012405-T01-IM5  P-0012406-T01-IM5  P-0012423-T01-IM5  P-0012434-T01-IM5  \\\n",
       "0                  0                  0                  0                  0   \n",
       "1                  0                  0                  0                  0   \n",
       "2                  0                  0                  0                  0   \n",
       "\n",
       "   P-0012442-T01-IM5  P-0012500-T01-IM5  P-0012524-T01-IM5  P-0012557-T01-IM5  \\\n",
       "0                  0                  0                  0                  0   \n",
       "1                  0                  0                  0                  0   \n",
       "2                  0                  0                  0                  0   \n",
       "\n",
       "   P-0012622-T01-IM5  \n",
       "0                  0  \n",
       "1                  0  \n",
       "2                  0  \n",
       "\n",
       "[3 rows x 10946 columns]"
      ]
     },
     "execution_count": 12,
     "metadata": {},
     "output_type": "execute_result"
    }
   ],
   "source": [
    "data_cna.head(3)"
   ]
  },
  {
   "cell_type": "code",
   "execution_count": 13,
   "id": "a9fef636",
   "metadata": {},
   "outputs": [
    {
     "data": {
      "text/plain": [
       "Index(['Hugo_Symbol', 'P-0000004-T01-IM3', 'P-0000015-T01-IM3',\n",
       "       'P-0000023-T01-IM3', 'P-0000024-T01-IM3', 'P-0000025-T02-IM5',\n",
       "       'P-0000025-T01-IM3', 'P-0000026-T01-IM3', 'P-0000027-T01-IM3',\n",
       "       'P-0000030-T01-IM3',\n",
       "       ...\n",
       "       'P-0012404-T01-IM5', 'P-0012405-T01-IM5', 'P-0012406-T01-IM5',\n",
       "       'P-0012423-T01-IM5', 'P-0012434-T01-IM5', 'P-0012442-T01-IM5',\n",
       "       'P-0012500-T01-IM5', 'P-0012524-T01-IM5', 'P-0012557-T01-IM5',\n",
       "       'P-0012622-T01-IM5'],\n",
       "      dtype='object', length=10946)"
      ]
     },
     "execution_count": 13,
     "metadata": {},
     "output_type": "execute_result"
    }
   ],
   "source": [
    "data_cna.columns"
   ]
  },
  {
   "cell_type": "code",
   "execution_count": 14,
   "id": "41b87b4b",
   "metadata": {},
   "outputs": [],
   "source": [
    "data_cna_hg19 = pd.read_csv('./Data/CBioportal/msk_impact_2017/data_cna_hg19.seg',\\\n",
    "                             sep='\\t',\\\n",
    "                             low_memory=False)"
   ]
  },
  {
   "cell_type": "code",
   "execution_count": 15,
   "id": "aabfae66",
   "metadata": {},
   "outputs": [
    {
     "data": {
      "text/html": [
       "<div>\n",
       "<style scoped>\n",
       "    .dataframe tbody tr th:only-of-type {\n",
       "        vertical-align: middle;\n",
       "    }\n",
       "\n",
       "    .dataframe tbody tr th {\n",
       "        vertical-align: top;\n",
       "    }\n",
       "\n",
       "    .dataframe thead th {\n",
       "        text-align: right;\n",
       "    }\n",
       "</style>\n",
       "<table border=\"1\" class=\"dataframe\">\n",
       "  <thead>\n",
       "    <tr style=\"text-align: right;\">\n",
       "      <th></th>\n",
       "      <th>ID</th>\n",
       "      <th>chrom</th>\n",
       "      <th>loc.start</th>\n",
       "      <th>loc.end</th>\n",
       "      <th>num.mark</th>\n",
       "      <th>seg.mean</th>\n",
       "    </tr>\n",
       "  </thead>\n",
       "  <tbody>\n",
       "    <tr>\n",
       "      <th>0</th>\n",
       "      <td>P-0001658-T01-IM3</td>\n",
       "      <td>1</td>\n",
       "      <td>2488138</td>\n",
       "      <td>117753462</td>\n",
       "      <td>302</td>\n",
       "      <td>-0.1531</td>\n",
       "    </tr>\n",
       "    <tr>\n",
       "      <th>1</th>\n",
       "      <td>P-0001658-T01-IM3</td>\n",
       "      <td>1</td>\n",
       "      <td>118145461</td>\n",
       "      <td>243708856</td>\n",
       "      <td>235</td>\n",
       "      <td>0.1233</td>\n",
       "    </tr>\n",
       "    <tr>\n",
       "      <th>2</th>\n",
       "      <td>P-0001658-T01-IM3</td>\n",
       "      <td>1</td>\n",
       "      <td>243716138</td>\n",
       "      <td>245977996</td>\n",
       "      <td>11</td>\n",
       "      <td>-0.2639</td>\n",
       "    </tr>\n",
       "  </tbody>\n",
       "</table>\n",
       "</div>"
      ],
      "text/plain": [
       "                  ID chrom  loc.start    loc.end  num.mark  seg.mean\n",
       "0  P-0001658-T01-IM3     1    2488138  117753462       302   -0.1531\n",
       "1  P-0001658-T01-IM3     1  118145461  243708856       235    0.1233\n",
       "2  P-0001658-T01-IM3     1  243716138  245977996        11   -0.2639"
      ]
     },
     "execution_count": 15,
     "metadata": {},
     "output_type": "execute_result"
    }
   ],
   "source": [
    "data_cna_hg19.head(3)"
   ]
  },
  {
   "cell_type": "code",
   "execution_count": 16,
   "id": "a6a6a535",
   "metadata": {},
   "outputs": [
    {
     "data": {
      "text/plain": [
       "Index(['ID', 'chrom', 'loc.start', 'loc.end', 'num.mark', 'seg.mean'], dtype='object')"
      ]
     },
     "execution_count": 16,
     "metadata": {},
     "output_type": "execute_result"
    }
   ],
   "source": [
    "data_cna_hg19.columns"
   ]
  },
  {
   "cell_type": "code",
   "execution_count": 17,
   "id": "388cd17b",
   "metadata": {},
   "outputs": [],
   "source": [
    "data_gene_panel_matrix = pd.read_csv('./Data/CBioportal/msk_impact_2017/data_gene_panel_matrix.txt',\\\n",
    "                             sep='\\t',\\\n",
    "                             low_memory=False)"
   ]
  },
  {
   "cell_type": "code",
   "execution_count": 18,
   "id": "b01f9c58",
   "metadata": {},
   "outputs": [
    {
     "data": {
      "text/html": [
       "<div>\n",
       "<style scoped>\n",
       "    .dataframe tbody tr th:only-of-type {\n",
       "        vertical-align: middle;\n",
       "    }\n",
       "\n",
       "    .dataframe tbody tr th {\n",
       "        vertical-align: top;\n",
       "    }\n",
       "\n",
       "    .dataframe thead th {\n",
       "        text-align: right;\n",
       "    }\n",
       "</style>\n",
       "<table border=\"1\" class=\"dataframe\">\n",
       "  <thead>\n",
       "    <tr style=\"text-align: right;\">\n",
       "      <th></th>\n",
       "      <th>SAMPLE_ID</th>\n",
       "      <th>mutations</th>\n",
       "      <th>cna</th>\n",
       "      <th>structural_variants</th>\n",
       "    </tr>\n",
       "  </thead>\n",
       "  <tbody>\n",
       "    <tr>\n",
       "      <th>0</th>\n",
       "      <td>P-0000004-T01-IM3</td>\n",
       "      <td>IMPACT341</td>\n",
       "      <td>IMPACT341</td>\n",
       "      <td>IMPACT341</td>\n",
       "    </tr>\n",
       "    <tr>\n",
       "      <th>1</th>\n",
       "      <td>P-0000015-T01-IM3</td>\n",
       "      <td>IMPACT341</td>\n",
       "      <td>IMPACT341</td>\n",
       "      <td>IMPACT341</td>\n",
       "    </tr>\n",
       "    <tr>\n",
       "      <th>2</th>\n",
       "      <td>P-0000023-T01-IM3</td>\n",
       "      <td>IMPACT341</td>\n",
       "      <td>IMPACT341</td>\n",
       "      <td>IMPACT341</td>\n",
       "    </tr>\n",
       "  </tbody>\n",
       "</table>\n",
       "</div>"
      ],
      "text/plain": [
       "           SAMPLE_ID  mutations        cna structural_variants\n",
       "0  P-0000004-T01-IM3  IMPACT341  IMPACT341           IMPACT341\n",
       "1  P-0000015-T01-IM3  IMPACT341  IMPACT341           IMPACT341\n",
       "2  P-0000023-T01-IM3  IMPACT341  IMPACT341           IMPACT341"
      ]
     },
     "execution_count": 18,
     "metadata": {},
     "output_type": "execute_result"
    }
   ],
   "source": [
    "data_gene_panel_matrix.head(3)"
   ]
  },
  {
   "cell_type": "code",
   "execution_count": 19,
   "id": "5d247e2a",
   "metadata": {},
   "outputs": [
    {
     "data": {
      "text/plain": [
       "Index(['SAMPLE_ID', 'mutations', 'cna', 'structural_variants'], dtype='object')"
      ]
     },
     "execution_count": 19,
     "metadata": {},
     "output_type": "execute_result"
    }
   ],
   "source": [
    "data_gene_panel_matrix.columns"
   ]
  },
  {
   "cell_type": "code",
   "execution_count": 20,
   "id": "20ae0316",
   "metadata": {},
   "outputs": [],
   "source": [
    "data_mutations = pd.read_csv('./Data/CBioportal/msk_impact_2017/data_mutations.txt',\\\n",
    "                             sep='\\t',\\\n",
    "                             skiprows=1,\\\n",
    "                             low_memory=False)"
   ]
  },
  {
   "cell_type": "code",
   "execution_count": 21,
   "id": "5817d034",
   "metadata": {},
   "outputs": [
    {
     "data": {
      "text/html": [
       "<div>\n",
       "<style scoped>\n",
       "    .dataframe tbody tr th:only-of-type {\n",
       "        vertical-align: middle;\n",
       "    }\n",
       "\n",
       "    .dataframe tbody tr th {\n",
       "        vertical-align: top;\n",
       "    }\n",
       "\n",
       "    .dataframe thead th {\n",
       "        text-align: right;\n",
       "    }\n",
       "</style>\n",
       "<table border=\"1\" class=\"dataframe\">\n",
       "  <thead>\n",
       "    <tr style=\"text-align: right;\">\n",
       "      <th></th>\n",
       "      <th>Hugo_Symbol</th>\n",
       "      <th>Entrez_Gene_Id</th>\n",
       "      <th>Center</th>\n",
       "      <th>NCBI_Build</th>\n",
       "      <th>Chromosome</th>\n",
       "      <th>Start_Position</th>\n",
       "      <th>End_Position</th>\n",
       "      <th>Strand</th>\n",
       "      <th>Consequence</th>\n",
       "      <th>Variant_Classification</th>\n",
       "      <th>...</th>\n",
       "      <th>n_alt_count</th>\n",
       "      <th>HGVSc</th>\n",
       "      <th>HGVSp</th>\n",
       "      <th>HGVSp_Short</th>\n",
       "      <th>Transcript_ID</th>\n",
       "      <th>RefSeq</th>\n",
       "      <th>Protein_position</th>\n",
       "      <th>Codons</th>\n",
       "      <th>Hotspot</th>\n",
       "      <th>cDNA_change</th>\n",
       "    </tr>\n",
       "  </thead>\n",
       "  <tbody>\n",
       "    <tr>\n",
       "      <th>0</th>\n",
       "      <td>SPEN</td>\n",
       "      <td>NaN</td>\n",
       "      <td>NaN</td>\n",
       "      <td>GRCh37</td>\n",
       "      <td>1</td>\n",
       "      <td>16265908</td>\n",
       "      <td>16265908</td>\n",
       "      <td>+</td>\n",
       "      <td>missense_variant</td>\n",
       "      <td>Missense_Mutation</td>\n",
       "      <td>...</td>\n",
       "      <td>NaN</td>\n",
       "      <td>ENST00000375759.3:c.10981A&gt;T</td>\n",
       "      <td>p.Ile3661Phe</td>\n",
       "      <td>p.I3661F</td>\n",
       "      <td>ENST00000375759</td>\n",
       "      <td>NM_015001.2</td>\n",
       "      <td>3661.0</td>\n",
       "      <td>Att/Ttt</td>\n",
       "      <td>0</td>\n",
       "      <td>c.10981A&gt;T</td>\n",
       "    </tr>\n",
       "    <tr>\n",
       "      <th>1</th>\n",
       "      <td>ALK</td>\n",
       "      <td>NaN</td>\n",
       "      <td>NaN</td>\n",
       "      <td>GRCh37</td>\n",
       "      <td>2</td>\n",
       "      <td>29543736</td>\n",
       "      <td>29543736</td>\n",
       "      <td>+</td>\n",
       "      <td>missense_variant</td>\n",
       "      <td>Missense_Mutation</td>\n",
       "      <td>...</td>\n",
       "      <td>NaN</td>\n",
       "      <td>ENST00000389048.3:c.1427T&gt;C</td>\n",
       "      <td>p.Val476Ala</td>\n",
       "      <td>p.V476A</td>\n",
       "      <td>ENST00000389048</td>\n",
       "      <td>NM_004304.4</td>\n",
       "      <td>476.0</td>\n",
       "      <td>gTg/gCg</td>\n",
       "      <td>0</td>\n",
       "      <td>c.1427T&gt;C</td>\n",
       "    </tr>\n",
       "    <tr>\n",
       "      <th>2</th>\n",
       "      <td>PDCD1</td>\n",
       "      <td>NaN</td>\n",
       "      <td>NaN</td>\n",
       "      <td>GRCh37</td>\n",
       "      <td>2</td>\n",
       "      <td>242793433</td>\n",
       "      <td>242793433</td>\n",
       "      <td>+</td>\n",
       "      <td>missense_variant</td>\n",
       "      <td>Missense_Mutation</td>\n",
       "      <td>...</td>\n",
       "      <td>NaN</td>\n",
       "      <td>ENST00000334409.5:c.644C&gt;T</td>\n",
       "      <td>p.Ala215Val</td>\n",
       "      <td>p.A215V</td>\n",
       "      <td>ENST00000334409</td>\n",
       "      <td>NM_005018.2</td>\n",
       "      <td>215.0</td>\n",
       "      <td>gCc/gTc</td>\n",
       "      <td>0</td>\n",
       "      <td>c.644C&gt;T</td>\n",
       "    </tr>\n",
       "  </tbody>\n",
       "</table>\n",
       "<p>3 rows × 46 columns</p>\n",
       "</div>"
      ],
      "text/plain": [
       "  Hugo_Symbol  Entrez_Gene_Id  Center NCBI_Build Chromosome  Start_Position  \\\n",
       "0        SPEN             NaN     NaN     GRCh37          1        16265908   \n",
       "1         ALK             NaN     NaN     GRCh37          2        29543736   \n",
       "2       PDCD1             NaN     NaN     GRCh37          2       242793433   \n",
       "\n",
       "   End_Position Strand       Consequence Variant_Classification  ...  \\\n",
       "0      16265908      +  missense_variant      Missense_Mutation  ...   \n",
       "1      29543736      +  missense_variant      Missense_Mutation  ...   \n",
       "2     242793433      +  missense_variant      Missense_Mutation  ...   \n",
       "\n",
       "  n_alt_count                         HGVSc         HGVSp HGVSp_Short  \\\n",
       "0         NaN  ENST00000375759.3:c.10981A>T  p.Ile3661Phe    p.I3661F   \n",
       "1         NaN   ENST00000389048.3:c.1427T>C   p.Val476Ala     p.V476A   \n",
       "2         NaN    ENST00000334409.5:c.644C>T   p.Ala215Val     p.A215V   \n",
       "\n",
       "     Transcript_ID       RefSeq Protein_position   Codons  Hotspot  \\\n",
       "0  ENST00000375759  NM_015001.2           3661.0  Att/Ttt        0   \n",
       "1  ENST00000389048  NM_004304.4            476.0  gTg/gCg        0   \n",
       "2  ENST00000334409  NM_005018.2            215.0  gCc/gTc        0   \n",
       "\n",
       "   cDNA_change  \n",
       "0   c.10981A>T  \n",
       "1    c.1427T>C  \n",
       "2     c.644C>T  \n",
       "\n",
       "[3 rows x 46 columns]"
      ]
     },
     "execution_count": 21,
     "metadata": {},
     "output_type": "execute_result"
    }
   ],
   "source": [
    "data_mutations.head(3)"
   ]
  },
  {
   "cell_type": "code",
   "execution_count": 22,
   "id": "0757a251",
   "metadata": {},
   "outputs": [],
   "source": [
    "data_sv = pd.read_csv('./Data/CBioportal/msk_impact_2017/data_sv.txt',\\\n",
    "                             sep='\\t',\\\n",
    "                             low_memory=False)"
   ]
  },
  {
   "cell_type": "code",
   "execution_count": 23,
   "id": "bd24edff",
   "metadata": {},
   "outputs": [
    {
     "data": {
      "text/html": [
       "<div>\n",
       "<style scoped>\n",
       "    .dataframe tbody tr th:only-of-type {\n",
       "        vertical-align: middle;\n",
       "    }\n",
       "\n",
       "    .dataframe tbody tr th {\n",
       "        vertical-align: top;\n",
       "    }\n",
       "\n",
       "    .dataframe thead th {\n",
       "        text-align: right;\n",
       "    }\n",
       "</style>\n",
       "<table border=\"1\" class=\"dataframe\">\n",
       "  <thead>\n",
       "    <tr style=\"text-align: right;\">\n",
       "      <th></th>\n",
       "      <th>Sample_Id</th>\n",
       "      <th>SV_Status</th>\n",
       "      <th>Site1_Chromosome</th>\n",
       "      <th>Site1_Description</th>\n",
       "      <th>Site1_Region</th>\n",
       "      <th>Site1_Region_Number</th>\n",
       "      <th>Site1_Hugo_Symbol</th>\n",
       "      <th>Site1_Ensembl_Transcript_Id</th>\n",
       "      <th>Site1_Position</th>\n",
       "      <th>Site2_Chromosome</th>\n",
       "      <th>...</th>\n",
       "      <th>Tumor_Variant_Count</th>\n",
       "      <th>Annotation</th>\n",
       "      <th>Breakpoint_Type</th>\n",
       "      <th>Comments</th>\n",
       "      <th>Normal_Read_Count</th>\n",
       "      <th>Normal_Variant_Count</th>\n",
       "      <th>Normal_Paired_End_Read_Count</th>\n",
       "      <th>Normal_Split_Read_Count</th>\n",
       "      <th>SV_Length</th>\n",
       "      <th>SV_VariantId</th>\n",
       "    </tr>\n",
       "  </thead>\n",
       "  <tbody>\n",
       "    <tr>\n",
       "      <th>0</th>\n",
       "      <td>P-0000047-T01-IM3</td>\n",
       "      <td>SOMATIC</td>\n",
       "      <td>6</td>\n",
       "      <td>Exon 26 of ROS1(-)</td>\n",
       "      <td>Exon</td>\n",
       "      <td>NaN</td>\n",
       "      <td>ROS1</td>\n",
       "      <td>NaN</td>\n",
       "      <td>117674261.0</td>\n",
       "      <td>6</td>\n",
       "      <td>...</td>\n",
       "      <td>52.0</td>\n",
       "      <td>NaN</td>\n",
       "      <td>35332045-N_bc40</td>\n",
       "      <td>NaN</td>\n",
       "      <td>185633.0</td>\n",
       "      <td>0.0</td>\n",
       "      <td>19.0</td>\n",
       "      <td>68.0</td>\n",
       "      <td>41381597.0</td>\n",
       "      <td>94059.0</td>\n",
       "    </tr>\n",
       "    <tr>\n",
       "      <th>1</th>\n",
       "      <td>P-0000058-T01-IM3</td>\n",
       "      <td>SOMATIC</td>\n",
       "      <td>2</td>\n",
       "      <td>Intron of ALK(-): 452bp before exon 20</td>\n",
       "      <td>Intron</td>\n",
       "      <td>NaN</td>\n",
       "      <td>ALK</td>\n",
       "      <td>NaN</td>\n",
       "      <td>29446846.0</td>\n",
       "      <td>2</td>\n",
       "      <td>...</td>\n",
       "      <td>3.0</td>\n",
       "      <td>NaN</td>\n",
       "      <td>35399162-N_bc20</td>\n",
       "      <td>NaN</td>\n",
       "      <td>461680.0</td>\n",
       "      <td>0.0</td>\n",
       "      <td>6.0</td>\n",
       "      <td>47.0</td>\n",
       "      <td>84914142.0</td>\n",
       "      <td>94065.0</td>\n",
       "    </tr>\n",
       "    <tr>\n",
       "      <th>2</th>\n",
       "      <td>P-0000187-T01-IM3</td>\n",
       "      <td>SOMATIC</td>\n",
       "      <td>13</td>\n",
       "      <td>Exon 3 of RB1(+)</td>\n",
       "      <td>Exon</td>\n",
       "      <td>NaN</td>\n",
       "      <td>RB1</td>\n",
       "      <td>NaN</td>\n",
       "      <td>48916784.0</td>\n",
       "      <td>1</td>\n",
       "      <td>...</td>\n",
       "      <td>47.0</td>\n",
       "      <td>NaN</td>\n",
       "      <td>PRECISE</td>\n",
       "      <td>NaN</td>\n",
       "      <td>0.0</td>\n",
       "      <td>0.0</td>\n",
       "      <td>52.0</td>\n",
       "      <td>62.0</td>\n",
       "      <td>0.0</td>\n",
       "      <td>94338.0</td>\n",
       "    </tr>\n",
       "  </tbody>\n",
       "</table>\n",
       "<p>3 rows × 33 columns</p>\n",
       "</div>"
      ],
      "text/plain": [
       "           Sample_Id SV_Status Site1_Chromosome  \\\n",
       "0  P-0000047-T01-IM3   SOMATIC                6   \n",
       "1  P-0000058-T01-IM3   SOMATIC                2   \n",
       "2  P-0000187-T01-IM3   SOMATIC               13   \n",
       "\n",
       "                        Site1_Description Site1_Region  Site1_Region_Number  \\\n",
       "0                      Exon 26 of ROS1(-)         Exon                  NaN   \n",
       "1  Intron of ALK(-): 452bp before exon 20       Intron                  NaN   \n",
       "2                        Exon 3 of RB1(+)         Exon                  NaN   \n",
       "\n",
       "  Site1_Hugo_Symbol Site1_Ensembl_Transcript_Id  Site1_Position  \\\n",
       "0              ROS1                         NaN     117674261.0   \n",
       "1               ALK                         NaN      29446846.0   \n",
       "2               RB1                         NaN      48916784.0   \n",
       "\n",
       "  Site2_Chromosome  ... Tumor_Variant_Count Annotation  Breakpoint_Type  \\\n",
       "0                6  ...                52.0        NaN  35332045-N_bc40   \n",
       "1                2  ...                 3.0        NaN  35399162-N_bc20   \n",
       "2                1  ...                47.0        NaN          PRECISE   \n",
       "\n",
       "  Comments Normal_Read_Count  Normal_Variant_Count  \\\n",
       "0      NaN          185633.0                   0.0   \n",
       "1      NaN          461680.0                   0.0   \n",
       "2      NaN               0.0                   0.0   \n",
       "\n",
       "  Normal_Paired_End_Read_Count Normal_Split_Read_Count   SV_Length  \\\n",
       "0                         19.0                    68.0  41381597.0   \n",
       "1                          6.0                    47.0  84914142.0   \n",
       "2                         52.0                    62.0         0.0   \n",
       "\n",
       "  SV_VariantId  \n",
       "0      94059.0  \n",
       "1      94065.0  \n",
       "2      94338.0  \n",
       "\n",
       "[3 rows x 33 columns]"
      ]
     },
     "execution_count": 23,
     "metadata": {},
     "output_type": "execute_result"
    }
   ],
   "source": [
    "data_sv.head(3)"
   ]
  },
  {
   "cell_type": "code",
   "execution_count": 24,
   "id": "65c10edf",
   "metadata": {},
   "outputs": [
    {
     "data": {
      "text/plain": [
       "Index(['Sample_Id', 'SV_Status', 'Site1_Chromosome', 'Site1_Description',\n",
       "       'Site1_Region', 'Site1_Region_Number', 'Site1_Hugo_Symbol',\n",
       "       'Site1_Ensembl_Transcript_Id', 'Site1_Position', 'Site2_Chromosome',\n",
       "       'Site2_Description', 'Site2_Region', 'Site2_Region_Number',\n",
       "       'Site2_Hugo_Symbol', 'Site2_Ensembl_Transcript_Id', 'Site2_Position',\n",
       "       'Site2_Effect_on_Frame', 'Class', 'NCBI_Build', 'Connection_Type',\n",
       "       'Event_Info', 'DNA_Support', 'Tumor_Read_Count', 'Tumor_Variant_Count',\n",
       "       'Annotation', 'Breakpoint_Type', 'Comments', 'Normal_Read_Count',\n",
       "       'Normal_Variant_Count', 'Normal_Paired_End_Read_Count',\n",
       "       'Normal_Split_Read_Count', 'SV_Length', 'SV_VariantId'],\n",
       "      dtype='object')"
      ]
     },
     "execution_count": 24,
     "metadata": {},
     "output_type": "execute_result"
    }
   ],
   "source": [
    "data_sv.columns"
   ]
  },
  {
   "cell_type": "code",
   "execution_count": 25,
   "id": "aa91b42d",
   "metadata": {},
   "outputs": [],
   "source": [
    "supplimentary_info = pd.read_csv('./Data/Supplimentary_info.csv',\\\n",
    "                             skiprows = 0,\\\n",
    "                             low_memory=False)"
   ]
  },
  {
   "cell_type": "code",
   "execution_count": 26,
   "id": "228ae9a6",
   "metadata": {},
   "outputs": [],
   "source": [
    "supplimentary_info = supplimentary_info.rename(columns={'Assay_ID': 'SAMPLE_ID'})"
   ]
  },
  {
   "cell_type": "code",
   "execution_count": 27,
   "id": "cb830ca0",
   "metadata": {},
   "outputs": [
    {
     "data": {
      "text/html": [
       "<div>\n",
       "<style scoped>\n",
       "    .dataframe tbody tr th:only-of-type {\n",
       "        vertical-align: middle;\n",
       "    }\n",
       "\n",
       "    .dataframe tbody tr th {\n",
       "        vertical-align: top;\n",
       "    }\n",
       "\n",
       "    .dataframe thead th {\n",
       "        text-align: right;\n",
       "    }\n",
       "</style>\n",
       "<table border=\"1\" class=\"dataframe\">\n",
       "  <thead>\n",
       "    <tr style=\"text-align: right;\">\n",
       "      <th></th>\n",
       "      <th>Patient_ID</th>\n",
       "      <th>Sample_ID</th>\n",
       "      <th>SAMPLE_ID</th>\n",
       "      <th>Status</th>\n",
       "      <th>SampleType</th>\n",
       "      <th>AssayPerformance</th>\n",
       "      <th>SpecimenType</th>\n",
       "      <th>DNAInput_ng</th>\n",
       "      <th>Coverage</th>\n",
       "      <th>TumorPurity</th>\n",
       "      <th>...</th>\n",
       "      <th>Gender</th>\n",
       "      <th>ExonicMutationCount</th>\n",
       "      <th>SNVCount</th>\n",
       "      <th>INDELCount</th>\n",
       "      <th>SCNACount</th>\n",
       "      <th>SVCount</th>\n",
       "      <th>SilentMutationCount</th>\n",
       "      <th>VitalStatus</th>\n",
       "      <th>SmokingStatus</th>\n",
       "      <th>TissueAge_yrs</th>\n",
       "    </tr>\n",
       "  </thead>\n",
       "  <tbody>\n",
       "    <tr>\n",
       "      <th>0</th>\n",
       "      <td>P-0000004</td>\n",
       "      <td>P-0000004-T01</td>\n",
       "      <td>P-0000004-T01-IM3</td>\n",
       "      <td>Outside</td>\n",
       "      <td>FFPE</td>\n",
       "      <td>Success</td>\n",
       "      <td>Biopsy</td>\n",
       "      <td>250.0</td>\n",
       "      <td>428</td>\n",
       "      <td>50.0</td>\n",
       "      <td>...</td>\n",
       "      <td>Female</td>\n",
       "      <td>16</td>\n",
       "      <td>15</td>\n",
       "      <td>1</td>\n",
       "      <td>3</td>\n",
       "      <td>0</td>\n",
       "      <td>17</td>\n",
       "      <td>ALIVE</td>\n",
       "      <td>Unknown</td>\n",
       "      <td>na</td>\n",
       "    </tr>\n",
       "    <tr>\n",
       "      <th>1</th>\n",
       "      <td>P-0000015</td>\n",
       "      <td>P-0000015-T01</td>\n",
       "      <td>P-0000015-T01-IM3</td>\n",
       "      <td>In-House</td>\n",
       "      <td>FFPE</td>\n",
       "      <td>Success</td>\n",
       "      <td>Biopsy</td>\n",
       "      <td>198.0</td>\n",
       "      <td>281</td>\n",
       "      <td>40.0</td>\n",
       "      <td>...</td>\n",
       "      <td>Female</td>\n",
       "      <td>7</td>\n",
       "      <td>6</td>\n",
       "      <td>1</td>\n",
       "      <td>11</td>\n",
       "      <td>0</td>\n",
       "      <td>7</td>\n",
       "      <td>DECEASED</td>\n",
       "      <td>Never</td>\n",
       "      <td>na</td>\n",
       "    </tr>\n",
       "  </tbody>\n",
       "</table>\n",
       "<p>2 rows × 27 columns</p>\n",
       "</div>"
      ],
      "text/plain": [
       "  Patient_ID      Sample_ID          SAMPLE_ID    Status SampleType  \\\n",
       "0  P-0000004  P-0000004-T01  P-0000004-T01-IM3   Outside       FFPE   \n",
       "1  P-0000015  P-0000015-T01  P-0000015-T01-IM3  In-House       FFPE   \n",
       "\n",
       "  AssayPerformance SpecimenType  DNAInput_ng  Coverage  TumorPurity  ...  \\\n",
       "0          Success       Biopsy        250.0       428         50.0  ...   \n",
       "1          Success       Biopsy        198.0       281         40.0  ...   \n",
       "\n",
       "   Gender ExonicMutationCount SNVCount INDELCount SCNACount SVCount  \\\n",
       "0  Female                  16       15          1         3       0   \n",
       "1  Female                   7        6          1        11       0   \n",
       "\n",
       "  SilentMutationCount VitalStatus  SmokingStatus  TissueAge_yrs  \n",
       "0                  17       ALIVE        Unknown             na  \n",
       "1                   7    DECEASED          Never             na  \n",
       "\n",
       "[2 rows x 27 columns]"
      ]
     },
     "execution_count": 27,
     "metadata": {},
     "output_type": "execute_result"
    }
   ],
   "source": [
    "supplimentary_info.head(2)"
   ]
  },
  {
   "cell_type": "code",
   "execution_count": 28,
   "id": "47407504",
   "metadata": {},
   "outputs": [],
   "source": [
    "tumor_types = pd.read_csv('./Data/tumor_types.txt',\\\n",
    "                             sep='\\t',\\\n",
    "                             low_memory=False)"
   ]
  },
  {
   "cell_type": "code",
   "execution_count": 29,
   "id": "cd8f9e86",
   "metadata": {},
   "outputs": [
    {
     "data": {
      "text/html": [
       "<div>\n",
       "<style scoped>\n",
       "    .dataframe tbody tr th:only-of-type {\n",
       "        vertical-align: middle;\n",
       "    }\n",
       "\n",
       "    .dataframe tbody tr th {\n",
       "        vertical-align: top;\n",
       "    }\n",
       "\n",
       "    .dataframe thead th {\n",
       "        text-align: right;\n",
       "    }\n",
       "</style>\n",
       "<table border=\"1\" class=\"dataframe\">\n",
       "  <thead>\n",
       "    <tr style=\"text-align: right;\">\n",
       "      <th></th>\n",
       "      <th>CANCER_TYPE</th>\n",
       "      <th>CANCER_TYPE_DETAILED</th>\n",
       "      <th>N</th>\n",
       "      <th>Cancer_Type</th>\n",
       "    </tr>\n",
       "  </thead>\n",
       "  <tbody>\n",
       "    <tr>\n",
       "      <th>0</th>\n",
       "      <td>Adrenocortical Carcinoma</td>\n",
       "      <td>Adrenocortical Adenoma</td>\n",
       "      <td>1</td>\n",
       "      <td>NaN</td>\n",
       "    </tr>\n",
       "    <tr>\n",
       "      <th>1</th>\n",
       "      <td>Adrenocortical Carcinoma</td>\n",
       "      <td>Adrenocortical Carcinoma</td>\n",
       "      <td>25</td>\n",
       "      <td>NaN</td>\n",
       "    </tr>\n",
       "  </tbody>\n",
       "</table>\n",
       "</div>"
      ],
      "text/plain": [
       "                CANCER_TYPE      CANCER_TYPE_DETAILED   N Cancer_Type\n",
       "0  Adrenocortical Carcinoma    Adrenocortical Adenoma   1         NaN\n",
       "1  Adrenocortical Carcinoma  Adrenocortical Carcinoma  25         NaN"
      ]
     },
     "execution_count": 29,
     "metadata": {},
     "output_type": "execute_result"
    }
   ],
   "source": [
    "tumor_types.head(2)"
   ]
  },
  {
   "cell_type": "markdown",
   "id": "c7c16fbb",
   "metadata": {},
   "source": [
    "### Merging Relevant Tables"
   ]
  },
  {
   "cell_type": "code",
   "execution_count": 30,
   "id": "67c29723",
   "metadata": {},
   "outputs": [],
   "source": [
    "data_clinical = pd.merge(data_clinical_sample,\\\n",
    "                         data_clinical_patient,\\\n",
    "                         on='PATIENT_ID')"
   ]
  },
  {
   "cell_type": "code",
   "execution_count": 31,
   "id": "c14ef812",
   "metadata": {},
   "outputs": [],
   "source": [
    "data_clinical = pd.merge(data_clinical,\\\n",
    "                         supplimentary_info,\\\n",
    "                         on='SAMPLE_ID')"
   ]
  },
  {
   "cell_type": "code",
   "execution_count": 32,
   "id": "535199b0",
   "metadata": {},
   "outputs": [],
   "source": [
    "data_table = pd.merge(data_clinical,\\\n",
    "                      tumor_types,\\\n",
    "                      left_on=[\"CANCER_TYPE\"],\\\n",
    "                      right_on = [\"CANCER_TYPE_DETAILED\"])"
   ]
  },
  {
   "cell_type": "code",
   "execution_count": 33,
   "id": "c940ce8a",
   "metadata": {},
   "outputs": [],
   "source": [
    "data_table = pd.merge(data_table,\\\n",
    "                data_mutations,\\\n",
    "                left_on = [\"SAMPLE_ID\"],\\\n",
    "                right_on = [\"Tumor_Sample_Barcode\"])"
   ]
  },
  {
   "cell_type": "code",
   "execution_count": 34,
   "id": "3197cc29",
   "metadata": {},
   "outputs": [
    {
     "data": {
      "text/html": [
       "<div>\n",
       "<style scoped>\n",
       "    .dataframe tbody tr th:only-of-type {\n",
       "        vertical-align: middle;\n",
       "    }\n",
       "\n",
       "    .dataframe tbody tr th {\n",
       "        vertical-align: top;\n",
       "    }\n",
       "\n",
       "    .dataframe thead th {\n",
       "        text-align: right;\n",
       "    }\n",
       "</style>\n",
       "<table border=\"1\" class=\"dataframe\">\n",
       "  <thead>\n",
       "    <tr style=\"text-align: right;\">\n",
       "      <th></th>\n",
       "      <th>PATIENT_ID</th>\n",
       "      <th>SAMPLE_ID</th>\n",
       "      <th>SAMPLE_COLLECTION_SOURCE</th>\n",
       "      <th>SPECIMEN_PRESERVATION_TYPE</th>\n",
       "      <th>SPECIMEN_TYPE</th>\n",
       "      <th>DNA_INPUT</th>\n",
       "      <th>SAMPLE_COVERAGE</th>\n",
       "      <th>TUMOR_PURITY</th>\n",
       "      <th>MATCHED_STATUS</th>\n",
       "      <th>SAMPLE_TYPE</th>\n",
       "      <th>...</th>\n",
       "      <th>n_alt_count</th>\n",
       "      <th>HGVSc</th>\n",
       "      <th>HGVSp</th>\n",
       "      <th>HGVSp_Short</th>\n",
       "      <th>Transcript_ID</th>\n",
       "      <th>RefSeq</th>\n",
       "      <th>Protein_position</th>\n",
       "      <th>Codons</th>\n",
       "      <th>Hotspot</th>\n",
       "      <th>cDNA_change</th>\n",
       "    </tr>\n",
       "  </thead>\n",
       "  <tbody>\n",
       "    <tr>\n",
       "      <th>0</th>\n",
       "      <td>P-0000030</td>\n",
       "      <td>P-0000030-T01-IM3</td>\n",
       "      <td>Outside</td>\n",
       "      <td>FFPE</td>\n",
       "      <td>Biopsy</td>\n",
       "      <td>250.0</td>\n",
       "      <td>757</td>\n",
       "      <td>40.0</td>\n",
       "      <td>Unmatched</td>\n",
       "      <td>Metastasis</td>\n",
       "      <td>...</td>\n",
       "      <td>NaN</td>\n",
       "      <td>ENST00000371953.3:c.517C&gt;T</td>\n",
       "      <td>p.Arg173Cys</td>\n",
       "      <td>p.R173C</td>\n",
       "      <td>ENST00000371953</td>\n",
       "      <td>NM_000314.4</td>\n",
       "      <td>173.0</td>\n",
       "      <td>Cgc/Tgc</td>\n",
       "      <td>0</td>\n",
       "      <td>c.517C&gt;T</td>\n",
       "    </tr>\n",
       "    <tr>\n",
       "      <th>1</th>\n",
       "      <td>P-0000030</td>\n",
       "      <td>P-0000030-T01-IM3</td>\n",
       "      <td>Outside</td>\n",
       "      <td>FFPE</td>\n",
       "      <td>Biopsy</td>\n",
       "      <td>250.0</td>\n",
       "      <td>757</td>\n",
       "      <td>40.0</td>\n",
       "      <td>Unmatched</td>\n",
       "      <td>Metastasis</td>\n",
       "      <td>...</td>\n",
       "      <td>NaN</td>\n",
       "      <td>ENST00000269305.4:c.626_627delGA</td>\n",
       "      <td>p.Arg209LysfsTer6</td>\n",
       "      <td>p.R209Kfs*6</td>\n",
       "      <td>ENST00000269305</td>\n",
       "      <td>NM_001126112.2</td>\n",
       "      <td>209.0</td>\n",
       "      <td>aGA/a</td>\n",
       "      <td>0</td>\n",
       "      <td>c.626_627delGA</td>\n",
       "    </tr>\n",
       "  </tbody>\n",
       "</table>\n",
       "<p>2 rows × 99 columns</p>\n",
       "</div>"
      ],
      "text/plain": [
       "  PATIENT_ID          SAMPLE_ID SAMPLE_COLLECTION_SOURCE  \\\n",
       "0  P-0000030  P-0000030-T01-IM3                  Outside   \n",
       "1  P-0000030  P-0000030-T01-IM3                  Outside   \n",
       "\n",
       "  SPECIMEN_PRESERVATION_TYPE SPECIMEN_TYPE  DNA_INPUT  SAMPLE_COVERAGE  \\\n",
       "0                       FFPE        Biopsy      250.0              757   \n",
       "1                       FFPE        Biopsy      250.0              757   \n",
       "\n",
       "   TUMOR_PURITY MATCHED_STATUS SAMPLE_TYPE  ... n_alt_count  \\\n",
       "0          40.0      Unmatched  Metastasis  ...         NaN   \n",
       "1          40.0      Unmatched  Metastasis  ...         NaN   \n",
       "\n",
       "                              HGVSc              HGVSp  HGVSp_Short  \\\n",
       "0        ENST00000371953.3:c.517C>T        p.Arg173Cys      p.R173C   \n",
       "1  ENST00000269305.4:c.626_627delGA  p.Arg209LysfsTer6  p.R209Kfs*6   \n",
       "\n",
       "     Transcript_ID          RefSeq Protein_position   Codons Hotspot  \\\n",
       "0  ENST00000371953     NM_000314.4            173.0  Cgc/Tgc       0   \n",
       "1  ENST00000269305  NM_001126112.2            209.0    aGA/a       0   \n",
       "\n",
       "      cDNA_change  \n",
       "0        c.517C>T  \n",
       "1  c.626_627delGA  \n",
       "\n",
       "[2 rows x 99 columns]"
      ]
     },
     "execution_count": 34,
     "metadata": {},
     "output_type": "execute_result"
    }
   ],
   "source": [
    "data_table.head(2)"
   ]
  },
  {
   "cell_type": "markdown",
   "id": "62a8e34d",
   "metadata": {},
   "source": [
    "### Drop duplicate columns after merging"
   ]
  },
  {
   "cell_type": "code",
   "execution_count": 46,
   "id": "86ee2ad6",
   "metadata": {},
   "outputs": [],
   "source": [
    "columns_to_drop = ['AssayPerformance',\\\n",
    "                   'Cancer_Type',\\\n",
    "                   'Coverage',\\\n",
    "                   'DNA_INPUT',\\\n",
    "                   'Gender',\\\n",
    "                   'MATCHED_STATUS',\\\n",
    "                   'MatchStatus',\\\n",
    "                   'METASTATIC_SITE',\\\n",
    "                   'OS_MONTHS',\\\n",
    "                   'OS_STATUS',\\\n",
    "                   'Patient_ID',\\\n",
    "                   'PATIENT_ID',\\\n",
    "                   'PRIMARY_SITE',\\\n",
    "                   'SAMPLE_CLASS',\\\n",
    "                   'SAMPLE_COLLECTION_SOURCE',\\\n",
    "                   'Sample_ID',\\\n",
    "                   'SampleType.1',\\\n",
    "                   'SmokingStatus',\\\n",
    "                   'SPECIMEN_PRESERVATION_TYPE',\\\n",
    "                   'SpecimenType',\\\n",
    "                   'Status',\\\n",
    "                   'TumorPurity',\\\n",
    "                   'VITAL_STATUS',\\\n",
    "                   'VitalStatus']"
   ]
  },
  {
   "cell_type": "code",
   "execution_count": 47,
   "id": "65127968",
   "metadata": {},
   "outputs": [],
   "source": [
    "data_table = data_table.drop(columns_to_drop,axis=1)"
   ]
  },
  {
   "cell_type": "code",
   "execution_count": null,
   "id": "407fc522",
   "metadata": {},
   "outputs": [],
   "source": [
    "data_table.head(2)"
   ]
  },
  {
   "cell_type": "code",
   "execution_count": null,
   "id": "5304eab0",
   "metadata": {},
   "outputs": [],
   "source": [
    "data_table.columns"
   ]
  },
  {
   "cell_type": "markdown",
   "id": "601a8769",
   "metadata": {},
   "source": [
    "### Export the Dataset of Modeling"
   ]
  },
  {
   "cell_type": "code",
   "execution_count": 39,
   "id": "a5aee0a3",
   "metadata": {},
   "outputs": [],
   "source": [
    "data_table.to_csv('./processed_data/processed_data.csv', index=False)"
   ]
  },
  {
   "cell_type": "markdown",
   "id": "eb82a48f",
   "metadata": {},
   "source": [
    "### Exploratory Data Analysis Plots\n",
    "target variable is 'SAMPLE_TYPE'"
   ]
  },
  {
   "cell_type": "markdown",
   "id": "d626c384",
   "metadata": {},
   "source": [
    "### Check for missing values"
   ]
  },
  {
   "cell_type": "code",
   "execution_count": null,
   "id": "a46a3c45",
   "metadata": {},
   "outputs": [],
   "source": [
    "fig, ax = plt.subplots( figsize = (15, 8))\n",
    "sns.heatmap(data_table.isnull())\n",
    "ax.set_title('Raw Dataframe')\n",
    "plt.show()"
   ]
  },
  {
   "cell_type": "code",
   "execution_count": null,
   "id": "bf369a12",
   "metadata": {},
   "outputs": [],
   "source": [
    "# Reference: Code from my self case study 1\n",
    "total =  data_table.isnull().sum().sort_values(ascending = False)\n",
    "percent = (data_table.isnull().sum() /  data_table.isnull().count()).sort_values(ascending=False)\n",
    "missing_data = pd.concat([total, percent], axis = 1, keys = ['Count_NaN', 'Percentage_Nan'])\n",
    "missing_data.head(14)"
   ]
  },
  {
   "cell_type": "markdown",
   "id": "2910102e",
   "metadata": {},
   "source": [
    "### Drop columns having more than 5% of missing values"
   ]
  },
  {
   "cell_type": "markdown",
   "id": "c3a0ce97",
   "metadata": {},
   "source": [
    "Overall Survival Months feature and Cancer type feature has missing values of 25% and 15%. Hence these features can be removed"
   ]
  },
  {
   "cell_type": "code",
   "execution_count": null,
   "id": "65a095d6",
   "metadata": {},
   "outputs": [],
   "source": [
    "data_table = data_table.drop(['OS_MONTHS',\\\n",
    "                 'Cancer_Type'],axis=1)"
   ]
  },
  {
   "cell_type": "code",
   "execution_count": null,
   "id": "dbbd2968",
   "metadata": {},
   "outputs": [],
   "source": [
    "# Drop target variable if needed for correlation analysis\n",
    "master_data = data_table.drop(['SAMPLE_TYPE'],axis=1)"
   ]
  },
  {
   "cell_type": "markdown",
   "id": "e24a176d",
   "metadata": {},
   "source": [
    "### Feature Correlation Analysis"
   ]
  },
  {
   "cell_type": "code",
   "execution_count": null,
   "id": "44b639c5",
   "metadata": {},
   "outputs": [],
   "source": [
    "# Find correaltion between features\n",
    "corrMat = master_data.corr().values\n",
    "plt.hist(corrMat.flatten(),20)\n",
    "plt.xlabel('Pearson correlation coefficient')\n",
    "plt.ylabel('Count')"
   ]
  },
  {
   "cell_type": "code",
   "execution_count": null,
   "id": "d5da72dd",
   "metadata": {},
   "outputs": [],
   "source": [
    "fig, axs = plt.subplots(figsize = (15, 10)) \n",
    "sns.heatmap(master_data.corr())\n",
    "plt.title('Correlation between all Features')\n",
    "plt.show()"
   ]
  },
  {
   "cell_type": "markdown",
   "id": "1c2e66c7",
   "metadata": {},
   "source": [
    "It can be seen that certain features are highly correlated (positive/negative with each other)"
   ]
  },
  {
   "cell_type": "markdown",
   "id": "769dfd88",
   "metadata": {},
   "source": [
    "### Baseline Performance"
   ]
  },
  {
   "cell_type": "markdown",
   "id": "caee6f39",
   "metadata": {},
   "source": [
    "A baseline accuracy of 57.94% is expected"
   ]
  },
  {
   "cell_type": "code",
   "execution_count": null,
   "id": "241c094f",
   "metadata": {},
   "outputs": [],
   "source": [
    "data_table['SAMPLE_TYPE'].value_counts()"
   ]
  },
  {
   "cell_type": "code",
   "execution_count": null,
   "id": "dc4a12f8",
   "metadata": {},
   "outputs": [],
   "source": [
    "data_table['SAMPLE_TYPE'].value_counts(normalize=True)"
   ]
  },
  {
   "cell_type": "markdown",
   "id": "7c10b3ff",
   "metadata": {},
   "source": [
    "### Density Plots of Numerical Features w.r.t. Target Variable"
   ]
  },
  {
   "cell_type": "code",
   "execution_count": null,
   "id": "59010ac2",
   "metadata": {},
   "outputs": [],
   "source": [
    "# Reference: Code from my self casestudy 1\n",
    "def mydistplot1(variable, data):\n",
    "    labelsize = 12\n",
    "    plt.rc('font', family='serif')\n",
    "    plt.rc('xtick', labelsize=labelsize)\n",
    "    plt.rc('ytick', labelsize=labelsize)\n",
    "    plt.rc('axes', labelsize=labelsize)\n",
    "    fig, axs = plt.subplots(figsize=(4, 3), dpi=110)\n",
    "    ax1 = axs.twinx()\n",
    "    plt.subplots_adjust(hspace=.3)\n",
    "    class_1 = data[data['SAMPLE_TYPE'] == \"Primary\"][variable]\n",
    "    class_2 = data[data['SAMPLE_TYPE'] == \"Metastasis\"][variable]\n",
    "    class_1.plot.kde(ax=ax1,c='b',label='Primary')\n",
    "    class_2.plot.kde(ax=ax1,c='r',label='Metastasis')\n",
    "#     class_1.plot.hist(ax=axs,bins=12, alpha=0.5,label='Primary')\n",
    "#     class_2.plot.hist(ax=axs,bins=12, alpha=0.5,label='Metastasis')\n",
    "    axs.set_xlabel(variable)\n",
    "    axs.set_ylabel('Density')\n",
    "    ax1.legend()"
   ]
  },
  {
   "cell_type": "code",
   "execution_count": null,
   "id": "fe8a53d7",
   "metadata": {},
   "outputs": [],
   "source": [
    "numericalFeats = master_data.select_dtypes('number').columns\n",
    "categoricalFeats = master_data.select_dtypes('object').columns"
   ]
  },
  {
   "cell_type": "code",
   "execution_count": null,
   "id": "245161bb",
   "metadata": {},
   "outputs": [],
   "source": [
    "for variable in tqdm(numericalFeats):\n",
    "    mydistplot1(variable,data_table)"
   ]
  },
  {
   "cell_type": "markdown",
   "id": "15e3c220",
   "metadata": {},
   "source": [
    "### Statistical Test on Numerical Features"
   ]
  },
  {
   "cell_type": "code",
   "execution_count": null,
   "id": "1fefdee1",
   "metadata": {},
   "outputs": [],
   "source": [
    "# Reference: Code from my self casestudy 1\n",
    "statDF = pd.DataFrame()\n",
    "\n",
    "for feature in numericalFeats:\n",
    "    group1 = data_table[data_table['SAMPLE_TYPE'] == \"Primary\"]\n",
    "    group2 = data_table[data_table['SAMPLE_TYPE'] == \"Metastasis\"]\n",
    "    tstats, p_value = stats.ttest_ind(group1[feature], group2[feature])    \n",
    "    statDF = pd.concat([statDF, pd.DataFrame.from_records([{'Feature': feature,\\\n",
    "                                                   't-statistics':tstats,\\\n",
    "                                                   'P_value': p_value}])])"
   ]
  },
  {
   "cell_type": "code",
   "execution_count": null,
   "id": "6cebfafd",
   "metadata": {},
   "outputs": [],
   "source": [
    "statDF"
   ]
  },
  {
   "cell_type": "code",
   "execution_count": null,
   "id": "cd8de7f1",
   "metadata": {},
   "outputs": [],
   "source": [
    "statDF['Significant'] = statDF['P_value']<0.001\n",
    "statDF.sort_values('P_value')"
   ]
  },
  {
   "cell_type": "markdown",
   "id": "b8720b60",
   "metadata": {},
   "source": [
    "Three statistically significant features SCNACount, DNAInput_ng, SAMPLE_COVERAGE with an alpha level of 0.001 were foundout"
   ]
  },
  {
   "cell_type": "code",
   "execution_count": null,
   "id": "bb815eee",
   "metadata": {},
   "outputs": [],
   "source": [
    "significantFeats = statDF[statDF['Significant']==True]['Feature'].tolist()"
   ]
  },
  {
   "cell_type": "code",
   "execution_count": null,
   "id": "73515547",
   "metadata": {},
   "outputs": [],
   "source": [
    "significantFeats"
   ]
  },
  {
   "cell_type": "markdown",
   "id": "80d1df93",
   "metadata": {},
   "source": [
    "### Violin Plots of Significant Features"
   ]
  },
  {
   "cell_type": "code",
   "execution_count": null,
   "id": "3d35895b",
   "metadata": {},
   "outputs": [],
   "source": [
    "# Reference: Code from my self casestudy 1\n",
    "def myviolinplot(feature, data):\n",
    "    sns.violinplot(y=feature,\\\n",
    "                   x=\"SAMPLE_TYPE\",\\\n",
    "                   data=data,\\\n",
    "                   palette=\"muted\",\\\n",
    "                   split=True)\n",
    "    plt.show()"
   ]
  },
  {
   "cell_type": "code",
   "execution_count": null,
   "id": "3ca6472d",
   "metadata": {},
   "outputs": [],
   "source": [
    "for variable in tqdm(significantFeats):\n",
    "    myviolinplot(variable,data_table)"
   ]
  },
  {
   "cell_type": "markdown",
   "id": "16ec41ba",
   "metadata": {},
   "source": [
    "### TSNE Visualization"
   ]
  },
  {
   "cell_type": "markdown",
   "id": "9471b573",
   "metadata": {},
   "source": [
    "#### Convert Binry Target Variable to Numeric"
   ]
  },
  {
   "cell_type": "code",
   "execution_count": null,
   "id": "4af8fe0c",
   "metadata": {},
   "outputs": [],
   "source": [
    "data_table['SAMPLE_TYPE'].replace(['Primary', 'Metastasis'],\n",
    "                        [0, 1], inplace=True)"
   ]
  },
  {
   "cell_type": "markdown",
   "id": "7940cc51",
   "metadata": {},
   "source": [
    "### Separate Numerical Data"
   ]
  },
  {
   "cell_type": "code",
   "execution_count": null,
   "id": "26b69360",
   "metadata": {},
   "outputs": [],
   "source": [
    "numericalFeats = data_table.select_dtypes('number').columns\n",
    "categoricalFeats = data_table.select_dtypes('object').columns\n",
    "\n",
    "numdata = data_table[numericalFeats]\n",
    "numdata = numdata.fillna(numdata.mean())"
   ]
  },
  {
   "cell_type": "code",
   "execution_count": null,
   "id": "e69d9ff0",
   "metadata": {},
   "outputs": [],
   "source": [
    "tsne = TSNE(n_components=2, perplexity=20.0, n_iter=2000,verbose=1)\n",
    "z = tsne.fit_transform(numdata) "
   ]
  },
  {
   "cell_type": "code",
   "execution_count": null,
   "id": "0904f9e1",
   "metadata": {},
   "outputs": [],
   "source": [
    "df = pd.DataFrame()\n",
    "df[\"y\"] = numdata['SAMPLE_TYPE']\n",
    "df[\"comp-1\"] = z[:,0]\n",
    "df[\"comp-2\"] = z[:,1]\n",
    " \n",
    "sns.scatterplot(x=\"comp-1\", y=\"comp-2\", hue=df.y.tolist(),\n",
    "                palette=sns.color_palette(\"hls\", 2),\n",
    "                data=df).set(title=\"MSK IMPACT data T-SNE projection\")"
   ]
  },
  {
   "cell_type": "markdown",
   "id": "7b88f2f4",
   "metadata": {},
   "source": [
    "### Outlier Detection"
   ]
  },
  {
   "cell_type": "code",
   "execution_count": null,
   "id": "908bc9c7",
   "metadata": {},
   "outputs": [],
   "source": [
    "# Compute Z-Scores\n",
    "num_zscores = numdata.apply(zscore)\n",
    " \n",
    "# Find all cells where zscore>3 or zscore<-3\n",
    "num_zscores_binary = num_zscores.abs()>3\n",
    " \n",
    "fig, axs = plt.subplots(figsize = (15, 10)) \n",
    "sns.heatmap(num_zscores_binary)\n",
    "plt.title('Outlier data points across patients |z-score|>3')\n",
    "plt.show()"
   ]
  },
  {
   "cell_type": "markdown",
   "id": "eb81382a",
   "metadata": {},
   "source": [
    "### EDA of MSK Impact Clinical Data"
   ]
  },
  {
   "cell_type": "code",
   "execution_count": null,
   "id": "dafd4787",
   "metadata": {},
   "outputs": [],
   "source": [
    "figure(figsize=(6, 10), dpi=200)\n",
    "cancer_types_count = msk_impact_clinical_data['Cancer Type'].value_counts()\n",
    "cancer_types_count.sort_values().plot(kind = 'barh')\n",
    "plt.xlabel('Count')\n",
    "plt.ylabel('Type of cancer')"
   ]
  },
  {
   "cell_type": "code",
   "execution_count": null,
   "id": "9fc5cc50",
   "metadata": {},
   "outputs": [],
   "source": [
    "print('Number of Types of Cancers present in data: ', len(cancer_types_count.keys()))"
   ]
  },
  {
   "cell_type": "code",
   "execution_count": null,
   "id": "c68f966c",
   "metadata": {},
   "outputs": [],
   "source": [
    "patient_ids = msk_impact_clinical_data['Patient ID'].tolist()\n",
    "patient_id_unique = list(set(patient_ids))\n",
    "print('Number of Patient IDs: ', len(patient_ids))\n",
    "print('Number of Unique Patient IDs: ', len(patient_id_unique))\n",
    "print('Number of redundand Patient IDs:', len(patient_ids)-len(patient_id_unique))"
   ]
  },
  {
   "cell_type": "code",
   "execution_count": null,
   "id": "61459523",
   "metadata": {},
   "outputs": [],
   "source": [
    "sample_ids = msk_impact_clinical_data['Sample ID'].tolist()\n",
    "sample_id_unique = list(set(sample_ids))\n",
    "print('Number of Sample IDs: ', len(sample_ids))\n",
    "print('Number of Unique Sample IDs: ', len(sample_id_unique))\n",
    "print('Number of redundand Sample IDs:', len(sample_ids)-len(sample_id_unique))"
   ]
  },
  {
   "cell_type": "code",
   "execution_count": null,
   "id": "5a899a80",
   "metadata": {},
   "outputs": [],
   "source": [
    "fig, ax = plt.subplots(figsize=(4, 3), dpi=150)\n",
    "ax1 = ax.twinx()\n",
    "frac_genome_altered = msk_impact_clinical_data['Fraction Genome Altered']\n",
    "frac_genome_altered.plot.hist(ax=ax,bins=12, alpha=0.5)\n",
    "frac_genome_altered.plot.kde(ax=ax1,c='k')\n",
    "ax.set_xlabel('Fraction of Genome altered')"
   ]
  },
  {
   "cell_type": "code",
   "execution_count": null,
   "id": "5aab7d85",
   "metadata": {
    "scrolled": true
   },
   "outputs": [],
   "source": [
    "fig, ax = plt.subplots(figsize=(4, 3), dpi=120)\n",
    "matched_status = msk_impact_clinical_data['Matched Status'].value_counts()\n",
    "matched_status.sort_values().plot(kind = 'barh')\n",
    "ax.set_xlabel('Count')\n",
    "ax.set_ylabel('Sample matching status')\n",
    "for container in ax.containers:\n",
    "    ax.bar_label(container)"
   ]
  },
  {
   "cell_type": "code",
   "execution_count": null,
   "id": "c50e9c20",
   "metadata": {},
   "outputs": [],
   "source": [
    "matched_percentage = matched_status*100/sum(matched_status)\n",
    "fig, ax = plt.subplots(figsize=(4, 3), dpi=120)\n",
    "matched_percentage.sort_values().plot(kind = 'barh')\n",
    "ax.set_xlabel('Percentage')\n",
    "ax.set_ylabel('Sample matching status')\n",
    "for container in ax.containers:\n",
    "    ax.bar_label(container)"
   ]
  },
  {
   "cell_type": "code",
   "execution_count": null,
   "id": "ef833dfa",
   "metadata": {},
   "outputs": [],
   "source": [
    "fig, ax = plt.subplots(figsize=(4, 3), dpi=120)\n",
    "metastatic_site_count = msk_impact_clinical_data['Metastatic Site'].value_counts()\n",
    "ax.set_title('Top 10 Metastatic sites')\n",
    "metastatic_site_count[:10].sort_values().plot(kind = 'barh')\n",
    "ax.set_xlabel('Count')\n",
    "for container in ax.containers:\n",
    "    ax.bar_label(container)"
   ]
  },
  {
   "cell_type": "code",
   "execution_count": null,
   "id": "8912bc29",
   "metadata": {},
   "outputs": [],
   "source": [
    "fig, ax = plt.subplots(figsize=(4, 3), dpi=120)\n",
    "mutation_count = msk_impact_clinical_data['Mutation Count']\n",
    "plt.hist(mutation_count, bins=20, alpha=0.5)\n",
    "ax.set_title('Mutation count histogram')\n",
    "plt.xlabel('Number of mutations')\n",
    "plt.ylabel('Count')\n",
    "print('Mean of mutation count: ',np.mean(mutation_count))\n",
    "print('Std. dev of mutation count: ',np.std(mutation_count))"
   ]
  },
  {
   "cell_type": "code",
   "execution_count": null,
   "id": "136ff6a8",
   "metadata": {},
   "outputs": [],
   "source": [
    "fig, ax = plt.subplots(figsize=(4, 3), dpi=150)\n",
    "ax1 = ax.twinx()\n",
    "dna_input = msk_impact_clinical_data['DNA Input']\n",
    "dna_input.plot.hist(ax=ax,bins=12, alpha=0.5)\n",
    "dna_input.plot.kde(ax=ax1,c='k')\n",
    "ax.set_xlabel('DNA Input')"
   ]
  },
  {
   "cell_type": "markdown",
   "id": "b875dd5c",
   "metadata": {},
   "source": [
    "#### Overall survival in months"
   ]
  },
  {
   "cell_type": "code",
   "execution_count": null,
   "id": "364281d7",
   "metadata": {},
   "outputs": [],
   "source": [
    "fig, ax = plt.subplots(figsize=(4, 3), dpi=150)\n",
    "ax1 = ax.twinx()\n",
    "survival_months = msk_impact_clinical_data['Overall Survival (Months)']\n",
    "survival_months.plot.hist(ax=ax,bins=12, alpha=0.5)\n",
    "survival_months.plot.kde(ax=ax1,c='k')\n",
    "ax.set_xlabel('Overall Survival (Months)')"
   ]
  },
  {
   "cell_type": "code",
   "execution_count": null,
   "id": "9506d1e7",
   "metadata": {},
   "outputs": [],
   "source": [
    "print('Mean value of overall survival in months: ', np.mean(survival_months))\n",
    "print('Std. dev of overall survival in months: ', np.std(survival_months))"
   ]
  },
  {
   "cell_type": "markdown",
   "id": "84594482",
   "metadata": {},
   "source": [
    "#### Survival status of patients"
   ]
  },
  {
   "cell_type": "code",
   "execution_count": null,
   "id": "7d9b0f21",
   "metadata": {},
   "outputs": [],
   "source": [
    "fig, ax = plt.subplots(figsize=(4, 3), dpi=120)\n",
    "survival_status = msk_impact_clinical_data['Overall Survival Status'].value_counts()\n",
    "survival_status.sort_values().plot(kind = 'barh')\n",
    "ax.set_title('Overall survival status')\n",
    "ax.set_xlabel('Count')\n",
    "for container in ax.containers:\n",
    "    ax.bar_label(container)\n",
    "    \n",
    "survival_status_percentage = survival_status*100/sum(survival_status)\n",
    "survival_status_percentage.sort_values().plot(kind = 'barh')\n",
    "ax.set_xlabel('Count')\n",
    "for container in ax.containers:\n",
    "    ax.bar_label(container)"
   ]
  },
  {
   "cell_type": "markdown",
   "id": "e447e475",
   "metadata": {},
   "source": [
    "1. It can be seen that 71.55% of patients are alive and 28.45% patients are deceased"
   ]
  },
  {
   "cell_type": "code",
   "execution_count": null,
   "id": "4559f860",
   "metadata": {},
   "outputs": [],
   "source": [
    "fig, ax = plt.subplots(figsize=(4, 3), dpi=120)\n",
    "primary_tumor_site_count = msk_impact_clinical_data['Primary Tumor Site'].value_counts()\n",
    "ax.set_title('Primary Tumor Site')\n",
    "primary_tumor_site_count[:10].sort_values().plot(kind = 'barh')\n",
    "ax.set_xlabel('Count')\n",
    "for container in ax.containers:\n",
    "    ax.bar_label(container)"
   ]
  },
  {
   "cell_type": "code",
   "execution_count": null,
   "id": "95a41237",
   "metadata": {},
   "outputs": [],
   "source": [
    "fig, ax = plt.subplots(figsize=(4, 3), dpi=120)\n",
    "sample_collection_source = msk_impact_clinical_data['Sample Collection Source'].value_counts()\n",
    "sample_collection_source.sort_values().plot(kind = 'barh')\n",
    "ax.set_title('Sample Collection Source')\n",
    "ax.set_xlabel('Count')\n",
    "for container in ax.containers:\n",
    "    ax.bar_label(container)\n",
    "    \n",
    "sample_collection_source_percentage = sample_collection_source*100/sum(sample_collection_source)\n",
    "sample_collection_source_percentage.sort_values().plot(kind = 'barh')\n",
    "ax.set_xlabel('Count')\n",
    "for container in ax.containers:\n",
    "    ax.bar_label(container)"
   ]
  },
  {
   "cell_type": "markdown",
   "id": "4d7f519b",
   "metadata": {},
   "source": [
    "It can be noted that 65.04% of samples are collected In-House and 34.96% of samples are collected outside home"
   ]
  },
  {
   "cell_type": "code",
   "execution_count": null,
   "id": "c52f9d46",
   "metadata": {},
   "outputs": [],
   "source": [
    "fig, ax = plt.subplots(figsize=(4, 3), dpi=120)\n",
    "samples_patient = msk_impact_clinical_data['Number of Samples Per Patient'].value_counts()\n",
    "samples_patient.sort_values().plot(kind = 'barh')\n",
    "ax.set_title('Number of samples taken from patients')\n",
    "ax.set_xlabel('Count')\n",
    "for container in ax.containers:\n",
    "    ax.bar_label(container)"
   ]
  },
  {
   "cell_type": "code",
   "execution_count": null,
   "id": "faead46a",
   "metadata": {},
   "outputs": [],
   "source": [
    "fig, ax = plt.subplots(figsize=(4, 3), dpi=120)\n",
    "samples_patient_percentage = samples_patient*100/sum(samples_patient)\n",
    "samples_patient_percentage.sort_values().plot(kind = 'barh')\n",
    "ax.set_title('Number of samples taken from patients')\n",
    "ax.set_xlabel('Percentage')\n",
    "for container in ax.containers:\n",
    "    ax.bar_label(container)"
   ]
  },
  {
   "cell_type": "markdown",
   "id": "3e8a4627",
   "metadata": {},
   "source": [
    "1. Only one sample is collected from majority (89%) of patients"
   ]
  },
  {
   "cell_type": "code",
   "execution_count": null,
   "id": "dd1d3dc3",
   "metadata": {},
   "outputs": [],
   "source": [
    "fig, ax = plt.subplots(figsize=(4, 3), dpi=150)\n",
    "ax1 = ax.twinx()\n",
    "sample_coverage = msk_impact_clinical_data['Sample coverage']\n",
    "sample_coverage.plot.hist(ax=ax,bins=12, alpha=0.5)\n",
    "sample_coverage.plot.kde(ax=ax1,c='k')\n",
    "ax.set_xlabel('Sample coverage')"
   ]
  },
  {
   "cell_type": "code",
   "execution_count": null,
   "id": "49aa28ba",
   "metadata": {},
   "outputs": [],
   "source": [
    "print('Mean value of sample coverage: ', np.mean(sample_coverage))\n",
    "print('Std. dev of sample coverage: ', np.std(sample_coverage))"
   ]
  },
  {
   "cell_type": "code",
   "execution_count": null,
   "id": "d146bded",
   "metadata": {},
   "outputs": [],
   "source": [
    "fig, ax = plt.subplots(figsize=(4, 3), dpi=120)\n",
    "sample_type = msk_impact_clinical_data['Sample Type'].value_counts()\n",
    "sample_type.sort_values().plot(kind = 'barh')\n",
    "ax.set_title('Sample type')\n",
    "ax.set_xlabel('Count/Percentage')\n",
    "for container in ax.containers:\n",
    "    ax.bar_label(container)\n",
    "    \n",
    "sample_type_percentage = sample_type*100/sum(sample_type)\n",
    "sample_type_percentage.sort_values().plot(kind = 'barh')\n",
    "ax.set_xlabel('Count/Percentage')\n",
    "for container in ax.containers:\n",
    "    ax.bar_label(container)"
   ]
  },
  {
   "cell_type": "markdown",
   "id": "b656c3f1",
   "metadata": {},
   "source": [
    "1. It can be seen that 43.23% of samples are that of metastasis stage"
   ]
  },
  {
   "cell_type": "code",
   "execution_count": null,
   "id": "1c6c4d2c",
   "metadata": {},
   "outputs": [],
   "source": [
    "fig, ax = plt.subplots(figsize=(4, 3), dpi=120)\n",
    "sex = msk_impact_clinical_data['Sex'].value_counts()\n",
    "sex.sort_values().plot(kind = 'barh')\n",
    "ax.set_title('Gender of the patient')\n",
    "ax.set_xlabel('Count/Percentage')\n",
    "for container in ax.containers:\n",
    "    ax.bar_label(container)\n",
    "    \n",
    "sex_percentage = sex*100/sum(sex)\n",
    "sex_percentage.sort_values().plot(kind = 'barh')\n",
    "ax.set_xlabel('Count/Percentage')\n",
    "for container in ax.containers:\n",
    "    ax.bar_label(container)"
   ]
  },
  {
   "cell_type": "markdown",
   "id": "c92e69fc",
   "metadata": {},
   "source": [
    "It can be seen that the gender distribution of patients is more or less equal (i.e. 50%-50%)"
   ]
  },
  {
   "cell_type": "code",
   "execution_count": null,
   "id": "99c84676",
   "metadata": {},
   "outputs": [],
   "source": [
    "fig, ax = plt.subplots(figsize=(4, 3), dpi=120)\n",
    "smoking_history = msk_impact_clinical_data['Smoking History'].value_counts()\n",
    "smoking_history.sort_values().plot(kind = 'barh')\n",
    "ax.set_title('Smoking history of patients')\n",
    "ax.set_xlabel('Count/percentage')\n",
    "for container in ax.containers:\n",
    "    ax.bar_label(container)\n",
    "    \n",
    "smoking_history_percentage = smoking_history*100/sum(smoking_history)\n",
    "smoking_history_percentage.sort_values().plot(kind = 'barh')\n",
    "ax.set_xlabel('Count/percentage')\n",
    "for container in ax.containers:\n",
    "    ax.bar_label(container)"
   ]
  },
  {
   "cell_type": "markdown",
   "id": "50ad03be",
   "metadata": {},
   "source": [
    "1. The data shows 39.89% of patients are having the habbit of smoking or used to smoke before"
   ]
  },
  {
   "cell_type": "code",
   "execution_count": null,
   "id": "dfa4d46c",
   "metadata": {},
   "outputs": [],
   "source": [
    "fig, ax = plt.subplots(figsize=(4, 3), dpi=120)\n",
    "somatic_status = msk_impact_clinical_data['Somatic Status'].value_counts()\n",
    "somatic_status.sort_values().plot(kind = 'barh')\n",
    "ax.set_title('Somatic Status')\n",
    "ax.set_xlabel('Count')\n",
    "for container in ax.containers:\n",
    "    ax.bar_label(container)"
   ]
  },
  {
   "cell_type": "code",
   "execution_count": null,
   "id": "474e8bb9",
   "metadata": {},
   "outputs": [],
   "source": [
    "fig, ax = plt.subplots(figsize=(4, 3), dpi=120)\n",
    "somatic_status_percentage = somatic_status*100/sum(somatic_status)\n",
    "somatic_status_percentage.sort_values().plot(kind = 'barh')\n",
    "ax.set_title('Somatic Status')\n",
    "ax.set_xlabel('Percentage')\n",
    "for container in ax.containers:\n",
    "    ax.bar_label(container)"
   ]
  },
  {
   "cell_type": "code",
   "execution_count": null,
   "id": "7b155428",
   "metadata": {},
   "outputs": [],
   "source": [
    "fig, ax = plt.subplots(figsize=(4, 3), dpi=120)\n",
    "specimen_preservation_type = msk_impact_clinical_data['Specimen Preservation Type'].value_counts()\n",
    "specimen_preservation_type.plot(kind = 'barh')\n",
    "ax.set_title('Type of specimen preservation')\n",
    "ax.set_xlabel('Count')\n",
    "for container in ax.containers:\n",
    "    ax.bar_label(container)\n",
    "    \n",
    "fig, ax = plt.subplots(figsize=(4, 3), dpi=120)  \n",
    "specimen_preservation_type_percentage = specimen_preservation_type*100/sum(specimen_preservation_type)\n",
    "specimen_preservation_type_percentage.sort_values().plot(kind = 'barh')\n",
    "ax.set_title('Type of specimen preservation')\n",
    "ax.set_xlabel('Percentage')\n",
    "for container in ax.containers:\n",
    "    ax.bar_label(container)"
   ]
  },
  {
   "cell_type": "markdown",
   "id": "39a973ab",
   "metadata": {},
   "source": [
    "More than 82% of specimens are preserved as FFPE blocks"
   ]
  },
  {
   "cell_type": "code",
   "execution_count": null,
   "id": "35646852",
   "metadata": {
    "scrolled": true
   },
   "outputs": [],
   "source": [
    "fig, ax = plt.subplots(figsize=(4, 3), dpi=120)\n",
    "specimen_type = msk_impact_clinical_data['Specimen Type'].value_counts()\n",
    "specimen_type.sort_values().plot(kind = 'barh')\n",
    "ax.set_title('Specimen Type')\n",
    "ax.set_xlabel('Count')\n",
    "for container in ax.containers:\n",
    "    ax.bar_label(container)\n",
    "\n",
    "fig, ax = plt.subplots(figsize=(4, 3), dpi=120)\n",
    "specimen_type_percentage = specimen_type*100/sum(specimen_type)\n",
    "specimen_type_percentage.sort_values().plot(kind = 'barh')\n",
    "ax.set_title('Specimen Type')\n",
    "ax.set_xlabel('Percentage')\n",
    "for container in ax.containers:\n",
    "    ax.bar_label(container)"
   ]
  },
  {
   "cell_type": "code",
   "execution_count": null,
   "id": "e9e8ab94",
   "metadata": {},
   "outputs": [],
   "source": [
    "fig, ax = plt.subplots(figsize=(4, 3), dpi=150)\n",
    "ax1 = ax.twinx()\n",
    "tmb = msk_impact_clinical_data['TMB (nonsynonymous)']\n",
    "tmb.plot.hist(ax=ax,bins=12, alpha=0.5)\n",
    "tmb.plot.kde(ax=ax1,c='k')\n",
    "ax.set_xlabel('TMB (nonsynonymous)')"
   ]
  },
  {
   "cell_type": "code",
   "execution_count": null,
   "id": "d767b232",
   "metadata": {},
   "outputs": [],
   "source": [
    "print('Mean value of TMB(nonsynonymous): ', np.mean(tmb))\n",
    "print('Std. dev of TMB(nonsynonymous): ', np.std(tmb))"
   ]
  },
  {
   "cell_type": "code",
   "execution_count": null,
   "id": "9da7854c",
   "metadata": {},
   "outputs": [],
   "source": [
    "fig, ax = plt.subplots(figsize=(4, 3), dpi=150)\n",
    "ax1 = ax.twinx()\n",
    "tumor_purity = msk_impact_clinical_data['Tumor Purity']\n",
    "tumor_purity.plot.hist(ax=ax,bins=12, alpha=0.5)\n",
    "tumor_purity.plot.kde(ax=ax1,c='k')\n",
    "ax.set_xlabel('Tumor Purity')"
   ]
  },
  {
   "cell_type": "code",
   "execution_count": null,
   "id": "fd41f5d2",
   "metadata": {},
   "outputs": [],
   "source": [
    "print('Mean value of Tumor Purity: ', np.mean(tumor_purity))\n",
    "print('Std. dev of Tumor Purity: ', np.std(tumor_purity))"
   ]
  },
  {
   "cell_type": "code",
   "execution_count": null,
   "id": "b344b1a7",
   "metadata": {},
   "outputs": [],
   "source": [
    "msk_impact_clinical_data['Patient\\'s Vital Status'].value_counts()"
   ]
  },
  {
   "cell_type": "code",
   "execution_count": null,
   "id": "481d0c98",
   "metadata": {},
   "outputs": [],
   "source": [
    "fig, ax = plt.subplots(figsize=(4, 3), dpi=120)\n",
    "patient_vital_status = msk_impact_clinical_data['Patient\\'s Vital Status'].value_counts()\n",
    "patient_vital_status.sort_values().plot(kind = 'barh')\n",
    "ax.set_title('Patient\\'s Vital Status')\n",
    "ax.set_xlabel('Count/percentage')\n",
    "for container in ax.containers:\n",
    "    ax.bar_label(container)\n",
    "    \n",
    "patient_vital_status_percentage = patient_vital_status*100/sum(patient_vital_status)\n",
    "patient_vital_status_percentage.sort_values().plot(kind = 'barh')\n",
    "ax.set_xlabel('Count/percentage')\n",
    "for container in ax.containers:\n",
    "    ax.bar_label(container)"
   ]
  },
  {
   "cell_type": "markdown",
   "id": "a39dd726",
   "metadata": {},
   "source": [
    "### EDA of data clinical patient"
   ]
  },
  {
   "cell_type": "code",
   "execution_count": null,
   "id": "1aac59ac",
   "metadata": {},
   "outputs": [],
   "source": [
    "data_clinical_patient.columns"
   ]
  },
  {
   "cell_type": "code",
   "execution_count": null,
   "id": "b25df5a2",
   "metadata": {},
   "outputs": [],
   "source": [
    "patient_identifier = data_clinical_patient['PATIENT_ID'].tolist()\n",
    "print('No. of Patient Identifiers: ', len(patient_identifier))\n",
    "print('No. of Unique Patient Identifiers: ', len(set(patient_identifier)))"
   ]
  },
  {
   "cell_type": "markdown",
   "id": "ce826d3b",
   "metadata": {},
   "source": [
    "### EDA of data clinical sample"
   ]
  },
  {
   "cell_type": "code",
   "execution_count": null,
   "id": "47a257f7",
   "metadata": {},
   "outputs": [],
   "source": [
    "data_clinical_sample.head(2)"
   ]
  },
  {
   "cell_type": "code",
   "execution_count": null,
   "id": "0bce877c",
   "metadata": {},
   "outputs": [],
   "source": [
    "data_clinical_sample.columns"
   ]
  },
  {
   "cell_type": "markdown",
   "id": "265afe02",
   "metadata": {},
   "source": [
    "### EDA of data cna hg19"
   ]
  },
  {
   "cell_type": "code",
   "execution_count": null,
   "id": "9d18adc7",
   "metadata": {},
   "outputs": [],
   "source": [
    "data_cna_hg19.head(2)"
   ]
  },
  {
   "cell_type": "code",
   "execution_count": null,
   "id": "69923db7",
   "metadata": {},
   "outputs": [],
   "source": [
    "fig, ax = plt.subplots(figsize=(4, 3), dpi=150)\n",
    "ax1 = ax.twinx()\n",
    "data_cna_num_mark = data_cna_hg19['num.mark']\n",
    "data_cna_num_mark.plot.hist(ax=ax,bins=12, alpha=0.5)\n",
    "data_cna_num_mark.plot.kde(ax=ax1,c='k')\n",
    "ax.set_xlabel('num.mark')"
   ]
  },
  {
   "cell_type": "code",
   "execution_count": null,
   "id": "b50e5180",
   "metadata": {},
   "outputs": [],
   "source": [
    "fig, ax = plt.subplots(figsize=(4, 3), dpi=150)\n",
    "ax1 = ax.twinx()\n",
    "data_cna_seg_mean = data_cna_hg19['seg.mean']\n",
    "data_cna_seg_mean.plot.hist(ax=ax,bins=12, alpha=0.5)\n",
    "data_cna_seg_mean.plot.kde(ax=ax1,c='k')\n",
    "ax.set_xlabel('seg.mean')"
   ]
  },
  {
   "cell_type": "markdown",
   "id": "aa9d8b93",
   "metadata": {},
   "source": [
    "###  EDA of data gene panel matrix"
   ]
  },
  {
   "cell_type": "code",
   "execution_count": null,
   "id": "8ce158f3",
   "metadata": {},
   "outputs": [],
   "source": [
    "data_gene_panel_matrix.columns"
   ]
  },
  {
   "cell_type": "code",
   "execution_count": null,
   "id": "e54250f8",
   "metadata": {},
   "outputs": [],
   "source": [
    "data_gene_panel_matrix.head(2)"
   ]
  },
  {
   "cell_type": "code",
   "execution_count": null,
   "id": "119574bb",
   "metadata": {},
   "outputs": [],
   "source": [
    "fig, ax = plt.subplots(figsize=(4, 3), dpi=120)\n",
    "Mutations = data_gene_panel_matrix['mutations'].value_counts()\n",
    "Mutations.sort_values().plot(kind = 'barh')\n",
    "ax.set_xlabel('Count')\n",
    "for container in ax.containers:\n",
    "    ax.bar_label(container)\n",
    "    \n",
    "Mutations_percentage = Mutations*100/sum(Mutations)\n",
    "Mutations_percentage.sort_values().plot(kind = 'barh')\n",
    "ax.set_xlabel('Count')\n",
    "for container in ax.containers:\n",
    "    ax.bar_label(container)"
   ]
  },
  {
   "cell_type": "markdown",
   "id": "09c9b3d6",
   "metadata": {},
   "source": [
    "It can be noted that all three columns 'mutations', 'cna', and 'structural_variants' have the same value distributions, hence only one plot is shown."
   ]
  },
  {
   "cell_type": "markdown",
   "id": "f1d3afb0",
   "metadata": {},
   "source": [
    "### EDA of data mutations"
   ]
  },
  {
   "cell_type": "code",
   "execution_count": null,
   "id": "43cc8d2d",
   "metadata": {},
   "outputs": [],
   "source": [
    "data_mutations.columns"
   ]
  },
  {
   "cell_type": "code",
   "execution_count": null,
   "id": "b243430a",
   "metadata": {},
   "outputs": [],
   "source": [
    "data_mutations.head(2)"
   ]
  },
  {
   "cell_type": "code",
   "execution_count": null,
   "id": "6ffaea92",
   "metadata": {},
   "outputs": [],
   "source": [
    "fig, ax = plt.subplots(figsize=(4, 3), dpi=120)\n",
    "variant_type = data_mutations['Variant_Type'].value_counts()\n",
    "variant_type.sort_values().plot(kind = 'barh')\n",
    "ax.set_title('Variant type')\n",
    "ax.set_xlabel('Count')\n",
    "for container in ax.containers:\n",
    "    ax.bar_label(container)\n",
    "    \n",
    "fig, ax = plt.subplots(figsize=(4, 3), dpi=120)\n",
    "variant_type_percentage = variant_type*100/sum(variant_type)\n",
    "variant_type_percentage.sort_values().plot(kind = 'barh')\n",
    "ax.set_xlabel('Percentage')\n",
    "for container in ax.containers:\n",
    "    ax.bar_label(container)"
   ]
  },
  {
   "cell_type": "code",
   "execution_count": null,
   "id": "4bffdec0",
   "metadata": {},
   "outputs": [],
   "source": [
    "fig, ax = plt.subplots(figsize=(4, 3), dpi=150)\n",
    "ax1 = ax.twinx()\n",
    "protein_position = data_mutations['Protein_position']\n",
    "protein_position.plot.hist(ax=ax,bins=12, alpha=0.5)\n",
    "protein_position.plot.kde(ax=ax1,c='k')\n",
    "ax.set_xlabel('Protein_position')"
   ]
  },
  {
   "cell_type": "code",
   "execution_count": null,
   "id": "215515a1",
   "metadata": {},
   "outputs": [],
   "source": [
    "print('Mean value of Protein_position: ', np.mean(protein_position))\n",
    "print('Std. dev of Protein_position: ', np.std(protein_position))"
   ]
  },
  {
   "cell_type": "code",
   "execution_count": null,
   "id": "bada0e36",
   "metadata": {},
   "outputs": [],
   "source": [
    "fig, ax = plt.subplots(figsize=(4, 3), dpi=120)\n",
    "variant_classification = data_mutations['Variant_Classification'].value_counts()\n",
    "variant_classification .sort_values().plot(kind = 'barh')\n",
    "ax.set_title('Variant classification')\n",
    "ax.set_xlabel('Count')\n",
    "for container in ax.containers:\n",
    "    ax.bar_label(container)\n",
    "    \n",
    "fig, ax = plt.subplots(figsize=(4, 3), dpi=120)    \n",
    "variant_classification_percentage = variant_classification *100/sum(variant_classification )\n",
    "variant_classification_percentage.sort_values().plot(kind = 'barh')\n",
    "ax.set_xlabel('Percentage')\n",
    "for container in ax.containers:\n",
    "    ax.bar_label(container)"
   ]
  },
  {
   "cell_type": "code",
   "execution_count": null,
   "id": "e11eeba0",
   "metadata": {},
   "outputs": [],
   "source": [
    "fig, ax = plt.subplots(figsize=(4, 3), dpi=150)\n",
    "ax1 = ax.twinx()\n",
    "t_ref_count = data_mutations['t_ref_count']\n",
    "t_ref_count.plot.hist(ax=ax,bins=12, alpha=0.5)\n",
    "t_ref_count.plot.kde(ax=ax1,c='k')\n",
    "ax.set_xlabel('t_ref_count')"
   ]
  },
  {
   "cell_type": "code",
   "execution_count": null,
   "id": "80281b56",
   "metadata": {},
   "outputs": [],
   "source": [
    "print('Mean value of t_ref_count: ', np.mean(t_ref_count))\n",
    "print('Std. dev of t_ref_count: ', np.std(t_ref_count))"
   ]
  },
  {
   "cell_type": "code",
   "execution_count": null,
   "id": "de09ada8",
   "metadata": {},
   "outputs": [],
   "source": [
    "fig, ax = plt.subplots(figsize=(4, 3), dpi=150)\n",
    "ax1 = ax.twinx()\n",
    "t_alt_count = data_mutations['t_alt_count']\n",
    "t_alt_count.plot.hist(ax=ax,bins=12, alpha=0.5)\n",
    "t_alt_count.plot.kde(ax=ax1,c='k')\n",
    "ax.set_xlabel('t_alt_count')"
   ]
  },
  {
   "cell_type": "code",
   "execution_count": null,
   "id": "3aec56e9",
   "metadata": {},
   "outputs": [],
   "source": [
    "print('Mean value of t_alt_count: ', np.mean(t_alt_count))\n",
    "print('Std. dev of t_alt_count: ', np.std(t_alt_count))"
   ]
  },
  {
   "cell_type": "code",
   "execution_count": null,
   "id": "978886e7",
   "metadata": {},
   "outputs": [],
   "source": [
    "data_mutations['Codons'].value_counts()"
   ]
  },
  {
   "cell_type": "markdown",
   "id": "f5c7af10",
   "metadata": {},
   "source": [
    "### EDA of data_SV"
   ]
  },
  {
   "cell_type": "code",
   "execution_count": null,
   "id": "22587148",
   "metadata": {},
   "outputs": [],
   "source": [
    "data_sv.columns"
   ]
  },
  {
   "cell_type": "code",
   "execution_count": null,
   "id": "54cf9534",
   "metadata": {},
   "outputs": [],
   "source": [
    "fig, ax = plt.subplots(figsize=(4, 3), dpi=150)\n",
    "ax1 = ax.twinx()\n",
    "tumor_read_count = data_sv['Tumor_Read_Count']\n",
    "tumor_read_count.plot.hist(ax=ax,bins=12, alpha=0.5)\n",
    "tumor_read_count.plot.kde(ax=ax1,c='k')\n",
    "ax.set_xlabel('Tumor_Read_Count')"
   ]
  },
  {
   "cell_type": "code",
   "execution_count": null,
   "id": "8bdfe05a",
   "metadata": {},
   "outputs": [],
   "source": [
    "print('Mean value of tumor_read_count: ', np.mean(tumor_read_count))\n",
    "print('Std. dev of tumor_read_count: ', np.std(tumor_read_count))"
   ]
  },
  {
   "cell_type": "code",
   "execution_count": null,
   "id": "56b2dfcf",
   "metadata": {},
   "outputs": [],
   "source": [
    "fig, ax = plt.subplots(figsize=(4, 3), dpi=150)\n",
    "ax1 = ax.twinx()\n",
    "tumor_variant_count = data_sv['Tumor_Variant_Count']\n",
    "tumor_variant_count.plot.hist(ax=ax,bins=12, alpha=0.5)\n",
    "tumor_variant_count.plot.kde(ax=ax1,c='k')\n",
    "ax.set_xlabel('Tumor_Variant_Count')"
   ]
  },
  {
   "cell_type": "code",
   "execution_count": null,
   "id": "8d3b05e0",
   "metadata": {},
   "outputs": [],
   "source": [
    "print('Mean value of tumor_variant_count: ', np.mean(tumor_variant_count))\n",
    "print('Std. dev of tumor_variant_count: ', np.std(tumor_variant_count))"
   ]
  },
  {
   "cell_type": "code",
   "execution_count": null,
   "id": "083524aa",
   "metadata": {},
   "outputs": [],
   "source": [
    "fig, ax = plt.subplots(figsize=(4, 3), dpi=120)\n",
    "breakpoint_type = data_sv['Breakpoint_Type'].value_counts()\n",
    "breakpoint_type.sort_values().plot(kind = 'barh')\n",
    "ax.set_title('Breakpoint type')\n",
    "ax.set_xlabel('Count')\n",
    "for container in ax.containers:\n",
    "    ax.bar_label(container)\n",
    "    \n",
    "fig, ax = plt.subplots(figsize=(4, 3), dpi=120)\n",
    "breakpoint_type_percentage = breakpoint_type  *100/sum(breakpoint_type )\n",
    "breakpoint_type_percentage.sort_values().plot(kind = 'barh')\n",
    "ax.set_xlabel('Percentage')\n",
    "for container in ax.containers:\n",
    "    ax.bar_label(container)"
   ]
  },
  {
   "cell_type": "code",
   "execution_count": null,
   "id": "d5f710dc",
   "metadata": {},
   "outputs": [],
   "source": [
    "fig, ax = plt.subplots(figsize=(4, 3), dpi=120)\n",
    "normal_variant_count = data_sv['Normal_Variant_Count'].value_counts()\n",
    "normal_variant_count.sort_values().plot(kind = 'barh')\n",
    "ax.set_title('Normal variant count')\n",
    "ax.set_xlabel('Count')\n",
    "for container in ax.containers:\n",
    "    ax.bar_label(container)\n",
    "    \n",
    "fig, ax = plt.subplots(figsize=(4, 3), dpi=120)   \n",
    "normal_variant_count_percentage = normal_variant_count  *100/sum(normal_variant_count )\n",
    "normal_variant_count_percentage.sort_values().plot(kind = 'barh')\n",
    "ax.set_xlabel('Percentage')\n",
    "for container in ax.containers:\n",
    "    ax.bar_label(container)"
   ]
  },
  {
   "cell_type": "code",
   "execution_count": null,
   "id": "d05b0362",
   "metadata": {},
   "outputs": [],
   "source": [
    "fig, ax = plt.subplots(figsize=(4, 3), dpi=150)\n",
    "ax1 = ax.twinx()\n",
    "sv_length = data_sv['SV_Length']\n",
    "sv_length.plot.hist(ax=ax,bins=12, alpha=0.5)\n",
    "sv_length.plot.kde(ax=ax1,c='k')\n",
    "ax.set_xlabel('SV_Length')"
   ]
  },
  {
   "cell_type": "code",
   "execution_count": null,
   "id": "bedd5471",
   "metadata": {},
   "outputs": [],
   "source": [
    "fig, ax = plt.subplots(figsize=(4, 3), dpi=150)\n",
    "ax1 = ax.twinx()\n",
    "normal_split_read_count = data_sv['Normal_Split_Read_Count']\n",
    "normal_split_read_count.plot.hist(ax=ax,bins=12, alpha=0.5)\n",
    "normal_split_read_count.plot.kde(ax=ax1,c='k')\n",
    "ax.set_xlabel('Normal_Split_Read_Count')"
   ]
  },
  {
   "cell_type": "code",
   "execution_count": null,
   "id": "e611bb9f",
   "metadata": {},
   "outputs": [],
   "source": [
    "fig, ax = plt.subplots(figsize=(4, 3), dpi=150)\n",
    "ax1 = ax.twinx()\n",
    "normal_paired_end_read_count = data_sv['Normal_Paired_End_Read_Count']\n",
    "normal_paired_end_read_count.plot.hist(ax=ax,bins=12, alpha=0.5)\n",
    "normal_paired_end_read_count.plot.kde(ax=ax1,c='k')\n",
    "ax.set_xlabel('Normal_Paired_End_Read_Count')"
   ]
  },
  {
   "cell_type": "code",
   "execution_count": null,
   "id": "b9ad0cf2",
   "metadata": {},
   "outputs": [],
   "source": [
    "fig, ax = plt.subplots(figsize=(4, 3), dpi=150)\n",
    "ax1 = ax.twinx()\n",
    "normal_read_count = data_sv['Normal_Read_Count']\n",
    "normal_read_count.plot.hist(ax=ax,bins=12, alpha=0.5)\n",
    "normal_read_count.plot.kde(ax=ax1,c='k')\n",
    "ax.set_xlabel('Normal_Read_Count')"
   ]
  },
  {
   "cell_type": "code",
   "execution_count": null,
   "id": "a4ae0cc8",
   "metadata": {},
   "outputs": [],
   "source": [
    "fig, ax = plt.subplots(figsize=(4, 3), dpi=120)\n",
    "connection_type = data_sv['Connection_Type'].value_counts()\n",
    "connection_type.sort_values().plot(kind = 'barh')\n",
    "ax.set_title('Connection type')\n",
    "ax.set_xlabel('Count')\n",
    "for container in ax.containers:\n",
    "    ax.bar_label(container)\n",
    "    \n",
    "fig, ax = plt.subplots(figsize=(4, 3), dpi=120)   \n",
    "connection_type_percentage = connection_type*100/sum(connection_type)\n",
    "connection_type_percentage.sort_values().plot(kind = 'barh')\n",
    "ax.set_xlabel('Percentage')\n",
    "for container in ax.containers:\n",
    "    ax.bar_label(container)"
   ]
  },
  {
   "cell_type": "code",
   "execution_count": null,
   "id": "373be0f0",
   "metadata": {},
   "outputs": [],
   "source": [
    "fig, ax = plt.subplots(figsize=(4, 3), dpi=120)\n",
    "class_info = data_sv['Class'].value_counts()\n",
    "class_info.sort_values().plot(kind = 'barh')\n",
    "ax.set_title('Class')\n",
    "ax.set_xlabel('Count')\n",
    "for container in ax.containers:\n",
    "    ax.bar_label(container)\n",
    "    \n",
    "fig, ax = plt.subplots(figsize=(4, 3), dpi=120)   \n",
    "class_info_percentage = class_info*100/sum(class_info)\n",
    "class_info_percentage.sort_values().plot(kind = 'barh')\n",
    "ax.set_xlabel('Percentage')\n",
    "for container in ax.containers:\n",
    "    ax.bar_label(container)"
   ]
  },
  {
   "cell_type": "markdown",
   "id": "0e1149fe",
   "metadata": {},
   "source": [
    "## Summary"
   ]
  },
  {
   "cell_type": "markdown",
   "id": "d880d122",
   "metadata": {},
   "source": [
    "The following features have been explored and plotted from various datasets in the MSK-IMPACT (Memorial Sloan Kettering-Integrated Mutation Profiling of Actionable Cancer Targets) study\n",
    "\n",
    "1. \"Patient's Vital Status\"\n",
    "2. '#Patient Identifier'\n",
    "3. 'Breakpoint_Type'\n",
    "4. 'Cancer Type'\n",
    "5. 'Class'\n",
    "6. 'Codons'\n",
    "7. 'DNA Input'\n",
    "8. 'Fraction Genome Altered'\n",
    "9. 'Matched Status'\n",
    "10. 'Metastatic Site'\n",
    "11. 'Mutation Count'\n",
    "12. 'mutations'\n",
    "13. 'Normal_Paired_End_Read_Count'\n",
    "14. 'Normal_Read_Count'\n",
    "15. 'Normal_Split_Read_Count'\n",
    "16. 'Normal_Variant_Count'\n",
    "17. 'num.mark'\n",
    "18. 'Number of Samples Per Patient'\n",
    "19. 'Overall Survival (Months)'\n",
    "20. 'Overall Survival Status'\n",
    "21. 'Patient ID'\n",
    "22. 'Primary Tumor Site'\n",
    "23. 'Protein_position'\n",
    "24. 'Sample Collection Source'\n",
    "25. 'Sample coverage'\n",
    "26. 'Sample ID'\n",
    "27. 'Sample Type'\n",
    "28. 'seg.mean'\n",
    "29. 'Sex'\n",
    "30. 'Smoking History'\n",
    "31. 'Somatic Status'\n",
    "32. 'Specimen Preservation Type'\n",
    "33. 'Specimen Type'\n",
    "34. 'SV_Length'\n",
    "35. 't_alt_count'\n",
    "36. 't_ref_count'\n",
    "37. 'TMB (nonsynonymous)'\n",
    "38. 'Tumor Purity'\n",
    "39. 'Tumor_Read_Count'\n",
    "40. 'Tumor_Variant_Count'\n",
    "41. 'Variant_Classification'\n",
    "42. 'Variant_Type'\n",
    "43. 'Connection_Type'"
   ]
  },
  {
   "cell_type": "markdown",
   "id": "be20ee5e",
   "metadata": {},
   "source": [
    "### Observations\n",
    "\n",
    "The following observations were made based on the exploratory data analysis\n",
    "\n",
    "1. It can be seen that 71.55% of patients are alive and 28.45% patients are deceased\n",
    "2. 65.04% of samples are collected In-House and 34.96% of samples are collected outside home\n",
    "3. Only one sample is collected from majority (89%) of patients\n",
    "4. 43.23% of samples are that of metastasis stage\n",
    "5. Gender distribution of patients is more or less equal (i.e. 50%-50%)\n",
    "6. More than 82% of specimens are preserved as FFPE blocks\n",
    "7. Most frequenst codon change is Cga/Tga \n",
    "8. Most frequent class in deletion\n",
    "9. Most frequent connection type is 3to5\n",
    "10. Overall Survival Months feature and Cancer type feature has missing values of 25% and 15%. Hence these features can be removed\n",
    "11. Certain features are highly correlated (both positive/negative correlation with each other)\n",
    "13. Density plots of numerical features between target variable shows some disinction between probability density graphs\n",
    "12. Three statistically significant features 'SAMPLE_COVERAGE', 'DNAInput_ng', 'SCNACount' with an alpha level of 0.001 were foundout\n",
    "13. The violion plots of significant features with respect to target variable shows some difference\n",
    "13. There is a good number of outliers (|z-score|>3) among numerical features\n",
    "14. TSNE plot shows some difference between both classes\n",
    "15. A baseline accuracy of 57.94% is expected"
   ]
  },
  {
   "cell_type": "code",
   "execution_count": null,
   "id": "092de225",
   "metadata": {},
   "outputs": [],
   "source": []
  }
 ],
 "metadata": {
  "kernelspec": {
   "display_name": "Python 3 (ipykernel)",
   "language": "python",
   "name": "python3"
  },
  "language_info": {
   "codemirror_mode": {
    "name": "ipython",
    "version": 3
   },
   "file_extension": ".py",
   "mimetype": "text/x-python",
   "name": "python",
   "nbconvert_exporter": "python",
   "pygments_lexer": "ipython3",
   "version": "3.9.12"
  }
 },
 "nbformat": 4,
 "nbformat_minor": 5
}
